{
 "cells": [
  {
   "cell_type": "code",
   "execution_count": 2,
   "metadata": {},
   "outputs": [],
   "source": [
    "import numpy as np\n",
    "import pandas as pd\n",
    "import matplotlib.pyplot as plt\n",
    "import matplotlib.ticker as mtick\n",
    "import seaborn as sns \n",
    "\n",
    "pd.set_option('display.max_columns', None)  \n",
    "pd.set_option('display.max_rows', None)\n",
    "\n"
   ]
  },
  {
   "cell_type": "code",
   "execution_count": 3,
   "metadata": {},
   "outputs": [],
   "source": [
    "SST_df = pd.read_csv('SST_concat.csv')"
   ]
  },
  {
   "cell_type": "markdown",
   "metadata": {},
   "source": [
    "things to do - check discrepency between fix onset and fix offset and fix start time "
   ]
  },
  {
   "cell_type": "code",
   "execution_count": 3,
   "metadata": {},
   "outputs": [],
   "source": [
    "fix_df = SST_df[['NARGUID', 'TrialCode', 'Fix.RESP', 'Fix.RT', 'Fix.Duration', 'Fix.OffsetTime', 'Fix.OnsetTime', 'FixDur']]"
   ]
  },
  {
   "cell_type": "code",
   "execution_count": null,
   "metadata": {},
   "outputs": [],
   "source": [
    "fix_df"
   ]
  },
  {
   "cell_type": "markdown",
   "metadata": {},
   "source": [
    "the differences between Fix.Offset and Fix.Onset has a mean of ~200 \n",
    "and is highly correlated with fix.duration"
   ]
  },
  {
   "cell_type": "markdown",
   "metadata": {},
   "source": [
    "Finish time and Offset time align very closely, only 1-2 ms off. \n",
    "Start time and Onset time don't align as closely"
   ]
  },
  {
   "cell_type": "code",
   "execution_count": 4,
   "metadata": {},
   "outputs": [
    {
     "name": "stdout",
     "output_type": "stream",
     "text": [
      "count    71640.000000\n",
      "mean      1211.007203\n",
      "std        299.619877\n",
      "min        600.000000\n",
      "25%       1006.000000\n",
      "50%       1184.000000\n",
      "75%       1377.000000\n",
      "max       2799.000000\n",
      "Name: Calculated.Duration.Time, dtype: float64\n",
      "count    71640.000000\n",
      "mean      1124.019263\n",
      "std        303.701368\n",
      "min        480.000000\n",
      "25%        944.000000\n",
      "50%       1112.000000\n",
      "75%       1278.000000\n",
      "max       2766.000000\n",
      "Name: Calculated.Duration.Set, dtype: float64\n"
     ]
    },
    {
     "name": "stderr",
     "output_type": "stream",
     "text": [
      "/Users/work/anaconda3/lib/python3.6/site-packages/ipykernel_launcher.py:1: SettingWithCopyWarning: \n",
      "A value is trying to be set on a copy of a slice from a DataFrame.\n",
      "Try using .loc[row_indexer,col_indexer] = value instead\n",
      "\n",
      "See the caveats in the documentation: http://pandas.pydata.org/pandas-docs/stable/user_guide/indexing.html#returning-a-view-versus-a-copy\n",
      "  \"\"\"Entry point for launching an IPython kernel.\n",
      "/Users/work/anaconda3/lib/python3.6/site-packages/ipykernel_launcher.py:2: SettingWithCopyWarning: \n",
      "A value is trying to be set on a copy of a slice from a DataFrame.\n",
      "Try using .loc[row_indexer,col_indexer] = value instead\n",
      "\n",
      "See the caveats in the documentation: http://pandas.pydata.org/pandas-docs/stable/user_guide/indexing.html#returning-a-view-versus-a-copy\n",
      "  \n"
     ]
    },
    {
     "data": {
      "text/plain": [
       "count    71640.000000\n",
       "mean      1334.413065\n",
       "std        313.726460\n",
       "min        700.000000\n",
       "25%       1156.000000\n",
       "50%       1329.000000\n",
       "75%       1495.000000\n",
       "max       2982.000000\n",
       "Name: FixDur, dtype: float64"
      ]
     },
     "execution_count": 4,
     "metadata": {},
     "output_type": "execute_result"
    }
   ],
   "source": [
    "fix_df['Calculated.Duration.Set'] = fix_df['Fix.OffsetTime'] - fix_df['Fix.OnsetTime']\n",
    "fix_df['Calculated.Duration.Time'] = SST_df['Fix.FinishTime'] - SST_df['Fix.StartTime']\n",
    "\n",
    "print(fix_df['Calculated.Duration.Time'].describe())\n",
    "print(fix_df['Calculated.Duration.Set'].describe())\n",
    "fix_df['FixDur'].describe()"
   ]
  },
  {
   "cell_type": "code",
   "execution_count": 5,
   "metadata": {},
   "outputs": [
    {
     "data": {
      "text/plain": [
       "Text(0.5,1,'Length of fixation stimulus display')"
      ]
     },
     "execution_count": 5,
     "metadata": {},
     "output_type": "execute_result"
    },
    {
     "data": {
      "image/png": "[encoded data removed]",
      "text/plain": [
       "<Figure size 432x288 with 1 Axes>"
      ]
     },
     "metadata": {},
     "output_type": "display_data"
    }
   ],
   "source": [
    "plt.hist(fix_df['FixDur'].dropna(), label = 'Eprime Calculation')\n",
    "\n",
    "plt.hist(fix_df['Calculated.Duration.Time'].dropna(), histtype = 'step', label = 'StartTime - FinishTime')\n",
    "plt.hist(fix_df['Calculated.Duration.Set'].dropna(), histtype = 'step', label = 'Onset - Offset')\n",
    "plt.legend()\n",
    "plt.xlabel('Duration calculation in ms')\n",
    "plt.title('Length of fixation stimulus display')"
   ]
  },
  {
   "cell_type": "code",
   "execution_count": 6,
   "metadata": {},
   "outputs": [
    {
     "name": "stdout",
     "output_type": "stream",
     "text": [
      "count    5744.000000\n",
      "mean     1336.367340\n",
      "std       256.433669\n",
      "min       702.000000\n",
      "25%      1170.000000\n",
      "50%      1309.000000\n",
      "75%      1458.000000\n",
      "max      2700.000000\n",
      "Name: FixDur, dtype: float64\n",
      "count    6196.000000\n",
      "mean     1353.047127\n",
      "std       257.609898\n",
      "min       702.000000\n",
      "25%      1203.000000\n",
      "50%      1329.000000\n",
      "75%      1465.000000\n",
      "max      2650.000000\n",
      "Name: FixDur, dtype: float64\n",
      "count    51602.000000\n",
      "mean      1354.994961\n",
      "std        306.587746\n",
      "min        700.000000\n",
      "25%       1182.000000\n",
      "50%       1341.000000\n",
      "75%       1508.000000\n",
      "max       2982.000000\n",
      "Name: FixDur, dtype: float64\n",
      "count    8098.000000\n",
      "mean     1187.617683\n",
      "std       387.118900\n",
      "min       701.000000\n",
      "25%       820.000000\n",
      "50%      1143.000000\n",
      "75%      1475.000000\n",
      "max      2861.000000\n",
      "Name: FixDur, dtype: float64\n"
     ]
    }
   ],
   "source": [
    "print(fix_df[fix_df['TrialCode'] == 'IncorrectStop']['FixDur'].describe())\n",
    "print(fix_df[fix_df['TrialCode'] == 'CorrectStop']['FixDur'].describe())\n",
    "print(fix_df[fix_df['TrialCode'] == 'CorrectGo']['FixDur'].describe())\n",
    "print(fix_df[fix_df['TrialCode'] == 'IncorrectGo']['FixDur'].describe())\n"
   ]
  },
  {
   "cell_type": "markdown",
   "metadata": {},
   "source": [
    "I think this is a degenerate plot "
   ]
  },
  {
   "cell_type": "code",
   "execution_count": 7,
   "metadata": {},
   "outputs": [
    {
     "data": {
      "text/plain": [
       "(array([2844., 1150., 1074., 1580.,  930.,  310.,  126.,   50.,   28.,\n",
       "           6.]),\n",
       " array([ 701.,  917., 1133., 1349., 1565., 1781., 1997., 2213., 2429.,\n",
       "        2645., 2861.]),\n",
       " <a list of 1 Patch objects>)"
      ]
     },
     "execution_count": 7,
     "metadata": {},
     "output_type": "execute_result"
    },
    {
     "data": {
      "image/png": "[encoded data removed]",
      "text/plain": [
       "<Figure size 432x288 with 1 Axes>"
      ]
     },
     "metadata": {},
     "output_type": "display_data"
    }
   ],
   "source": [
    "plt.hist(fix_df[fix_df['TrialCode'] == 'IncorrectStop']['FixDur'], histtype = 'step')\n",
    "plt.hist(fix_df[fix_df['TrialCode'] == 'CorrectGo']['FixDur'], histtype = 'step')\n",
    "plt.hist(fix_df[fix_df['TrialCode'] == 'CorrecttStop']['FixDur'], histtype = 'step')\n",
    "plt.hist(fix_df[fix_df['TrialCode'] == 'IncorrectGo']['FixDur'], histtype = 'step')"
   ]
  },
  {
   "cell_type": "code",
   "execution_count": 11,
   "metadata": {},
   "outputs": [
    {
     "data": {
      "text/plain": [
       "Text(0.5,1.08,'Associations of Different Duration Calculations')"
      ]
     },
     "execution_count": 11,
     "metadata": {},
     "output_type": "execute_result"
    },
    {
     "data": {
      "image/png": "[encoded data removed]",
      "text/plain": [
       "<Figure size 540x540 with 12 Axes>"
      ]
     },
     "metadata": {},
     "output_type": "display_data"
    }
   ],
   "source": [
    "g = sns.pairplot(fix_df[['FixDur', 'Calculated.Duration.Set', 'Calculated.Duration.Time']].dropna() / 1000, \n",
    "              diag_kind=\"kde\", diag_kws=dict(shade=True, bw=.05, vertical=False))\n",
    "g.fig.suptitle(\"Associations of Different Duration Calculations\", y=1.08)"
   ]
  },
  {
   "cell_type": "code",
   "execution_count": 34,
   "metadata": {},
   "outputs": [
    {
     "name": "stdout",
     "output_type": "stream",
     "text": [
      "9PLKGRTV\n",
      "False\n",
      "LZVJ5RNK\n",
      "False\n",
      "GVPPRTDN\n",
      "False\n",
      "TZUEJ54R\n",
      "False\n",
      "G7TMENCV\n",
      "False\n",
      "RJ67E8PE\n",
      "False\n",
      "XAP1L366\n",
      "False\n",
      "P205AX39\n",
      "False\n",
      "RKD7U24Y\n",
      "False\n",
      "N98DVNK8\n",
      "False\n",
      "X3GV1FW0\n",
      "False\n",
      "GVDCETLW\n",
      "False\n",
      "H5RD2CM2\n",
      "False\n",
      "VM0AGJA5\n",
      "False\n",
      "DAF6VRMG\n",
      "False\n",
      "AKPAUM7W\n",
      "False\n",
      "APJKJ5KB\n",
      "False\n",
      "TMRGF3F4\n",
      "False\n",
      "GD3DDK38\n",
      "False\n",
      "AF517NF3\n",
      "False\n",
      "B9J9H4PK\n",
      "False\n",
      "NPNAGWRF\n",
      "False\n",
      "HEABF6E2\n",
      "False\n",
      "BN8Z67UX\n",
      "False\n",
      "N2TF0U03\n",
      "False\n",
      "BLGYX1M4\n",
      "False\n",
      "DD0V\n",
      "False\n",
      "P79AXMBD\n",
      "False\n",
      "DEPBAJ6L\n",
      "False\n",
      "XB938J8E\n",
      "False\n",
      "N98L0THW\n",
      "False\n",
      "B5C9G957\n",
      "False\n",
      "JH22CRH8\n",
      "False\n",
      "B8AV1T7K\n",
      "False\n",
      "U2BFUB9N\n",
      "False\n",
      "GORK2YC\n",
      "False\n",
      "LEND5NH4\n",
      "False\n",
      "TE1J\n",
      "False\n",
      "PATP4RPG\n",
      "False\n",
      "CW8WDA3J\n",
      "False\n",
      "ANEX1Y2H\n",
      "False\n",
      "JT03Z8N3\n",
      "False\n",
      "ZLEFF9ZA\n",
      "False\n",
      "FTJ00JVU\n",
      "False\n",
      "KPF4GFHV\n",
      "False\n",
      "XN6HMGK8\n",
      "False\n",
      "NUNMDE7M\n",
      "False\n",
      "A52LKE4U\n",
      "False\n",
      "TDJD7JZ2\n",
      "False\n",
      "UJTA9MD9\n",
      "False\n",
      "X3PYJZPC\n",
      "False\n",
      "WGXZKM4X\n",
      "False\n",
      "BU9KJZX7\n",
      "False\n",
      "XHEEJUKX\n",
      "False\n",
      "RCW2KYAP\n",
      "False\n",
      "P8CFEA4E\n",
      "False\n",
      "JD8XXLGE\n",
      "False\n",
      "FRT7F0C9\n",
      "False\n",
      "YVJATKX1\n",
      "False\n",
      "HF0XT8CF\n",
      "False\n",
      "LMAAJ8JJ\n",
      "False\n",
      "UH0F2U1W\n",
      "False\n",
      "JPH56X7G\n",
      "False\n",
      "BMMEGVWT\n",
      "False\n",
      "RD5CYYL7\n",
      "False\n",
      "A1MV25KY\n",
      "False\n",
      "R17JHZRJ\n",
      "False\n",
      "MHDDJ00W\n",
      "False\n",
      "E6T95560\n",
      "False\n",
      "AU1UT\n",
      "False\n",
      "F9U3MCN7\n",
      "False\n",
      "X56RV3XT\n",
      "False\n",
      "E29JDT7Y\n",
      "False\n",
      "KTLE69Y8\n",
      "False\n",
      "AKMT4BEA\n",
      "True\n",
      "RAR30NKY\n",
      "False\n",
      "HPU5TKNF\n",
      "False\n",
      "PATH0UC3\n",
      "False\n",
      "46VZ\n",
      "False\n",
      "LXKCG48T\n",
      "False\n",
      "JCAMAY91\n",
      "False\n",
      "TY79VFHF\n",
      "False\n",
      "Z49U1FM4\n",
      "False\n",
      "UYAENUJR\n",
      "False\n",
      "GECVZYV4\n",
      "False\n",
      "EGER8LYM\n",
      "False\n",
      "9R23N8LH\n",
      "False\n",
      "9RUX0DHA\n",
      "False\n",
      "V9Z7KCBE\n",
      "False\n",
      "FPG0VGT4\n",
      "False\n",
      "NM82BUZL\n",
      "False\n",
      "HXHUVGJG\n",
      "False\n",
      "FKFN7X0T\n",
      "False\n",
      "XVRX9PPJ\n",
      "False\n",
      "J4RVF00H\n",
      "False\n",
      "Z4LY1E6P\n",
      "False\n",
      "XFD573YV\n",
      "False\n",
      "D5YA5MWR\n",
      "False\n",
      "A9GJMD11\n",
      "False\n",
      "RL58XM0X\n",
      "False\n"
     ]
    }
   ],
   "source": [
    "for i in SST_df['NARGUID'].unique(): \n",
    "    print(i)\n",
    "    sub_df = SST_df.loc[SST_df['NARGUID'] == i]\n",
    "    num_stops = sub_df['SSD.OnsetToOnsetTime'].isnull()\n",
    "    num_trials = sub_df['Go.OnsetTime'].isnull()\n",
    "   # print(sum(num_trials == False))\n",
    "    print(sum(num_stops == False) != 120)\n",
    "    \n",
    "    #print(len(sub_df['Running[Trial]'].unique()))"
   ]
  },
  {
   "cell_type": "code",
   "execution_count": 39,
   "metadata": {},
   "outputs": [
    {
     "name": "stdout",
     "output_type": "stream",
     "text": [
      "9PLKGRTV\n",
      "0\n",
      "LZVJ5RNK\n",
      "0\n",
      "GVPPRTDN\n",
      "0\n",
      "TZUEJ54R\n",
      "0\n",
      "G7TMENCV\n",
      "0\n",
      "RJ67E8PE\n",
      "0\n",
      "XAP1L366\n",
      "0\n",
      "P205AX39\n",
      "0\n",
      "RKD7U24Y\n",
      "0\n",
      "N98DVNK8\n",
      "0\n",
      "X3GV1FW0\n",
      "0\n",
      "GVDCETLW\n",
      "0\n",
      "H5RD2CM2\n",
      "0\n",
      "VM0AGJA5\n",
      "0\n",
      "DAF6VRMG\n",
      "0\n",
      "AKPAUM7W\n",
      "0\n",
      "APJKJ5KB\n",
      "0\n",
      "TMRGF3F4\n",
      "0\n",
      "GD3DDK38\n",
      "0\n",
      "AF517NF3\n",
      "0\n",
      "B9J9H4PK\n",
      "0\n",
      "NPNAGWRF\n",
      "0\n",
      "HEABF6E2\n",
      "0\n",
      "BN8Z67UX\n",
      "0\n",
      "N2TF0U03\n",
      "0\n",
      "BLGYX1M4\n",
      "0\n",
      "DD0V\n",
      "0\n",
      "P79AXMBD\n",
      "0\n",
      "DEPBAJ6L\n",
      "0\n",
      "XB938J8E\n",
      "0\n",
      "N98L0THW\n",
      "0\n",
      "B5C9G957\n",
      "0\n",
      "JH22CRH8\n",
      "0\n",
      "B8AV1T7K\n",
      "0\n",
      "U2BFUB9N\n",
      "0\n",
      "GORK2YC\n",
      "0\n",
      "LEND5NH4\n",
      "0\n",
      "TE1J\n",
      "0\n",
      "PATP4RPG\n",
      "0\n",
      "CW8WDA3J\n",
      "0\n",
      "ANEX1Y2H\n",
      "0\n",
      "JT03Z8N3\n",
      "0\n",
      "ZLEFF9ZA\n",
      "0\n",
      "FTJ00JVU\n",
      "0\n",
      "KPF4GFHV\n",
      "0\n",
      "XN6HMGK8\n",
      "0\n",
      "NUNMDE7M\n",
      "0\n",
      "A52LKE4U\n",
      "0\n",
      "TDJD7JZ2\n",
      "0\n",
      "UJTA9MD9\n",
      "0\n",
      "X3PYJZPC\n",
      "0\n",
      "WGXZKM4X\n",
      "0\n",
      "BU9KJZX7\n",
      "0\n",
      "XHEEJUKX\n",
      "0\n",
      "RCW2KYAP\n",
      "0\n",
      "P8CFEA4E\n",
      "0\n",
      "JD8XXLGE\n",
      "0\n",
      "FRT7F0C9\n",
      "0\n",
      "YVJATKX1\n",
      "0\n",
      "HF0XT8CF\n",
      "0\n",
      "LMAAJ8JJ\n",
      "0\n",
      "UH0F2U1W\n",
      "0\n",
      "JPH56X7G\n",
      "0\n",
      "BMMEGVWT\n",
      "0\n",
      "RD5CYYL7\n",
      "0\n",
      "A1MV25KY\n",
      "0\n",
      "R17JHZRJ\n",
      "0\n",
      "MHDDJ00W\n",
      "0\n",
      "E6T95560\n",
      "0\n",
      "AU1UT\n",
      "0\n",
      "F9U3MCN7\n",
      "0\n",
      "X56RV3XT\n",
      "0\n",
      "E29JDT7Y\n",
      "0\n",
      "KTLE69Y8\n",
      "0\n",
      "AKMT4BEA\n",
      "0\n",
      "RAR30NKY\n",
      "0\n",
      "HPU5TKNF\n",
      "0\n",
      "PATH0UC3\n",
      "0\n",
      "46VZ\n",
      "0\n",
      "LXKCG48T\n",
      "0\n",
      "JCAMAY91\n",
      "0\n",
      "TY79VFHF\n",
      "0\n",
      "Z49U1FM4\n",
      "0\n",
      "UYAENUJR\n",
      "0\n",
      "GECVZYV4\n",
      "0\n",
      "EGER8LYM\n",
      "0\n",
      "9R23N8LH\n",
      "0\n",
      "9RUX0DHA\n",
      "0\n",
      "V9Z7KCBE\n",
      "0\n",
      "FPG0VGT4\n",
      "0\n",
      "NM82BUZL\n",
      "0\n",
      "HXHUVGJG\n",
      "0\n",
      "FKFN7X0T\n",
      "0\n",
      "XVRX9PPJ\n",
      "0\n",
      "J4RVF00H\n",
      "0\n",
      "Z4LY1E6P\n",
      "0\n",
      "XFD573YV\n",
      "0\n",
      "D5YA5MWR\n",
      "0\n",
      "A9GJMD11\n",
      "0\n",
      "RL58XM0X\n",
      "0\n"
     ]
    }
   ],
   "source": [
    "for i in SST_df['NARGUID'].unique(): \n",
    "    print(i)\n",
    "    sub_df = SST_df.loc[SST_df['NARGUID'] == i]\n",
    "\n",
    "   # print(len(sub_df.loc[sub_df['Procedure[SubTrial]'] =='GoTrial']))\n",
    "    print(len(sub_df.loc[sub_df['TrialCode'] =='StopTooEarly']))    "
   ]
  },
  {
   "cell_type": "code",
   "execution_count": 42,
   "metadata": {},
   "outputs": [
    {
     "data": {
      "text/plain": [
       "SST_SP_20161208                             34038\n",
       "SST_SP_20161208_TWoptimized_Consolidated    19032\n",
       "SST_GE_20161208_TWoptimized_Consolidated    11088\n",
       "SST_Goggles_20161208                         5124\n",
       "SST_20160830                                 2196\n",
       "SST_SP_20170411                              2196\n",
       "Name: ExperimentName, dtype: int64"
      ]
     },
     "execution_count": 42,
     "metadata": {},
     "output_type": "execute_result"
    }
   ],
   "source": [
    "SST_df['ExperimentName'].value_counts()"
   ]
  },
  {
   "cell_type": "code",
   "execution_count": 43,
   "metadata": {},
   "outputs": [
    {
     "data": {
      "text/plain": [
       "73674"
      ]
     },
     "execution_count": 43,
     "metadata": {},
     "output_type": "execute_result"
    }
   ],
   "source": [
    "len(SST_df['ExperimentName'])"
   ]
  },
  {
   "cell_type": "code",
   "execution_count": null,
   "metadata": {},
   "outputs": [],
   "source": []
  }
 ],
 "metadata": {
  "kernelspec": {
   "display_name": "Python 3",
   "language": "python",
   "name": "python3"
  },
  "language_info": {
   "codemirror_mode": {
    "name": "ipython",
    "version": 3
   },
   "file_extension": ".py",
   "mimetype": "text/x-python",
   "name": "python",
   "nbconvert_exporter": "python",
   "pygments_lexer": "ipython3",
   "version": "3.6.5"
  }
 },
 "nbformat": 4,
 "nbformat_minor": 4
}
