{
 "cells": [
  {
   "cell_type": "code",
   "execution_count": 1,
   "metadata": {},
   "outputs": [],
   "source": [
    "import pandas as pd \n",
    "import matplotlib.pyplot as plt\n",
    "import matplotlib.ticker as mtick\n",
    "import numpy as np\n",
    "import math\n",
    "import random \n",
    "from scipy import stats\n",
    "import math "
   ]
  },
  {
   "cell_type": "code",
   "execution_count": 2,
   "metadata": {},
   "outputs": [],
   "source": [
    "#this makes it so that the WHOLE dataframe prints - will crash your browser if used too liberally \n",
    "pd.set_option('display.max_columns', 1000)  # or 1000\n",
    "pd.set_option('display.max_rows', None)  # or 1000\n",
    "pd.set_option('display.max_colwidth', 199)  # or 199"
   ]
  },
  {
   "cell_type": "code",
   "execution_count": 3,
   "metadata": {},
   "outputs": [],
   "source": [
    "random.seed(1)"
   ]
  },
  {
   "cell_type": "markdown",
   "metadata": {},
   "source": [
    "### Load the data"
   ]
  },
  {
   "cell_type": "code",
   "execution_count": 4,
   "metadata": {},
   "outputs": [],
   "source": [
    "#columns that aren't needed \n",
    "drop_cols = ['Unnamed: 0', 'Allowed', 'Subject', 'StudioVersion', \n",
    "             'leftarrow', 'rightarrow', 'triggercode', 'Clock.Information', \n",
    "             'DataFile.Basename', 'Display.RefreshRate', 'Procedure[Block]', \n",
    "             'Procedure[Trial]', 'RandomSeed', 'Running[Block]', \n",
    "             'Running[SubTrial]', 'Running[Trial]', 'RuntimeCapabilities', \n",
    "             'RuntimeVersion', 'RuntimeVersionExpected']\n"
   ]
  },
  {
   "cell_type": "markdown",
   "metadata": {},
   "source": [
    "SST_cleaned_7231.csv is the trial by trial event data that's been run through clean_SST.ipynb"
   ]
  },
  {
   "cell_type": "code",
   "execution_count": 5,
   "metadata": {},
   "outputs": [
    {
     "name": "stderr",
     "output_type": "stream",
     "text": [
      "/Users/work/anaconda3/lib/python3.6/site-packages/IPython/core/interactiveshell.py:2785: DtypeWarning: Columns (3,15,38,82,105,115,116) have mixed types. Specify dtype option on import or set low_memory=False.\n",
      "  interactivity=interactivity, compiler=compiler, result=result)\n"
     ]
    }
   ],
   "source": [
    "SST_concat = pd.read_csv('SST_cleaned_7231.csv').drop(drop_cols, \n",
    "                                                      axis =1)"
   ]
  },
  {
   "cell_type": "markdown",
   "metadata": {},
   "source": [
    "#### A few qa checks: "
   ]
  },
  {
   "cell_type": "code",
   "execution_count": 6,
   "metadata": {},
   "outputs": [
    {
     "data": {
      "text/plain": [
       "0"
      ]
     },
     "execution_count": 6,
     "metadata": {},
     "output_type": "execute_result"
    }
   ],
   "source": [
    "#check these values - they shouldn't be over 1000ms \n",
    "sum(SST_concat['go_stim_duration'] > 1000)"
   ]
  },
  {
   "cell_type": "code",
   "execution_count": 7,
   "metadata": {},
   "outputs": [],
   "source": [
    "#check len of dataframe to make sure it all got loaded \n",
    "assert len(SST_concat) == 2603160"
   ]
  },
  {
   "cell_type": "markdown",
   "metadata": {},
   "source": [
    "### Issue 1:  Different go stimulus duration across \n",
    "\n",
    "##### On go trials, the go Stimulus is displayed for 1000ms, or RT, whichever comes first. On stop trials, the go stimulus is displayed for the duration of the stop signal delay (range: 0ms - 900ms), or RT, whichever comes first. "
   ]
  },
  {
   "cell_type": "code",
   "execution_count": 8,
   "metadata": {},
   "outputs": [],
   "source": [
    "#use groupby method to do computations within participants \n",
    "group_narguid = SST_concat.groupby('NARGUID')"
   ]
  },
  {
   "cell_type": "code",
   "execution_count": 9,
   "metadata": {},
   "outputs": [],
   "source": [
    "narguid_stop_duration = group_narguid.apply(lambda x: \n",
    "                                            np.mean(x.loc[x['trial_type'] == 'StopTrial']\n",
    "                                            ['go_stim_duration']))"
   ]
  },
  {
   "cell_type": "code",
   "execution_count": 10,
   "metadata": {},
   "outputs": [
    {
     "data": {
      "text/plain": [
       "NARGUID\n",
       "003RTV85    314.083333\n",
       "00CY2MDM     71.933333\n",
       "00HEV6HB    161.483333\n",
       "00LJVZK2    235.950000\n",
       "00NPMHND    491.583333\n",
       "00R4TXET    218.333333\n",
       "00UMK5VC    258.633333\n",
       "00X2TBWJ    307.866667\n",
       "010ZM3H9     16.333333\n",
       "0191C80U    159.166667\n",
       "dtype: float64"
      ]
     },
     "execution_count": 10,
     "metadata": {},
     "output_type": "execute_result"
    }
   ],
   "source": [
    "narguid_stop_duration[:10] #preview of a few of these "
   ]
  },
  {
   "cell_type": "code",
   "execution_count": 11,
   "metadata": {},
   "outputs": [],
   "source": [
    "narguid_go_duration = group_narguid.apply(lambda x: \n",
    "                                          np.mean(x.loc[x['trial_type'] == 'GoTrial']['go_stim_duration']))"
   ]
  },
  {
   "cell_type": "code",
   "execution_count": 12,
   "metadata": {},
   "outputs": [
    {
     "data": {
      "text/plain": [
       "NARGUID\n",
       "003RTV85    647.570000\n",
       "00CY2MDM    492.936667\n",
       "00HEV6HB    463.266667\n",
       "00LJVZK2    767.306667\n",
       "00NPMHND    803.490000\n",
       "00R4TXET    493.933333\n",
       "00UMK5VC    580.193333\n",
       "00X2TBWJ    582.603333\n",
       "010ZM3H9    493.036667\n",
       "0191C80U    605.026667\n",
       "dtype: float64"
      ]
     },
     "execution_count": 12,
     "metadata": {},
     "output_type": "execute_result"
    }
   ],
   "source": [
    "narguid_go_duration[:10] #preview "
   ]
  },
  {
   "cell_type": "markdown",
   "metadata": {},
   "source": [
    "##### Figure 2. Histogram of Go Stimulus Durations on Go and Stop Trials"
   ]
  },
  {
   "cell_type": "code",
   "execution_count": 13,
   "metadata": {},
   "outputs": [
    {
     "data": {
      "text/plain": [
       "0.07796524224404186"
      ]
     },
     "execution_count": 13,
     "metadata": {},
     "output_type": "execute_result"
    }
   ],
   "source": [
    "len(SST_concat.loc[(SST_concat['trial_type'] == 'StopTrial') & (SST_concat['go_stim_duration'] == 0)]) / \\\n",
    "    len(SST_concat.loc[SST_concat['trial_type'] == 'StopTrial'])"
   ]
  },
  {
   "cell_type": "code",
   "execution_count": 15,
   "metadata": {},
   "outputs": [
    {
     "data": {
      "image/png": "[encoded data removed]",
      "text/plain": [
       "<Figure size 432x288 with 1 Axes>"
      ]
     },
     "metadata": {},
     "output_type": "display_data"
    }
   ],
   "source": [
    "plt.hist(SST_concat['go_stim_duration'].loc[SST_concat['trial_type'] == 'StopTrial'].dropna(), density=True,\n",
    "          label = \"stop trials\", color = 'grey', bins = 18)\n",
    "plt.xlabel('Go Stimulus Duration (ms)')\n",
    "plt.ylabel('Proportion')\n",
    "\n",
    "plt.hist(SST_concat['go_stim_duration'].loc[SST_concat['trial_type'] == 'GoTrial'].dropna(), density=True,\n",
    "         histtype='step', \n",
    "         label = \"go trials\", color = 'black', bins = 20)\n",
    "leg = plt.legend( loc = 'upper right')\n",
    "plt.draw() \n",
    "plt.tight_layout()\n",
    "ax = plt.gca()\n",
    "# Get the bounding box of the original legend\n",
    "bb = leg.get_bbox_to_anchor().inverse_transformed(ax.transAxes)\n",
    "\n",
    "# change legend - from stackoverflow \n",
    "xOffset = .1\n",
    "bb.x0 -= xOffset\n",
    "bb.x1 -= xOffset\n",
    "leg.set_bbox_to_anchor(bb, transform = ax.transAxes)\n",
    "#edit the ticks so that they integrate over the whole bin \n",
    "mod_ticks = mtick.FuncFormatter(lambda x, pos: '{0:g}'.format(x * 50))\n",
    "ax.yaxis.set_major_formatter(mod_ticks)\n",
    "plt.savefig('go_stim_duration.png')\n",
    "\n",
    "plt.show()"
   ]
  },
  {
   "cell_type": "markdown",
   "metadata": {},
   "source": [
    "Difference of average participant go duration on go trials and stop trials"
   ]
  },
  {
   "cell_type": "code",
   "execution_count": 16,
   "metadata": {},
   "outputs": [
    {
     "data": {
      "text/plain": [
       "340.6331825934649"
      ]
     },
     "execution_count": 16,
     "metadata": {},
     "output_type": "execute_result"
    }
   ],
   "source": [
    "np.mean(narguid_go_duration) - np.mean(narguid_stop_duration)"
   ]
  },
  {
   "cell_type": "markdown",
   "metadata": {},
   "source": [
    "A longer STop Failure RT is "
   ]
  },
  {
   "cell_type": "markdown",
   "metadata": {},
   "source": [
    "let's look at the averages by participant now: "
   ]
  },
  {
   "cell_type": "markdown",
   "metadata": {},
   "source": [
    "##### Comparing stop failure reaction time and overt go response reaction time is a conservative indication of whether context independence, a necessary assumption when modeling stop signal reaction time is being violated.  "
   ]
  },
  {
   "cell_type": "code",
   "execution_count": 17,
   "metadata": {},
   "outputs": [],
   "source": [
    "narguid_average_stop_rt = group_narguid.apply(lambda x: \n",
    "                                                np.mean(x.loc[x['correct_stop'] == 0]['stop_rt_adjusted']))"
   ]
  },
  {
   "cell_type": "code",
   "execution_count": 18,
   "metadata": {},
   "outputs": [
    {
     "name": "stdout",
     "output_type": "stream",
     "text": [
      "stop failure rt: 495.01266545367145\n",
      "sdev: 139.96034292909457\n"
     ]
    }
   ],
   "source": [
    "print('stop failure rt:', np.mean(narguid_average_stop_rt))\n",
    "print('sdev:', np.std(narguid_average_stop_rt))   "
   ]
  },
  {
   "cell_type": "code",
   "execution_count": 19,
   "metadata": {},
   "outputs": [],
   "source": [
    "narguid_average_go_rt = group_narguid.apply(lambda x: np.mean(x.loc[(x['correct_go_response'] != 'omission') \n",
    "                                                                    & (x['trial_type'] == 'GoTrial')]['go_rt_adjusted']))"
   ]
  },
  {
   "cell_type": "code",
   "execution_count": 20,
   "metadata": {},
   "outputs": [
    {
     "name": "stdout",
     "output_type": "stream",
     "text": [
      "overt go response mean: 543.6630781157475\n",
      "sdev: 95.29722256609477\n"
     ]
    }
   ],
   "source": [
    "print('overt go response mean:', np.mean(narguid_average_go_rt))\n",
    "print('sdev:', np.std(narguid_average_go_rt))"
   ]
  },
  {
   "cell_type": "code",
   "execution_count": 21,
   "metadata": {},
   "outputs": [
    {
     "name": "stdout",
     "output_type": "stream",
     "text": [
      "difference beween these: -48.65041266207601\n"
     ]
    }
   ],
   "source": [
    "print('difference beween these:', np.mean(narguid_average_stop_rt) - np.mean(narguid_average_go_rt))"
   ]
  },
  {
   "cell_type": "markdown",
   "metadata": {},
   "source": [
    "##### Compare stop failure rt and go rt within participants: "
   ]
  },
  {
   "cell_type": "code",
   "execution_count": 22,
   "metadata": {},
   "outputs": [
    {
     "name": "stdout",
     "output_type": "stream",
     "text": [
      "1326\n"
     ]
    },
    {
     "data": {
      "text/plain": [
       "0.18337712626192781"
      ]
     },
     "execution_count": 22,
     "metadata": {},
     "output_type": "execute_result"
    }
   ],
   "source": [
    "#get number of participants who have longer stop failure rt\n",
    "print(sum(np.greater(narguid_average_stop_rt, narguid_average_go_rt)))\n",
    "\n",
    "#divide by number of participants\n",
    "sum(np.greater(narguid_average_stop_rt, narguid_average_go_rt)) / len(SST_concat['NARGUID'].unique())"
   ]
  },
  {
   "cell_type": "markdown",
   "metadata": {},
   "source": [
    "##### Another way that shorter go stimulus durations can effect the go process is in the choice response"
   ]
  },
  {
   "cell_type": "code",
   "execution_count": 23,
   "metadata": {},
   "outputs": [],
   "source": [
    "def stop_fail_accuracy(df):\n",
    "    try: \n",
    "        acc = len(df.loc[df['correct_stop_mapping'] == 1]) / len(df.loc[df['correct_stop'] == 0])\n",
    "    except ZeroDivisionError:\n",
    "        acc = np.NaN\n",
    "    return acc                                         "
   ]
  },
  {
   "cell_type": "code",
   "execution_count": 24,
   "metadata": {},
   "outputs": [],
   "source": [
    "#make a dataframe of rts \n",
    "narguid_df = pd.DataFrame({'stop_rt': narguid_average_stop_rt,'go_rt':narguid_average_go_rt})\n",
    "\n",
    "#add accuracies to that dataframe\n",
    "narguid_df['stop_acc'] = np.NaN\n",
    "narguid_df['go_acc'] = np.NaN\n",
    "\n",
    "narguid_df['go_acc'] = group_narguid.apply(lambda x: len(x.loc[x['correct_go_response'] == '1.0']) /\n",
    "                                          len(x.loc[(x['correct_go_response'] != 'omission') & (x['trial_type'] == 'GoTrial')]))\n",
    "\n",
    "narguid_df['stop_acc'] = group_narguid.apply(lambda x: stop_fail_accuracy(x))\n",
    "\n",
    "#if a participant had no stop failures, then they need to be dropped \n",
    "narguid_df = narguid_df.dropna(how='any')"
   ]
  },
  {
   "cell_type": "markdown",
   "metadata": {},
   "source": [
    "calculate CI for the difference between go_rt and stop_rt"
   ]
  },
  {
   "cell_type": "code",
   "execution_count": 25,
   "metadata": {},
   "outputs": [
    {
     "data": {
      "text/plain": [
       "(46.559456555770865, 50.76564197295882)"
      ]
     },
     "execution_count": 25,
     "metadata": {},
     "output_type": "execute_result"
    }
   ],
   "source": [
    "mu = np.mean(narguid_df['go_rt'] - narguid_df['stop_rt'])\n",
    "N = len(narguid_df)\n",
    "sigma = np.std(narguid_df['go_rt'] - narguid_df['stop_rt'])\n",
    "stats.norm.interval(0.95, loc=mu, scale=sigma/math.sqrt(N))\n"
   ]
  },
  {
   "cell_type": "markdown",
   "metadata": {},
   "source": [
    "calculate CI for the difference between stop_acc and go_acc"
   ]
  },
  {
   "cell_type": "code",
   "execution_count": 26,
   "metadata": {},
   "outputs": [
    {
     "data": {
      "text/plain": [
       "(-0.11187416423722574, -0.10639848790163689)"
      ]
     },
     "execution_count": 26,
     "metadata": {},
     "output_type": "execute_result"
    }
   ],
   "source": [
    "mu = np.mean(narguid_df['stop_acc'] - narguid_df['go_acc'])\n",
    "N = len(narguid_df)\n",
    "sigma = np.std(narguid_df['stop_acc'] - narguid_df['go_acc'])\n",
    "stats.norm.interval(.95, loc=mu,scale=sigma/math.sqrt(N))"
   ]
  },
  {
   "cell_type": "markdown",
   "metadata": {},
   "source": [
    "##### choice accuracy across SSDs "
   ]
  },
  {
   "cell_type": "code",
   "execution_count": 27,
   "metadata": {},
   "outputs": [],
   "source": [
    "ssd_acc_df = group_narguid.apply(lambda x: x.groupby('SSDDur').apply(lambda x: stop_fail_accuracy(x))) "
   ]
  },
  {
   "cell_type": "code",
   "execution_count": 28,
   "metadata": {},
   "outputs": [],
   "source": [
    "average_ssd_acc = ssd_acc_df.groupby('SSDDur').apply(lambda x: np.mean(x))"
   ]
  },
  {
   "cell_type": "markdown",
   "metadata": {},
   "source": [
    "##### Figure 3. Choice response accuracy on stop-failure trials across SSD\n"
   ]
  },
  {
   "cell_type": "code",
   "execution_count": 29,
   "metadata": {},
   "outputs": [
    {
     "data": {
      "image/png": "[encoded data removed]",
      "text/plain": [
       "<Figure size 432x288 with 1 Axes>"
      ]
     },
     "metadata": {},
     "output_type": "display_data"
    }
   ],
   "source": [
    "plt.plot(average_ssd_acc.iloc[:-8], color='black')\n",
    "plt.ylim(0, 1)\n",
    "plt.xticks(np.arange(0, 550, 50))\n",
    "plt.ylabel('Accuracy')\n",
    "plt.xlabel('SSD')\n",
    "plt.savefig('accuracy_accross_ssd.png')\n",
    "plt.show()"
   ]
  },
  {
   "cell_type": "markdown",
   "metadata": {},
   "source": [
    "### Issue 2: Go Stimulus sometimes not presented"
   ]
  },
  {
   "cell_type": "markdown",
   "metadata": {},
   "source": [
    "On trials where SSD is 0, the Go stimulus is not presented. "
   ]
  },
  {
   "cell_type": "code",
   "execution_count": 30,
   "metadata": {},
   "outputs": [
    {
     "data": {
      "text/plain": [
       "0.09017194486700779"
      ]
     },
     "execution_count": 30,
     "metadata": {},
     "output_type": "execute_result"
    }
   ],
   "source": [
    "len(SST_concat.loc[SST_concat['SSDDur'] == 0])/\\\n",
    "    len(SST_concat.loc[SST_concat['trial_type'] == 'StopTrial'])"
   ]
  },
  {
   "cell_type": "markdown",
   "metadata": {},
   "source": [
    "The stop accuracy of these should be high, due to the stop process not being handicapped. "
   ]
  },
  {
   "cell_type": "code",
   "execution_count": 31,
   "metadata": {},
   "outputs": [],
   "source": [
    "def zero_SSD_acc(df): \n",
    "    try: \n",
    "        acc = len(df.loc[(df['SSDDur'] == 0) & (df['correct_stop'] == 1.0)]) / len(df.loc[df['SSDDur'] == 0])\n",
    "    except ZeroDivisionError:\n",
    "        acc = np.NaN\n",
    "    \n",
    "    return acc                     "
   ]
  },
  {
   "cell_type": "code",
   "execution_count": 32,
   "metadata": {},
   "outputs": [],
   "source": [
    "zero_acc = group_narguid.apply(lambda x: zero_SSD_acc(x))"
   ]
  },
  {
   "cell_type": "code",
   "execution_count": 33,
   "metadata": {},
   "outputs": [
    {
     "data": {
      "text/plain": [
       "0.6045009332058497"
      ]
     },
     "execution_count": 33,
     "metadata": {},
     "output_type": "execute_result"
    }
   ],
   "source": [
    "np.mean(zero_acc)"
   ]
  },
  {
   "cell_type": "markdown",
   "metadata": {},
   "source": [
    "##### Figure 4. Histogram of Stop-Signal Delays   \n"
   ]
  },
  {
   "cell_type": "code",
   "execution_count": 34,
   "metadata": {},
   "outputs": [
    {
     "data": {
      "image/png": "[encoded data removed]",
      "text/plain": [
       "<Figure size 432x288 with 1 Axes>"
      ]
     },
     "metadata": {},
     "output_type": "display_data"
    }
   ],
   "source": [
    "plt.hist(SST_concat['SSDDur'].dropna(), bins = len(SST_concat['SSDDur'].dropna().unique()), color='grey')\n",
    "plt.xlabel('ms') #fix xlabel, ylabel \n",
    "#plt.title('Distribution of Stop Signal Delays')\n",
    "plt.ylabel('Count')\n",
    "#plt.axvline(x=mean_SSD, color = 'r', label = \"mean SSD\")\n",
    "#plt.legend()\n",
    "plt.savefig('stop_signal_duration_hist.png')\n",
    "plt.show() #needs error bars "
   ]
  },
  {
   "cell_type": "markdown",
   "metadata": {},
   "source": [
    "### Issue 3: Faulty stop-signal delays\n",
    "\n",
    "If a response faster than 50ms is made on a trial where SSD is 50, then all following stop trials will have that RT and be stop failure trials. "
   ]
  },
  {
   "cell_type": "code",
   "execution_count": 35,
   "metadata": {},
   "outputs": [],
   "source": [
    "#uncomment to look at the relevant columns \n",
    "# SST_concat.loc[(SST_concat['SSD.RT'] < 100) & (SST_concat['SSD.RT'] > 0) & (SST_concat['SSDDur'] <=50)]\\\n",
    "#      [['NARGUID', 'TrialNum', 'SSD.RT', 'SSD.RESP', 'SSDDur' ]]"
   ]
  },
  {
   "cell_type": "code",
   "execution_count": 36,
   "metadata": {},
   "outputs": [],
   "source": [
    "SSD_bug = SST_concat.loc[(SST_concat['SSD.RT'] < 50) & (SST_concat['SSD.RT'] > 0) & (SST_concat['SSDDur'] <=50)]['NARGUID']# \\"
   ]
  },
  {
   "cell_type": "code",
   "execution_count": 37,
   "metadata": {},
   "outputs": [],
   "source": [
    "#uncomment to print to a csv and view \n",
    "# pd.DataFrame(SSD_bug.unique()).to_csv('SSD_bug.csv')"
   ]
  },
  {
   "cell_type": "code",
   "execution_count": 38,
   "metadata": {},
   "outputs": [
    {
     "data": {
      "text/plain": [
       "0.027243811367722307"
      ]
     },
     "execution_count": 38,
     "metadata": {},
     "output_type": "execute_result"
    }
   ],
   "source": [
    "len(SSD_bug.unique())/ 7231  #percent of subjects with this issue "
   ]
  },
  {
   "cell_type": "code",
   "execution_count": 39,
   "metadata": {},
   "outputs": [
    {
     "data": {
      "text/plain": [
       "0.0021101276909602177"
      ]
     },
     "execution_count": 39,
     "metadata": {},
     "output_type": "execute_result"
    }
   ],
   "source": [
    "len(SSD_bug) / len(SST_concat) #percent of trials this impacts "
   ]
  },
  {
   "cell_type": "code",
   "execution_count": 40,
   "metadata": {},
   "outputs": [],
   "source": [
    "#drops the prob narguids and regroups by SSD\n",
    "drop_zero_ssd_group = SST_concat.set_index('NARGUID').drop(SSD_bug.unique()).groupby('NARGUID')"
   ]
  },
  {
   "cell_type": "markdown",
   "metadata": {},
   "source": [
    "Recalculate accuracy with these subjects dropped "
   ]
  },
  {
   "cell_type": "code",
   "execution_count": 41,
   "metadata": {},
   "outputs": [],
   "source": [
    "drop_zero_acc = drop_zero_ssd_group.apply(lambda x: zero_SSD_acc(x))"
   ]
  },
  {
   "cell_type": "code",
   "execution_count": 42,
   "metadata": {},
   "outputs": [
    {
     "data": {
      "text/plain": [
       "0.6311580931217083"
      ]
     },
     "execution_count": 42,
     "metadata": {},
     "output_type": "execute_result"
    }
   ],
   "source": [
    "np.mean(drop_zero_acc)"
   ]
  },
  {
   "cell_type": "markdown",
   "metadata": {},
   "source": [
    "### Issue 4: Different stop signal stimulus duration for different SSDs"
   ]
  },
  {
   "cell_type": "markdown",
   "metadata": {},
   "source": [
    "Stop signal stimulus duration persists for 300ms, unless the go stimulus was presented for over 700 ms, in which case it's presented for 1000 - go stimulus duration, leading to differences in the duration of the stop signal stimulus across SSDs. "
   ]
  },
  {
   "cell_type": "code",
   "execution_count": 43,
   "metadata": {},
   "outputs": [
    {
     "data": {
      "text/plain": [
       "0.008309131978057438"
      ]
     },
     "execution_count": 43,
     "metadata": {},
     "output_type": "execute_result"
    }
   ],
   "source": [
    "len(SST_concat.loc[SST_concat['SSDDur'] > 700]) / len(SST_concat.loc[SST_concat['trial_type'] =='StopTrial'])"
   ]
  },
  {
   "cell_type": "markdown",
   "metadata": {},
   "source": [
    "### Issue 5: Non-uniform conditional trial probabilities"
   ]
  },
  {
   "cell_type": "markdown",
   "metadata": {},
   "source": [
    "The probability of a stop signal is not uniform, and stop trials never occur back to back, and rarely appear with one go trial in between. "
   ]
  },
  {
   "cell_type": "markdown",
   "metadata": {},
   "source": [
    "create random distribution where p(stop) = .167"
   ]
  },
  {
   "cell_type": "markdown",
   "metadata": {},
   "source": [
    "##### Figure 5. The probability of different numbers of intervening go trials between successive stop trials in the ABCD dataset (dark shading) versus expected probability distribution if stop trials were randomly presented (light shading)."
   ]
  },
  {
   "cell_type": "code",
   "execution_count": 44,
   "metadata": {},
   "outputs": [],
   "source": [
    "x = np.arange(0,50, 1)\n",
    "def my_dist(i):\n",
    "    i = (1/6) * (5/6)**(i)\n",
    "    return(i)\n",
    "p = my_dist(x)\n",
    "p_norm = p/np.sum(p)  # norm to sum=1\n",
    "nsamples = 1000000\n",
    "from scipy.stats import rv_discrete\n",
    "rv = rv_discrete(values=(x, p_norm))\n",
    "p_samp = rv.rvs(size=nsamples)"
   ]
  },
  {
   "cell_type": "code",
   "execution_count": 45,
   "metadata": {},
   "outputs": [],
   "source": [
    "stop_prob_index = SST_concat.loc[(SST_concat['StopTrial'] !=1) & (SST_concat['StopTrial'] !=31)].index"
   ]
  },
  {
   "cell_type": "code",
   "execution_count": 46,
   "metadata": {},
   "outputs": [
    {
     "data": {
      "image/png": "[encoded data removed]",
      "text/plain": [
       "<Figure size 432x288 with 1 Axes>"
      ]
     },
     "metadata": {},
     "output_type": "display_data"
    }
   ],
   "source": [
    "plt.hist(SST_concat['Stop_nback'].loc[stop_prob_index].dropna(), density = True, bins = 20, label = 'ABCD', color = 'black')\n",
    "p_norm = p/np.sum(p)  # norm to sum=1\n",
    "h = np.histogram(p_samp, bins = x, density=True)\n",
    "plt.bar(h[1][:20],h[0][:20] , label = 'exponential random', alpha=0.5,width=1)\n",
    "plt.xlabel('Number of Intervening Go Trials in Between Stop Trials')\n",
    "plt.ylabel('Probability')\n",
    "plt.xticks(np.arange(0, 21, step=1))\n",
    "plt.legend()\n",
    "plt.savefig('conditional_probability.png')\n",
    "plt.show()\n"
   ]
  },
  {
   "cell_type": "markdown",
   "metadata": {},
   "source": [
    "conditional probability of a stop signal, given a stop signal occured two trials ago"
   ]
  },
  {
   "cell_type": "code",
   "execution_count": 47,
   "metadata": {},
   "outputs": [],
   "source": [
    "def mean_nback(df, num_back): \n",
    "    stop_prob_index = df.loc[(df['StopTrial'] !=1) & (df['StopTrial'] !=31)].index\n",
    "    df = df.loc[stop_prob_index]\n",
    "    nback_proportion =len(df.loc[df['Stop_nback'] == num_back]) / len(df.loc[df['trial_type'] == 'StopTrial'])\n",
    "    return nback_proportion"
   ]
  },
  {
   "cell_type": "code",
   "execution_count": 48,
   "metadata": {},
   "outputs": [
    {
     "data": {
      "text/plain": [
       "0.018030605773036296"
      ]
     },
     "execution_count": 48,
     "metadata": {},
     "output_type": "execute_result"
    }
   ],
   "source": [
    "mean_one_nback = group_narguid.apply(lambda x: mean_nback(x, 1))\n",
    "np.mean(mean_one_nback)"
   ]
  },
  {
   "cell_type": "code",
   "execution_count": 49,
   "metadata": {},
   "outputs": [
    {
     "data": {
      "text/plain": [
       "0.0"
      ]
     },
     "execution_count": 49,
     "metadata": {},
     "output_type": "execute_result"
    }
   ],
   "source": [
    "#how many trials exist \n",
    "mean_zero_back = group_narguid.apply(lambda x: mean_nback(x, 0))\n",
    "np.mean(mean_zero_back)"
   ]
  },
  {
   "cell_type": "code",
   "execution_count": 50,
   "metadata": {},
   "outputs": [
    {
     "name": "stdout",
     "output_type": "stream",
     "text": [
      "percent of trials with stop signals sepreated by one go trial: 0.021472364357165905\n"
     ]
    }
   ],
   "source": [
    "one_back = SST_concat.loc[SST_concat['Stop_nback'] == 1] #stop nback in this case \n",
    "stop_nback = SST_concat.loc[~SST_concat['Stop_nback'].isnull()]['Stop_nback']\n",
    "print(\"percent of trials with stop signals sepreated by one go trial:\", len(one_back) / len(SST_concat.loc[SST_concat['trial_type'] == 'StopTrial'] )) \n",
    "#this num changed when re-ran with better indexing for selecting stop trials "
   ]
  },
  {
   "cell_type": "code",
   "execution_count": 51,
   "metadata": {},
   "outputs": [],
   "source": [
    "def calc_post_stop_slowing(df): \n",
    "    \"\"\"\n",
    "    1. calculates stop signal slowing for all trials \n",
    "    2. bins into quartiles \n",
    "    3. returns mean quartile signal slowing\n",
    "    \n",
    "    excludes  triplets that are seperated by sessions\n",
    "    excludes triplets where there was an incorrect go choice response  for either go trial\n",
    "    excludes triplets where there was an ommission go trial for either go trial\n",
    "    \"\"\"\n",
    "    stop_slowing_df = pd.DataFrame()\n",
    "\n",
    "    stop_mask = df.loc[df['trial_type'] == 'StopTrial']\n",
    "    stop_idx = stop_mask[stop_mask == True].index\n",
    "\n",
    "    df['correct_go_response'].replace('omission', np.NaN, inplace=True)\n",
    "    df['correct_go_response'].replace('0.0', np.NaN, inplace=True)\n",
    "    #get the pre-stop rt\n",
    "    stop_slowing_df['StopTrial'] = df['StopTrial'][stop_idx]\n",
    "    stop_slowing_df['TrialNum'] = df['TrialNum'][stop_idx]    \n",
    "\n",
    "    stop_slowing_df['pre_stop_rt'] = np.array(df['go_rt_adjusted'].loc[stop_idx - 1]) #find trial before stop signal\n",
    "    stop_slowing_df['pre_stop_acc'] = np.array(df['correct_go_response'].loc[stop_idx - 1]) #find trial before stop signal\n",
    "\n",
    "\n",
    "    stop_slowing_df['post_stop_acc'] = np.array(df['correct_go_response'].loc[stop_idx + 1]) #find trial after\n",
    "    stop_slowing_df['post_stop_rt'] = np.array(df['go_rt_adjusted'].loc[stop_idx + 1]) #find trial after\n",
    "    stop_slowing_df['post_minus_pre'] = stop_slowing_df['post_stop_rt'] - stop_slowing_df['pre_stop_rt']\n",
    "    \n",
    "    #trial num 1 is left out because that triplet wouldn't have a pre-stop go trial\n",
    "    first_quartile_mean = np.mean(stop_slowing_df.iloc[:15].loc[(stop_slowing_df['TrialNum'] != 1)].dropna(how='any')['post_minus_pre'])\n",
    "    #trial num 180 is left out because that triplet wouldn't have a post-stop go trial \n",
    "    second_quartile_mean = np.mean(stop_slowing_df.iloc[15:30].loc[(stop_slowing_df['TrialNum'] != 180)].dropna(how='any')['post_minus_pre'])\n",
    "    #trial num 180 and 181 are left out \n",
    "    third_quartile_mean = np.mean(stop_slowing_df.iloc[30:45].loc[(stop_slowing_df['TrialNum'] != 180) & (stop_slowing_df['TrialNum'] != 181)].dropna(how='any')['post_minus_pre'])\n",
    "    #trial 360 is left out \n",
    "    fourth_quartile_mean = np.mean(stop_slowing_df.loc[(stop_slowing_df['TrialNum'] != 360)].iloc[45:60].dropna(how='any')['post_minus_pre'])\n",
    " \n",
    "    quartile_list =[first_quartile_mean, second_quartile_mean, third_quartile_mean, fourth_quartile_mean]\n",
    " #below is useful for debugging, but otherwise slows down the code \n",
    "    #     trial_list = [len(stop_slowing_df.iloc[:15].loc[(stop_slowing_df['TrialNum'] != 1)].dropna(how='any')['post_minus_pre']),\n",
    "#                   len(stop_slowing_df.iloc[15:30].loc[(stop_slowing_df['TrialNum'] != 180)].dropna(how='any')['post_minus_pre']),\n",
    "#                  len(stop_slowing_df.iloc[30:45].loc[(stop_slowing_df['TrialNum'] != 180) & (stop_slowing_df['TrialNum'] != 181)].dropna(how='any')['post_minus_pre']),\n",
    "#                  len(stop_slowing_df.loc[(stop_slowing_df['TrialNum'] != 360)].iloc[45:60].dropna(how='any')['post_minus_pre'])]\n",
    "\n",
    "    return quartile_list #, trial_list"
   ]
  },
  {
   "cell_type": "code",
   "execution_count": 52,
   "metadata": {},
   "outputs": [
    {
     "name": "stderr",
     "output_type": "stream",
     "text": [
      "/Users/work/anaconda3/lib/python3.6/site-packages/ipykernel_launcher.py:26: FutureWarning: \n",
      "Passing list-likes to .loc or [] with any missing label will raise\n",
      "KeyError in the future, you can use .reindex() as an alternative.\n",
      "\n",
      "See the documentation here:\n",
      "https://pandas.pydata.org/pandas-docs/stable/user_guide/indexing.html#deprecate-loc-reindex-listlike\n",
      "/Users/work/anaconda3/lib/python3.6/site-packages/ipykernel_launcher.py:27: FutureWarning: \n",
      "Passing list-likes to .loc or [] with any missing label will raise\n",
      "KeyError in the future, you can use .reindex() as an alternative.\n",
      "\n",
      "See the documentation here:\n",
      "https://pandas.pydata.org/pandas-docs/stable/user_guide/indexing.html#deprecate-loc-reindex-listlike\n"
     ]
    }
   ],
   "source": [
    "#this takes ~10 minutes to run \n",
    "quartile = group_narguid.apply(lambda x: calc_post_stop_slowing(x))"
   ]
  },
  {
   "cell_type": "code",
   "execution_count": 53,
   "metadata": {},
   "outputs": [],
   "source": [
    "## this makes quartile to a dataframe and saves it - helpful if you accidently change quartile\n",
    "quartile_df = pd.DataFrame(quartile)\n",
    "quartile_df.columns = ['quartile_list']\n",
    "quartile_df = pd.DataFrame(quartile_df.quartile_list.tolist(), index=quartile_df.index)\n",
    "quartile_df.columns = ['quartile_1', 'quartile_2', 'quartile_3', 'quartile_4']\n",
    "quartile_df.to_csv('quartile_df.csv')"
   ]
  },
  {
   "cell_type": "code",
   "execution_count": 54,
   "metadata": {},
   "outputs": [],
   "source": [
    "#take means of means \n",
    "post_stop_means = [np.nanmean(quartile_df['quartile_1']), np.nanmean(quartile_df['quartile_2']), \n",
    "                            np.nanmean(quartile_df['quartile_3']), np.nanmean(quartile_df['quartile_4'])]"
   ]
  },
  {
   "cell_type": "code",
   "execution_count": 55,
   "metadata": {},
   "outputs": [],
   "source": [
    "#calc SEM for error bars \n",
    "post_stop_sem = [stats.sem(quartile_df['quartile_1'], nan_policy='omit'), stats.sem(quartile_df['quartile_2'], nan_policy='omit'), \n",
    "                 stats.sem(quartile_df['quartile_3'], nan_policy='omit'), stats.sem(quartile_df['quartile_4'], nan_policy='omit')]"
   ]
  },
  {
   "cell_type": "markdown",
   "metadata": {},
   "source": [
    "##### Figure 6. Post-stop-signal slowing across the four quantiles of the ABCD stopping data. \n"
   ]
  },
  {
   "cell_type": "code",
   "execution_count": 56,
   "metadata": {},
   "outputs": [
    {
     "data": {
      "image/png": "[encoded data removed]",
      "text/plain": [
       "<Figure size 432x288 with 1 Axes>"
      ]
     },
     "metadata": {},
     "output_type": "display_data"
    }
   ],
   "source": [
    "plt.errorbar(np.arange(1, 5, 1), post_stop_means, \n",
    "             yerr=[1.96 * i for i in post_stop_sem], color='black') \n",
    "#plt.title('Post-Stop-Trial Slowing')\n",
    "plt.ylabel('Post-Stop-Signal Slowing (ms)')\n",
    "plt.xlabel('Task Quartile')\n",
    "plt.xticks([1, 2, 3, 4])\n",
    "plt.yticks(np.arange(0,60,5))\n",
    "plt.savefig('task_quartile_slowing.png')\n",
    "plt.show() #needs error bars?  \n"
   ]
  },
  {
   "cell_type": "markdown",
   "metadata": {},
   "source": [
    "### Issue 6: Trial accuracy incorrectly coded"
   ]
  },
  {
   "cell_type": "markdown",
   "metadata": {},
   "source": [
    "There are some trials thave have the incorrect coding in TrialCode, and other accuracy columns. "
   ]
  },
  {
   "cell_type": "code",
   "execution_count": 72,
   "metadata": {},
   "outputs": [
    {
     "name": "stderr",
     "output_type": "stream",
     "text": [
      "/Users/work/anaconda3/lib/python3.6/site-packages/pandas/core/ops/__init__.py:1115: FutureWarning: elementwise comparison failed; returning scalar instead, but in the future will perform elementwise comparison\n",
      "  result = method(y)\n"
     ]
    },
    {
     "data": {
      "text/plain": [
       "0"
      ]
     },
     "execution_count": 72,
     "metadata": {},
     "output_type": "execute_result"
    }
   ],
   "source": [
    "len(SST_concat.loc[(SST_concat['correct_stop'] == '1.0') & (SST_concat['TrialCode'] == 'IncorrectStop')])"
   ]
  },
  {
   "cell_type": "code",
   "execution_count": 75,
   "metadata": {},
   "outputs": [
    {
     "data": {
      "text/plain": [
       "49546"
      ]
     },
     "execution_count": 75,
     "metadata": {},
     "output_type": "execute_result"
    }
   ],
   "source": [
    "len(SST_concat.loc[(SST_concat['correct_go_response'] == '0.0') & (SST_concat['TrialCode'] == 'CorrectGo')])"
   ]
  },
  {
   "cell_type": "code",
   "execution_count": 76,
   "metadata": {},
   "outputs": [
    {
     "data": {
      "text/plain": [
       "10"
      ]
     },
     "execution_count": 76,
     "metadata": {},
     "output_type": "execute_result"
    }
   ],
   "source": [
    "len(SST_concat.loc[(SST_concat['correct_go_response'] == '1.0') & (SST_concat['TrialCode'] == 'IncorrectGo')] ) "
   ]
  },
  {
   "cell_type": "code",
   "execution_count": 78,
   "metadata": {},
   "outputs": [
    {
     "data": {
      "text/plain": [
       "911"
      ]
     },
     "execution_count": 78,
     "metadata": {},
     "output_type": "execute_result"
    }
   ],
   "source": [
    "len(SST_concat.loc[(SST_concat['correct_stop'] == 0) & (SST_concat['TrialCode'] == 'CorrectStop')])"
   ]
  },
  {
   "cell_type": "markdown",
   "metadata": {},
   "source": [
    "### Issue 7: SSD values start too short \n",
    "\n",
    "SSD always start at 50ms, and it takes several trials to stabilize with a staircase tracking procedure. "
   ]
  },
  {
   "cell_type": "code",
   "execution_count": 58,
   "metadata": {},
   "outputs": [
    {
     "data": {
      "text/plain": [
       "array([50.])"
      ]
     },
     "execution_count": 58,
     "metadata": {},
     "output_type": "execute_result"
    }
   ],
   "source": [
    "SST_concat.loc[SST_concat['StopTrial'] == 1]['SSDDur'].unique()"
   ]
  },
  {
   "cell_type": "code",
   "execution_count": 59,
   "metadata": {},
   "outputs": [],
   "source": [
    "#create a df with accuracy and ssd for each stop trial num \n",
    "num_stop = []\n",
    "accuracy = [] \n",
    "mean_ssd = [] \n",
    "for i in np.arange(1, 61): \n",
    "    correct = SST_concat.loc[SST_concat['StopTrial'] ==i]['correct_stop'].value_counts()[1]\n",
    "    acc = correct / len(SST_concat.loc[SST_concat['StopTrial'] ==i])\n",
    "    ssd = np.mean(SST_concat.loc[SST_concat['StopTrial'] == i]['SSDDur'])\n",
    " \n",
    "    num_stop.append(i)\n",
    "    accuracy.append(acc)\n",
    "    mean_ssd.append(ssd)\n",
    "    \n",
    "acc_df = pd.DataFrame() \n",
    "acc_df['StopTrial'] = num_stop \n",
    "acc_df['Accuracy'] = accuracy\n",
    "acc_df['SSD'] = mean_ssd"
   ]
  },
  {
   "cell_type": "markdown",
   "metadata": {},
   "source": [
    "####  Figure 7: Average stop-signal accuracy (a) and stop-signal delay (SSD, b) across subjects for each of the 60 stop trials.\n"
   ]
  },
  {
   "cell_type": "code",
   "execution_count": 60,
   "metadata": {
    "jupyter": {
     "source_hidden": true
    }
   },
   "outputs": [
    {
     "data": {
      "image/png": "[encoded data removed]",
      "text/plain": [
       "<Figure size 432x288 with 1 Axes>"
      ]
     },
     "metadata": {},
     "output_type": "display_data"
    }
   ],
   "source": [
    "plt.plot(acc_df['StopTrial'][:30], acc_df['Accuracy'][:30], color='black')\n",
    "plt.plot(acc_df['StopTrial'][30:], acc_df['Accuracy'][30:], color='black')\n",
    "\n",
    "plt.xlabel('Stop Trial')\n",
    "plt.ylabel('Stop Signal Accuracy')\n",
    "#plt.title('Stop Signal Accuracy by Number of Stop Trial')\n",
    "#plt.axvline(x=30.5, color = 'grey', alpha = 1.0, lw=1.0, ls='--')\n",
    "plt.yticks(np.arange(0,1.1, .1))\n",
    "plt.xticks(np.arange(0,61,5))\n",
    "plt.savefig('stop_signal_accuracy_across_stop_trial.png')\n",
    "plt.show() #needs error bars \n"
   ]
  },
  {
   "cell_type": "code",
   "execution_count": 61,
   "metadata": {
    "jupyter": {
     "source_hidden": true
    }
   },
   "outputs": [
    {
     "data": {
      "image/png": "[encoded data removed]",
      "text/plain": [
       "<Figure size 432x288 with 1 Axes>"
      ]
     },
     "metadata": {},
     "output_type": "display_data"
    }
   ],
   "source": [
    "plt.plot(acc_df['StopTrial'][:30], acc_df['SSD'][:30], color='black')\n",
    "plt.plot(acc_df['StopTrial'][30:], acc_df['SSD'][30:], color='black')\n",
    "\n",
    "plt.xlabel('Stop Trial')\n",
    "plt.ylabel('Stop Signal Delay')\n",
    "#plt.title('Stop Signal Accuracy by Number of Stop Trial')\n",
    "#plt.axvline(x=30.5, color = 'grey', alpha = 1.0, lw=1.0, ls='--')\n",
    "plt.xticks(np.arange(0,61,5))\n",
    "plt.yticks(np.arange(0, 350, 50))\n",
    "plt.savefig('ssd_across_stop_trial.png')\n",
    "plt.show()\n"
   ]
  },
  {
   "cell_type": "markdown",
   "metadata": {},
   "source": [
    "#### Issue 8: Low stop probability \n",
    "\n",
    "The probabilty of a stop trial is .167. "
   ]
  },
  {
   "cell_type": "code",
   "execution_count": 62,
   "metadata": {},
   "outputs": [
    {
     "data": {
      "text/plain": [
       "0.16666666666666666"
      ]
     },
     "execution_count": 62,
     "metadata": {},
     "output_type": "execute_result"
    }
   ],
   "source": [
    "len(SST_concat.loc[SST_concat['trial_type'] == 'StopTrial'])/ len(SST_concat)"
   ]
  }
 ],
 "metadata": {
  "kernelspec": {
   "display_name": "Python 3",
   "language": "python",
   "name": "python3"
  },
  "language_info": {
   "codemirror_mode": {
    "name": "ipython",
    "version": 3
   },
   "file_extension": ".py",
   "mimetype": "text/x-python",
   "name": "python",
   "nbconvert_exporter": "python",
   "pygments_lexer": "ipython3",
   "version": "3.6.5"
  }
 },
 "nbformat": 4,
 "nbformat_minor": 4
}
