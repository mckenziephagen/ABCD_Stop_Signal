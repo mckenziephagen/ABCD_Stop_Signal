{
 "cells": [
  {
   "cell_type": "code",
   "execution_count": 265,
   "metadata": {},
   "outputs": [],
   "source": [
    "import pandas as pd \n",
    "import matplotlib.pyplot as plt\n",
    "import matplotlib.ticker as mtick\n",
    "import numpy as np\n",
    "import math\n",
    "import random \n",
    "from scipy import stats\n",
    "import math \n",
    "import seaborn as sns \n",
    "import astropy.stats\n",
    "import statistics"
   ]
  },
  {
   "cell_type": "code",
   "execution_count": 266,
   "metadata": {},
   "outputs": [],
   "source": [
    "#this makes it so that the WHOLE dataframe prints - will crash your browser if used too liberally \n",
    "pd.set_option('display.max_columns', 1000)  # or 1000\n",
    "pd.set_option('display.max_rows', 10000)  # or 1000\n",
    "pd.set_option('display.max_colwidth', 199)  # or 199"
   ]
  },
  {
   "cell_type": "code",
   "execution_count": 267,
   "metadata": {},
   "outputs": [],
   "source": [
    "random.seed(1)"
   ]
  },
  {
   "cell_type": "markdown",
   "metadata": {},
   "source": [
    "#### Load the data"
   ]
  },
  {
   "cell_type": "code",
   "execution_count": 268,
   "metadata": {},
   "outputs": [],
   "source": [
    "#columns that aren't needed \n",
    "drop_cols = ['Unnamed: 0', 'Allowed', 'Subject', 'StudioVersion', \n",
    "             'leftarrow', 'rightarrow', 'triggercode', 'Clock.Information', \n",
    "             'DataFile.Basename', 'Display.RefreshRate', 'Procedure[Block]', \n",
    "             'Procedure[Trial]', 'RandomSeed', 'Running[Block]', \n",
    "             'Running[SubTrial]', 'Running[Trial]', 'RuntimeCapabilities', \n",
    "             'RuntimeVersion', 'RuntimeVersionExpected']\n"
   ]
  },
  {
   "cell_type": "code",
   "execution_count": 269,
   "metadata": {},
   "outputs": [],
   "source": [
    "SST_concat = pd.read_csv('SST_cleaned_8464_all_rows_all_columns_switch_jan19.csv')"
   ]
  },
  {
   "cell_type": "markdown",
   "metadata": {},
   "source": [
    "#### A few qa checks: "
   ]
  },
  {
   "cell_type": "markdown",
   "metadata": {},
   "source": [
    "### Issue 1:  Different go stimulus duration across \n",
    "\n",
    "##### On go trials, the go Stimulus is displayed for 1000ms, or RT, whichever comes first. On stop trials, the go stimulus is displayed for the duration of the stop signal delay (range: 0ms - 900ms), or RT, whichever comes first. "
   ]
  },
  {
   "cell_type": "code",
   "execution_count": 272,
   "metadata": {},
   "outputs": [],
   "source": [
    "#use groupby method to do computations within participants \n",
    "group_narguid = SST_concat.groupby('NARGUID')"
   ]
  },
  {
   "cell_type": "code",
   "execution_count": 273,
   "metadata": {},
   "outputs": [],
   "source": [
    "narguid_stop_duration = group_narguid.apply(lambda x: \n",
    "                                            np.mean(x.loc[x['trial_type'] == 'StopTrial']\n",
    "                                            ['go_stim_duration']))"
   ]
  },
  {
   "cell_type": "code",
   "execution_count": 274,
   "metadata": {},
   "outputs": [
    {
     "data": {
      "text/plain": [
       "NARGUID\n",
       "003RTV85    314.083333\n",
       "007W6H7B    408.250000\n",
       "00CY2MDM     71.933333\n",
       "00HEV6HB    161.483333\n",
       "00J52GPG     53.333333\n",
       "00LJVZK2    235.950000\n",
       "00MU        203.333333\n",
       "00NPMHND    491.583333\n",
       "00R4TXET    218.333333\n",
       "00U4FTRU    275.933333\n",
       "dtype: float64"
      ]
     },
     "execution_count": 274,
     "metadata": {},
     "output_type": "execute_result"
    }
   ],
   "source": [
    "narguid_stop_duration[:10] #preview of a few of these "
   ]
  },
  {
   "cell_type": "code",
   "execution_count": 275,
   "metadata": {},
   "outputs": [],
   "source": [
    "narguid_go_duration = group_narguid.apply(lambda x: \n",
    "                                          np.mean(x.loc[x['trial_type'] == 'GoTrial']['go_stim_duration']))"
   ]
  },
  {
   "cell_type": "code",
   "execution_count": 276,
   "metadata": {},
   "outputs": [
    {
     "data": {
      "text/plain": [
       "NARGUID\n",
       "003RTV85    647.570000\n",
       "007W6H7B    652.003333\n",
       "00CY2MDM    492.936667\n",
       "00HEV6HB    463.266667\n",
       "00J52GPG    442.950000\n",
       "00LJVZK2    767.306667\n",
       "00MU        577.586667\n",
       "00NPMHND    803.490000\n",
       "00R4TXET    493.933333\n",
       "00U4FTRU    587.666667\n",
       "dtype: float64"
      ]
     },
     "execution_count": 276,
     "metadata": {},
     "output_type": "execute_result"
    }
   ],
   "source": [
    "narguid_go_duration[:10] #preview "
   ]
  },
  {
   "cell_type": "markdown",
   "metadata": {},
   "source": [
    "##### Figure 2. Histogram of Go Stimulus Durations on Go and Stop Trials"
   ]
  },
  {
   "cell_type": "code",
   "execution_count": 277,
   "metadata": {},
   "outputs": [
    {
     "data": {
      "text/plain": [
       "0.0790362375773615"
      ]
     },
     "execution_count": 277,
     "metadata": {},
     "output_type": "execute_result"
    }
   ],
   "source": [
    "len(SST_concat.loc[(SST_concat['trial_type'] == 'StopTrial') & (SST_concat['go_stim_duration'] == 0)]) / \\\n",
    "    len(SST_concat.loc[SST_concat['trial_type'] == 'StopTrial'])"
   ]
  },
  {
   "cell_type": "code",
   "execution_count": 278,
   "metadata": {},
   "outputs": [
    {
     "data": {
      "image/png": "[encoded data removed]",
      "text/plain": [
       "<Figure size 432x288 with 1 Axes>"
      ]
     },
     "metadata": {},
     "output_type": "display_data"
    },
    {
     "data": {
      "text/plain": [
       "(None,)"
      ]
     },
     "execution_count": 278,
     "metadata": {},
     "output_type": "execute_result"
    }
   ],
   "source": [
    "plt.hist(SST_concat['go_stim_duration'].loc[SST_concat['trial_type'] == 'StopTrial'].dropna(), density=True,\n",
    "          label = \"stop trials\", color = 'grey', bins = 18)\n",
    "plt.xlabel('Go Stimulus Duration (ms)')\n",
    "plt.ylabel('Proportion')\n",
    "\n",
    "plt.hist(SST_concat['go_stim_duration'].loc[SST_concat['trial_type'] == 'GoTrial'].dropna(), density=True,\n",
    "         histtype='step', \n",
    "         label = \"go trials\", color = 'black', bins = 20)\n",
    "leg = plt.legend( loc = 'upper right')\n",
    "plt.draw() \n",
    "plt.tight_layout()\n",
    "ax = plt.gca()\n",
    "# Get the bounding box of the original legend\n",
    "bb = leg.get_bbox_to_anchor().inverse_transformed(ax.transAxes)\n",
    "\n",
    "# change legend - from stackoverflow \n",
    "xOffset = .1\n",
    "bb.x0 -= xOffset\n",
    "bb.x1 -= xOffset\n",
    "leg.set_bbox_to_anchor(bb, transform = ax.transAxes)\n",
    "#edit the ticks so that they integrate over the whole bin \n",
    "mod_ticks = mtick.FuncFormatter(lambda x, pos: '{0:g}'.format(x * 50))\n",
    "ax.yaxis.set_major_formatter(mod_ticks)\n",
    "plt.savefig('go_stim_duration.png', dpi=300)\n",
    "\n",
    "plt.show(), "
   ]
  },
  {
   "cell_type": "markdown",
   "metadata": {},
   "source": [
    "Difference of average participant go duration on go trials and stop trials"
   ]
  },
  {
   "cell_type": "code",
   "execution_count": 279,
   "metadata": {},
   "outputs": [
    {
     "name": "stdout",
     "output_type": "stream",
     "text": [
      "569.0181740476568 227.78455174199146\n"
     ]
    }
   ],
   "source": [
    "print(np.mean(narguid_go_duration), np.mean(narguid_stop_duration))"
   ]
  },
  {
   "cell_type": "code",
   "execution_count": 280,
   "metadata": {},
   "outputs": [
    {
     "data": {
      "text/plain": [
       "105.15170307424832"
      ]
     },
     "execution_count": 280,
     "metadata": {},
     "output_type": "execute_result"
    }
   ],
   "source": [
    "np.std(narguid_go_duration)"
   ]
  },
  {
   "cell_type": "code",
   "execution_count": 281,
   "metadata": {},
   "outputs": [
    {
     "data": {
      "text/plain": [
       "118.03447268895022"
      ]
     },
     "execution_count": 281,
     "metadata": {},
     "output_type": "execute_result"
    }
   ],
   "source": [
    "np.std(narguid_stop_duration)"
   ]
  },
  {
   "cell_type": "code",
   "execution_count": 282,
   "metadata": {},
   "outputs": [
    {
     "data": {
      "text/plain": [
       "341.23362230566534"
      ]
     },
     "execution_count": 282,
     "metadata": {},
     "output_type": "execute_result"
    }
   ],
   "source": [
    "np.mean(narguid_go_duration) - np.mean(narguid_stop_duration)"
   ]
  },
  {
   "cell_type": "markdown",
   "metadata": {},
   "source": [
    "let's look at the averages by participant now: "
   ]
  },
  {
   "cell_type": "markdown",
   "metadata": {},
   "source": [
    "##### Comparing stop failure reaction time and overt go response reaction time is a conservative indication of whether context independence, a necessary assumption when modeling stop signal reaction time is being violated.  "
   ]
  },
  {
   "cell_type": "code",
   "execution_count": 283,
   "metadata": {},
   "outputs": [],
   "source": [
    "narguid_average_stop_rt = group_narguid.apply(lambda x: \n",
    "                                                np.mean(x.loc[x['correct_stop'] == 0]['stop_rt_adjusted']))"
   ]
  },
  {
   "cell_type": "code",
   "execution_count": 284,
   "metadata": {
    "tags": []
   },
   "outputs": [
    {
     "name": "stdout",
     "output_type": "stream",
     "text": [
      "stop failure rt: 455.89692035840073\n",
      "sdev: 109.07001596838516\n"
     ]
    }
   ],
   "source": [
    "print('stop failure rt:', np.mean(narguid_average_stop_rt))\n",
    "print('sdev:', np.std(narguid_average_stop_rt))   "
   ]
  },
  {
   "cell_type": "code",
   "execution_count": 285,
   "metadata": {},
   "outputs": [],
   "source": [
    "narguid_average_go_rt = group_narguid.apply(lambda x: np.mean(x.loc[(x['correct_go_response'] != 'omission') \n",
    "                                                                    & (x['trial_type'] == 'GoTrial')]['go_rt_adjusted']))"
   ]
  },
  {
   "cell_type": "code",
   "execution_count": 286,
   "metadata": {
    "tags": []
   },
   "outputs": [
    {
     "name": "stdout",
     "output_type": "stream",
     "text": [
      "overt go response mean: 543.2443801422961\n",
      "sdev: 95.18435549758128\n"
     ]
    }
   ],
   "source": [
    "print('overt go response mean:', np.mean(narguid_average_go_rt))\n",
    "print('sdev:', np.std(narguid_average_go_rt))"
   ]
  },
  {
   "cell_type": "code",
   "execution_count": 287,
   "metadata": {
    "tags": []
   },
   "outputs": [
    {
     "name": "stdout",
     "output_type": "stream",
     "text": [
      "difference beween these: -87.34745978389537\n"
     ]
    }
   ],
   "source": [
    "print('difference beween these:', np.mean(narguid_average_stop_rt) - np.mean(narguid_average_go_rt))"
   ]
  },
  {
   "cell_type": "markdown",
   "metadata": {},
   "source": [
    "##### Compare stop failure rt and go rt within participants: "
   ]
  },
  {
   "cell_type": "code",
   "execution_count": 288,
   "metadata": {
    "tags": []
   },
   "outputs": [
    {
     "name": "stdout",
     "output_type": "stream",
     "text": [
      "524\n"
     ]
    },
    {
     "data": {
      "text/plain": [
       "0.06190926275992439"
      ]
     },
     "execution_count": 288,
     "metadata": {},
     "output_type": "execute_result"
    }
   ],
   "source": [
    "#get number of participants who have longer stop failure rt\n",
    "print(sum(np.greater(narguid_average_stop_rt, narguid_average_go_rt)))\n",
    "\n",
    "#divide by number of participants\n",
    "sum(np.greater(narguid_average_stop_rt, narguid_average_go_rt)) / len(SST_concat['NARGUID'].unique())"
   ]
  },
  {
   "cell_type": "markdown",
   "metadata": {},
   "source": [
    "##### Another way that shorter go stimulus durations can effect the go process is in the choice response"
   ]
  },
  {
   "cell_type": "code",
   "execution_count": 289,
   "metadata": {},
   "outputs": [],
   "source": [
    "def stop_fail_accuracy(df):\n",
    "    try: \n",
    "        acc = len(df.loc[df['correct_stop_mapping'] == 1]) / len(df.loc[df['correct_stop'] == 0])\n",
    "    except ZeroDivisionError:\n",
    "        acc = np.NaN\n",
    "    return acc  \n",
    "\n",
    "def go_acc(df): \n",
    "    try: \n",
    "        acc = len(df.loc[df['correct_go_response'] == '1.0']) /\\\n",
    "                                          len(df.loc[(df['correct_go_response'] != 'omission') & (df['trial_type'] == 'GoTrial')])\n",
    "    except ZeroDivisionError: \n",
    "        acc  = np.NaN\n",
    "    return acc"
   ]
  },
  {
   "cell_type": "code",
   "execution_count": 290,
   "metadata": {},
   "outputs": [],
   "source": [
    "#make a dataframe of rts \n",
    "narguid_df = pd.DataFrame({'stop_rt': narguid_average_stop_rt,'go_rt':narguid_average_go_rt})\n",
    "\n",
    "#add accuracies to that dataframe\n",
    "narguid_df['stop_acc'] = np.NaN\n",
    "narguid_df['go_acc'] = np.NaN\n",
    "\n",
    "narguid_df['go_acc'] = group_narguid.apply(lambda x: go_acc(x))\n",
    "\n",
    "narguid_df['stop_acc'] = group_narguid.apply(lambda x: stop_fail_accuracy(x))\n",
    "\n",
    "#if a participant had no stop failures, then they need to be dropped \n",
    "narguid_df = narguid_df.dropna(how='any')"
   ]
  },
  {
   "cell_type": "code",
   "execution_count": 291,
   "metadata": {
    "tags": []
   },
   "outputs": [
    {
     "name": "stdout",
     "output_type": "stream",
     "text": [
      "0.9009971837132551\n",
      "0.7923118774259438\n"
     ]
    }
   ],
   "source": [
    "print(narguid_df['go_acc'].mean())\n",
    "print(narguid_df['stop_acc'].mean())"
   ]
  },
  {
   "cell_type": "markdown",
   "metadata": {},
   "source": [
    "calculate CI for the difference between go_rt and stop_rt"
   ]
  },
  {
   "cell_type": "code",
   "execution_count": 292,
   "metadata": {},
   "outputs": [],
   "source": [
    "mean_ssds = group_narguid.apply(lambda x: x.loc[x['trial_type'] == 'StopTrial']['SSDDur'].mean())"
   ]
  },
  {
   "cell_type": "code",
   "execution_count": 293,
   "metadata": {},
   "outputs": [
    {
     "data": {
      "text/plain": [
       "(85.88236797914455, 88.83305847051271)"
      ]
     },
     "execution_count": 293,
     "metadata": {},
     "output_type": "execute_result"
    }
   ],
   "source": [
    "mu = np.mean(narguid_df['go_rt'] - narguid_df['stop_rt'])\n",
    "N = len(narguid_df)\n",
    "sigma = np.std(narguid_df['go_rt'] - narguid_df['stop_rt'])\n",
    "stats.norm.interval(0.95, loc=mu, scale=sigma/math.sqrt(N))\n"
   ]
  },
  {
   "cell_type": "markdown",
   "metadata": {},
   "source": [
    "calculate CI for the difference between stop_acc and go_acc"
   ]
  },
  {
   "cell_type": "code",
   "execution_count": 294,
   "metadata": {},
   "outputs": [
    {
     "data": {
      "text/plain": [
       "(0.10647450890770568, 0.11089610366694527)"
      ]
     },
     "execution_count": 294,
     "metadata": {},
     "output_type": "execute_result"
    }
   ],
   "source": [
    "mu = np.mean(narguid_df['go_acc'] - narguid_df['stop_acc'])\n",
    "N = len(narguid_df)\n",
    "sigma = np.std(narguid_df['go_acc'] - narguid_df['stop_acc'])\n",
    "stats.norm.interval(.95, loc=mu,scale=sigma/math.sqrt(N))"
   ]
  },
  {
   "cell_type": "markdown",
   "metadata": {},
   "source": [
    "##### choice accuracy across SSDs "
   ]
  },
  {
   "cell_type": "code",
   "execution_count": 295,
   "metadata": {},
   "outputs": [],
   "source": [
    "ssd_acc = group_narguid.apply(lambda x: x.groupby('SSDDur').apply(lambda x: stop_fail_accuracy(x))) \n",
    "#this actual returns a series - misleading variable name"
   ]
  },
  {
   "cell_type": "code",
   "execution_count": 296,
   "metadata": {},
   "outputs": [],
   "source": [
    "average_ssd_acc = ssd_acc.groupby('SSDDur').apply(lambda x: np.mean(x))"
   ]
  },
  {
   "cell_type": "code",
   "execution_count": 297,
   "metadata": {},
   "outputs": [],
   "source": [
    "sem_ssd_acc = ssd_acc.groupby('SSDDur').apply(lambda x: stats.sem(x, nan_policy = 'omit'))"
   ]
  },
  {
   "cell_type": "markdown",
   "metadata": {},
   "source": [
    "##### Figure 3. Choice response accuracy on stop-failure trials across SSD\n"
   ]
  },
  {
   "cell_type": "code",
   "execution_count": 298,
   "metadata": {},
   "outputs": [],
   "source": [
    "std_ssd_acc = ssd_acc.groupby('SSDDur').apply(lambda x: np.std(x))"
   ]
  },
  {
   "cell_type": "code",
   "execution_count": 708,
   "metadata": {},
   "outputs": [],
   "source": [
    "sns_df = pd.DataFrame() \n",
    "df_list = []\n",
    "for ssd in ssd_acc.droplevel(['NARGUID']).index.unique().sort_values()[:11]:\n",
    "    data_points = [i for i in ssd_acc.droplevel(['NARGUID']).loc[(ssd)].dropna()]\n",
    "    temp_df = pd.DataFrame()\n",
    "    temp_df['accuracy'] = data_points\n",
    "    temp_df['ssd'] = ssd\n",
    "    df_list.append(temp_df)\n",
    "sns_df = pd.concat(df_list)"
   ]
  },
  {
   "cell_type": "code",
   "execution_count": 707,
   "metadata": {},
   "outputs": [],
   "source": [
    "temp_df = pd.DataFrame()\n",
    "\n",
    "temp_df['accuracy'] = data_points\n",
    "temp_df['ssd'] = ssd"
   ]
  },
  {
   "cell_type": "code",
   "execution_count": 809,
   "metadata": {},
   "outputs": [
    {
     "data": {
      "image/png": "[encoded data removed]",
      "text/plain": [
       "<Figure size 720x360 with 1 Axes>"
      ]
     },
     "metadata": {
      "image/png": {
       "height": 316,
       "width": 608
      }
     },
     "output_type": "display_data"
    }
   ],
   "source": [
    "fig, ax = plt.subplots(figsize=(10, 5))\n",
    "xvals=np.arange(0,11,1)\n",
    "ax.plot(xvals, average_ssd_acc.iloc[:-8], color='black',zorder=999)\n",
    "\n",
    "ax.fill_between(x = xvals, y1=average_ssd_acc.iloc[:-8]-(1.96*sem_ssd_acc.iloc[:-8]), \n",
    "                 y2=average_ssd_acc.iloc[:-8]+(1.96*sem_ssd_acc.iloc[:-8]), color='grey', alpha=.9, zorder=999)\n",
    "\n",
    "ax = sns.stripplot(x='ssd', y ='accuracy', data=sns_df,size=3,  alpha=.02, color=\"lightblue\")\n",
    "\n",
    "plt.ylabel('Accuracy')\n",
    "plt.xlabel('SSD')\n",
    "plt.savefig('accuracy_accross_ssd.png', dpi=600)\n",
    "\n",
    "plt.show()"
   ]
  },
  {
   "cell_type": "markdown",
   "metadata": {},
   "source": [
    "### Issue 2: Go Stimulus sometimes not presented"
   ]
  },
  {
   "cell_type": "markdown",
   "metadata": {},
   "source": [
    "On trials where SSD is 0, the Go stimulus is not presented. "
   ]
  },
  {
   "cell_type": "code",
   "execution_count": 302,
   "metadata": {},
   "outputs": [
    {
     "data": {
      "text/plain": [
       "0.09124079686044703"
      ]
     },
     "execution_count": 302,
     "metadata": {},
     "output_type": "execute_result"
    }
   ],
   "source": [
    "len(SST_concat.loc[SST_concat['SSDDur'] == 0])/\\\n",
    "    len(SST_concat.loc[SST_concat['trial_type'] == 'StopTrial'])"
   ]
  },
  {
   "cell_type": "markdown",
   "metadata": {},
   "source": [
    "The stop accuracy of these should be high, due to the stop process not being handicapped. "
   ]
  },
  {
   "cell_type": "code",
   "execution_count": 303,
   "metadata": {},
   "outputs": [],
   "source": [
    "def zero_SSD_acc(df): \n",
    "    try: \n",
    "        acc = len(df.loc[(df['SSDDur'] == 0) & (df['correct_stop'] == 1.0)]) / len(df.loc[df['SSDDur'] == 0])\n",
    "    except ZeroDivisionError:\n",
    "        acc = np.NaN\n",
    "    \n",
    "    return acc                     "
   ]
  },
  {
   "cell_type": "code",
   "execution_count": 304,
   "metadata": {},
   "outputs": [],
   "source": [
    "zero_acc = group_narguid.apply(lambda x: zero_SSD_acc(x))"
   ]
  },
  {
   "cell_type": "code",
   "execution_count": 305,
   "metadata": {},
   "outputs": [
    {
     "data": {
      "text/plain": [
       "0.6014706436339075"
      ]
     },
     "execution_count": 305,
     "metadata": {},
     "output_type": "execute_result"
    }
   ],
   "source": [
    "np.mean(zero_acc)"
   ]
  },
  {
   "cell_type": "markdown",
   "metadata": {},
   "source": [
    "##### Figure 4. Histogram of Stop-Signal Delays   \n"
   ]
  },
  {
   "cell_type": "code",
   "execution_count": 805,
   "metadata": {},
   "outputs": [
    {
     "data": {
      "image/png": "[encoded data removed]",
      "text/plain": [
       "<Figure size 432x288 with 1 Axes>"
      ]
     },
     "metadata": {
      "image/png": {
       "height": 261,
       "width": 401
      }
     },
     "output_type": "display_data"
    }
   ],
   "source": [
    "plt.hist(SST_concat['SSDDur'].dropna(), bins = len(SST_concat['SSDDur'].dropna().unique()), color='grey')\n",
    "plt.xlabel('SSD (ms)') #fix xlabel, ylabel \n",
    "#plt.title('Distribution of Stop Signal Delays')\n",
    "plt.ylabel('Count')\n",
    "#plt.axvline(x=mean_SSD, color = 'r', label = \"mean SSD\")\n",
    "#plt.legend()\n",
    "plt.savefig('stop_signal_duration_hist.png', dpi=300)\n",
    "plt.show() "
   ]
  },
  {
   "cell_type": "markdown",
   "metadata": {},
   "source": [
    "### Issue 3: Faulty stop-signal delays\n",
    "\n",
    "If a response faster than 50ms is made on a trial where SSD is 50, then all following stop trials will have that RT and be stop failure trials. "
   ]
  },
  {
   "cell_type": "code",
   "execution_count": 307,
   "metadata": {},
   "outputs": [],
   "source": [
    "#uncomment to look at the relevant columns \n",
    "# SST_concat.loc[(SST_concat['SSD.RT'] < 100) & (SST_concat['SSD.RT'] > 0) & (SST_concat['SSDDur'] <=50)]\\\n",
    "#      [['NARGUID', 'TrialNum', 'SSD.RT', 'SSD.RESP', 'SSDDur' ]]"
   ]
  },
  {
   "cell_type": "code",
   "execution_count": 308,
   "metadata": {},
   "outputs": [],
   "source": [
    "SSD_bug = SST_concat.loc[(SST_concat['SSD.RT'] < 50) & (SST_concat['SSD.RT'] > 0) & (SST_concat['SSDDur'] <=50)]['NARGUID']# \\"
   ]
  },
  {
   "cell_type": "code",
   "execution_count": 309,
   "metadata": {},
   "outputs": [],
   "source": [
    "#uncomment to print to a csv and view \n",
    "# pd.DataFrame(SSD_bug.unique()).to_csv('SSD_bug.csv')"
   ]
  },
  {
   "cell_type": "code",
   "execution_count": 424,
   "metadata": {},
   "outputs": [
    {
     "data": {
      "text/plain": [
       "227"
      ]
     },
     "execution_count": 424,
     "metadata": {},
     "output_type": "execute_result"
    }
   ],
   "source": [
    "len(SSD_bug.unique())"
   ]
  },
  {
   "cell_type": "code",
   "execution_count": 310,
   "metadata": {},
   "outputs": [
    {
     "data": {
      "text/plain": [
       "0.02681947069943289"
      ]
     },
     "execution_count": 310,
     "metadata": {},
     "output_type": "execute_result"
    }
   ],
   "source": [
    "len(SSD_bug.unique())/ len(SST_concat['NARGUID'].unique()) #percent of subjects with this issue "
   ]
  },
  {
   "cell_type": "code",
   "execution_count": 311,
   "metadata": {},
   "outputs": [
    {
     "data": {
      "text/plain": [
       "0.002108603759714346"
      ]
     },
     "execution_count": 311,
     "metadata": {},
     "output_type": "execute_result"
    }
   ],
   "source": [
    "len(SSD_bug) / len(SST_concat) #percent of trials this impacts "
   ]
  },
  {
   "cell_type": "code",
   "execution_count": 312,
   "metadata": {},
   "outputs": [],
   "source": [
    "#drops the prob narguids and regroups by SSD\n",
    "drop_zero_ssd_group = SST_concat.set_index('NARGUID').drop(SSD_bug.unique()).groupby('NARGUID')"
   ]
  },
  {
   "cell_type": "markdown",
   "metadata": {},
   "source": [
    "Recalculate accuracy with these subjects dropped "
   ]
  },
  {
   "cell_type": "code",
   "execution_count": 313,
   "metadata": {},
   "outputs": [],
   "source": [
    "drop_zero_acc = drop_zero_ssd_group.apply(lambda x: zero_SSD_acc(x))"
   ]
  },
  {
   "cell_type": "code",
   "execution_count": 314,
   "metadata": {},
   "outputs": [
    {
     "data": {
      "text/plain": [
       "0.6275883034376813"
      ]
     },
     "execution_count": 314,
     "metadata": {},
     "output_type": "execute_result"
    }
   ],
   "source": [
    "np.mean(drop_zero_acc)"
   ]
  },
  {
   "cell_type": "markdown",
   "metadata": {},
   "source": [
    "### Issue 4: Different stop signal stimulus duration for different SSDs"
   ]
  },
  {
   "cell_type": "markdown",
   "metadata": {},
   "source": [
    "Stop signal stimulus duration persists for 300ms, unless the go stimulus was presented for over 700 ms, in which case it's presented for 1000 - go stimulus duration, leading to differences in the duration of the stop signal stimulus across SSDs. "
   ]
  },
  {
   "cell_type": "code",
   "execution_count": 315,
   "metadata": {},
   "outputs": [
    {
     "data": {
      "text/plain": [
       "0.011489771445111974"
      ]
     },
     "execution_count": 315,
     "metadata": {},
     "output_type": "execute_result"
    }
   ],
   "source": [
    "len(SST_concat.loc[SST_concat['SSDDur'] > 700]) / len(SST_concat.loc[SST_concat['trial_type'] =='StopTrial'])"
   ]
  },
  {
   "cell_type": "code",
   "execution_count": 316,
   "metadata": {},
   "outputs": [
    {
     "data": {
      "text/plain": [
       "0.5149051970786247"
      ]
     },
     "execution_count": 316,
     "metadata": {},
     "output_type": "execute_result"
    }
   ],
   "source": [
    "len(SST_concat.loc[SST_concat['SSDDur'] <= 200]) / len(SST_concat.loc[SST_concat['trial_type'] =='StopTrial'])"
   ]
  },
  {
   "cell_type": "markdown",
   "metadata": {},
   "source": [
    "### Issue 5: Non-uniform conditional trial probabilities"
   ]
  },
  {
   "cell_type": "markdown",
   "metadata": {},
   "source": [
    "The probability of a stop signal is not uniform, and stop trials never occur back to back, and rarely appear with one go trial in between. "
   ]
  },
  {
   "cell_type": "markdown",
   "metadata": {},
   "source": [
    "create random distribution where p(stop) = .167"
   ]
  },
  {
   "cell_type": "markdown",
   "metadata": {},
   "source": [
    "##### Figure 5. The probability of different numbers of intervening go trials between successive stop trials in the ABCD dataset (dark shading) versus expected probability distribution if stop trials were randomly presented (light shading)."
   ]
  },
  {
   "cell_type": "code",
   "execution_count": 317,
   "metadata": {},
   "outputs": [],
   "source": [
    "x = np.arange(0,50, 1)\n",
    "def my_dist(i):\n",
    "    i = (1/6) * (5/6)**(i)\n",
    "    return(i)\n",
    "p = my_dist(x)\n",
    "p_norm = p/np.sum(p)  # norm to sum=1\n",
    "nsamples = 1000000\n",
    "from scipy.stats import rv_discrete\n",
    "rv = rv_discrete(values=(x, p_norm))\n",
    "p_samp = rv.rvs(size=nsamples)"
   ]
  },
  {
   "cell_type": "code",
   "execution_count": 318,
   "metadata": {},
   "outputs": [],
   "source": [
    "stop_prob_index = SST_concat.loc[(SST_concat['StopTrial'] !=1) & (SST_concat['StopTrial'] !=31)].index"
   ]
  },
  {
   "cell_type": "code",
   "execution_count": 319,
   "metadata": {},
   "outputs": [
    {
     "data": {
      "image/png": "[encoded data removed]",
      "text/plain": [
       "<Figure size 432x288 with 1 Axes>"
      ]
     },
     "metadata": {},
     "output_type": "display_data"
    }
   ],
   "source": [
    "plt.hist(SST_concat['Stop_nback'].loc[stop_prob_index].dropna(), density = True, bins = 20, label = 'ABCD', color = 'black')\n",
    "p_norm = p/np.sum(p)  # norm to sum=1\n",
    "h = np.histogram(p_samp, bins = x, density=True)\n",
    "plt.bar(h[1][:20],h[0][:20] , label = 'equal probability', alpha=0.5,width=1)\n",
    "plt.xlabel('Number of Intervening Go Trials in Between Stop Trials')\n",
    "plt.ylabel('Probability')\n",
    "plt.xticks(np.arange(0, 21, step=1))\n",
    "plt.legend()\n",
    "plt.savefig('conditional_probability.png', dpi=300)\n",
    "plt.show()\n"
   ]
  },
  {
   "cell_type": "markdown",
   "metadata": {},
   "source": [
    "conditional probability of a stop signal, given a stop signal occured two trials ago"
   ]
  },
  {
   "cell_type": "code",
   "execution_count": 320,
   "metadata": {},
   "outputs": [],
   "source": [
    "def mean_nback(df, num_back): \n",
    "    stop_prob_index = df.loc[(df['StopTrial'] !=1) & (df['StopTrial'] !=31)].index\n",
    "    df = df.loc[stop_prob_index]\n",
    "    nback_proportion =len(df.loc[df['Stop_nback'] == num_back]) / len(df.loc[df['trial_type'] == 'StopTrial'])\n",
    "    return nback_proportion"
   ]
  },
  {
   "cell_type": "code",
   "execution_count": 321,
   "metadata": {},
   "outputs": [
    {
     "data": {
      "text/plain": [
       "0.017940078873606678"
      ]
     },
     "execution_count": 321,
     "metadata": {},
     "output_type": "execute_result"
    }
   ],
   "source": [
    "mean_one_nback = group_narguid.apply(lambda x: mean_nback(x, 1))\n",
    "np.mean(mean_one_nback)"
   ]
  },
  {
   "cell_type": "code",
   "execution_count": 322,
   "metadata": {},
   "outputs": [
    {
     "data": {
      "text/plain": [
       "0.0"
      ]
     },
     "execution_count": 322,
     "metadata": {},
     "output_type": "execute_result"
    }
   ],
   "source": [
    "#how many trials exist \n",
    "mean_zero_back = group_narguid.apply(lambda x: mean_nback(x, 0))\n",
    "np.mean(mean_zero_back)"
   ]
  },
  {
   "cell_type": "code",
   "execution_count": 323,
   "metadata": {
    "tags": []
   },
   "outputs": [
    {
     "name": "stdout",
     "output_type": "stream",
     "text": [
      "percent of trials with stop signals sepreated by one go trial: 0.021339272176637267\n"
     ]
    }
   ],
   "source": [
    "one_back = SST_concat.loc[SST_concat['Stop_nback'] == 1] #stop nback in this case \n",
    "stop_nback = SST_concat.loc[~SST_concat['Stop_nback'].isnull()]['Stop_nback']\n",
    "print(\"percent of trials with stop signals sepreated by one go trial:\", len(one_back) / len(SST_concat.loc[SST_concat['trial_type'] == 'StopTrial'] )) \n",
    "#this num changed when re-ran with better indexing for selecting stop trials "
   ]
  },
  {
   "cell_type": "code",
   "execution_count": 324,
   "metadata": {},
   "outputs": [],
   "source": [
    "def calc_post_stop_slowing(df): \n",
    "    \"\"\"\n",
    "    1. calculates stop signal slowing for all trials \n",
    "    2. bins into quartiles \n",
    "    3. returns mean quartile signal slowing\n",
    "    \n",
    "    excludes  triplets that are seperated by sessions\n",
    "    excludes triplets where there was an incorrect go choice response  for either go trial\n",
    "    excludes triplets where there was an ommission go trial for either go trial\n",
    "    \"\"\"\n",
    "    stop_slowing_df = pd.DataFrame()\n",
    "\n",
    "    stop_mask = df.loc[df['trial_type'] == 'StopTrial']\n",
    "    stop_idx = stop_mask[stop_mask == True].index\n",
    "\n",
    "    df['correct_go_response'].replace('omission', np.NaN, inplace=True)\n",
    "    df['correct_go_response'].replace('0.0', np.NaN, inplace=True)\n",
    "    #get the pre-stop rt\n",
    "    stop_slowing_df['StopTrial'] = df['StopTrial'][stop_idx]\n",
    "    stop_slowing_df['TrialNum'] = df['TrialNum'][stop_idx]    \n",
    "\n",
    "    stop_slowing_df['pre_stop_rt'] = np.array(df['go_rt_adjusted'].loc[stop_idx - 1]) #find trial before stop signal\n",
    "    stop_slowing_df['pre_stop_acc'] = np.array(df['correct_go_response'].loc[stop_idx - 1]) #find trial before stop signal\n",
    "\n",
    "\n",
    "    stop_slowing_df['post_stop_acc'] = np.array(df['correct_go_response'].loc[stop_idx + 1]) #find trial after\n",
    "    stop_slowing_df['post_stop_rt'] = np.array(df['go_rt_adjusted'].loc[stop_idx + 1]) #find trial after\n",
    "    stop_slowing_df['post_minus_pre'] = stop_slowing_df['post_stop_rt'] - stop_slowing_df['pre_stop_rt']\n",
    "    \n",
    "    #trial num 1 is left out because that triplet wouldn't have a pre-stop go trial\n",
    "    first_quartile_mean = np.mean(stop_slowing_df.iloc[:15].loc[(stop_slowing_df['TrialNum'] != 1)].dropna(how='any')['post_minus_pre'])\n",
    "    #trial num 180 is left out because that triplet wouldn't have a post-stop go trial \n",
    "    second_quartile_mean = np.mean(stop_slowing_df.iloc[15:30].loc[(stop_slowing_df['TrialNum'] != 180)].dropna(how='any')['post_minus_pre'])\n",
    "    #trial num 180 and 181 are left out \n",
    "    third_quartile_mean = np.mean(stop_slowing_df.iloc[30:45].loc[(stop_slowing_df['TrialNum'] != 180) & (stop_slowing_df['TrialNum'] != 181)].dropna(how='any')['post_minus_pre'])\n",
    "    #trial 360 is left out \n",
    "    fourth_quartile_mean = np.mean(stop_slowing_df.loc[(stop_slowing_df['TrialNum'] != 360)].iloc[45:60].dropna(how='any')['post_minus_pre'])\n",
    " \n",
    "    quartile_list =[first_quartile_mean, second_quartile_mean, third_quartile_mean, fourth_quartile_mean]\n",
    " #below is useful for debugging, but otherwise slows down the code \n",
    "    #     trial_list = [len(stop_slowing_df.iloc[:15].loc[(stop_slowing_df['TrialNum'] != 1)].dropna(how='any')['post_minus_pre']),\n",
    "#                   len(stop_slowing_df.iloc[15:30].loc[(stop_slowing_df['TrialNum'] != 180)].dropna(how='any')['post_minus_pre']),\n",
    "#                  len(stop_slowing_df.iloc[30:45].loc[(stop_slowing_df['TrialNum'] != 180) & (stop_slowing_df['TrialNum'] != 181)].dropna(how='any')['post_minus_pre']),\n",
    "#                  len(stop_slowing_df.loc[(stop_slowing_df['TrialNum'] != 360)].iloc[45:60].dropna(how='any')['post_minus_pre'])]\n",
    "\n",
    "    return quartile_list #, trial_list"
   ]
  },
  {
   "cell_type": "code",
   "execution_count": 325,
   "metadata": {},
   "outputs": [
    {
     "name": "stderr",
     "output_type": "stream",
     "text": [
      "/Users/work/anaconda3/lib/python3.6/site-packages/ipykernel_launcher.py:26: FutureWarning: \n",
      "Passing list-likes to .loc or [] with any missing label will raise\n",
      "KeyError in the future, you can use .reindex() as an alternative.\n",
      "\n",
      "See the documentation here:\n",
      "https://pandas.pydata.org/pandas-docs/stable/user_guide/indexing.html#deprecate-loc-reindex-listlike\n",
      "/Users/work/anaconda3/lib/python3.6/site-packages/ipykernel_launcher.py:27: FutureWarning: \n",
      "Passing list-likes to .loc or [] with any missing label will raise\n",
      "KeyError in the future, you can use .reindex() as an alternative.\n",
      "\n",
      "See the documentation here:\n",
      "https://pandas.pydata.org/pandas-docs/stable/user_guide/indexing.html#deprecate-loc-reindex-listlike\n"
     ]
    }
   ],
   "source": [
    "#this takes ~10 minutes to run \n",
    "quartile = group_narguid.apply(lambda x: calc_post_stop_slowing(x))"
   ]
  },
  {
   "cell_type": "code",
   "execution_count": 326,
   "metadata": {},
   "outputs": [],
   "source": [
    "## this makes quartile to a dataframe and saves it - helpful if you accidently change quartile\n",
    "quartile_df = pd.DataFrame(quartile)\n",
    "quartile_df.columns = ['quartile_list']\n",
    "quartile_df = pd.DataFrame(quartile_df.quartile_list.tolist(), index=quartile_df.index)\n",
    "quartile_df.columns = ['quartile_1', 'quartile_2', 'quartile_3', 'quartile_4']\n",
    "quartile_df.to_csv('quartile_df.csv')"
   ]
  },
  {
   "cell_type": "code",
   "execution_count": 327,
   "metadata": {},
   "outputs": [],
   "source": [
    "quartile_df = pd.read_csv('quartile_df.csv') #for if you don't want to run that loop "
   ]
  },
  {
   "cell_type": "code",
   "execution_count": 328,
   "metadata": {},
   "outputs": [],
   "source": [
    "#take means of means \n",
    "post_stop_means = [np.nanmean(quartile_df['quartile_1']), np.nanmean(quartile_df['quartile_2']), \n",
    "                            np.nanmean(quartile_df['quartile_3']), np.nanmean(quartile_df['quartile_4'])]"
   ]
  },
  {
   "cell_type": "code",
   "execution_count": 329,
   "metadata": {},
   "outputs": [],
   "source": [
    "#calc SEM for error bars \n",
    "post_stop_sem = [stats.sem(quartile_df['quartile_1'], nan_policy='omit'), stats.sem(quartile_df['quartile_2'], nan_policy='omit'), \n",
    "                 stats.sem(quartile_df['quartile_3'], nan_policy='omit'), stats.sem(quartile_df['quartile_4'], nan_policy='omit')]"
   ]
  },
  {
   "cell_type": "markdown",
   "metadata": {},
   "source": [
    "##### Figure 6. Post-stop-signal slowing across the four quantiles of the ABCD stopping data. \n"
   ]
  },
  {
   "cell_type": "code",
   "execution_count": 330,
   "metadata": {},
   "outputs": [
    {
     "data": {
      "image/png": "[encoded data removed]",
      "text/plain": [
       "<Figure size 432x288 with 1 Axes>"
      ]
     },
     "metadata": {},
     "output_type": "display_data"
    }
   ],
   "source": [
    "plt.errorbar(np.arange(1, 5, 1), post_stop_means, \n",
    "             yerr=[1.96 * i for i in post_stop_sem], color='black') \n",
    "#plt.title('Post-Stop-Trial Slowing')\n",
    "plt.ylabel('Post-Stop-Signal Slowing (ms)')\n",
    "plt.xlabel('Task Quartile')\n",
    "plt.xticks([1, 2, 3, 4])\n",
    "plt.yticks(np.arange(0,60,5))\n",
    "plt.savefig('task_quartile_slowing.png', dpi=300)\n",
    "plt.show() #needs error bars?  \n"
   ]
  },
  {
   "cell_type": "markdown",
   "metadata": {},
   "source": [
    "### Issue 6: Trial accuracy incorrectly coded"
   ]
  },
  {
   "cell_type": "markdown",
   "metadata": {},
   "source": [
    "There are some trials thave have the incorrect coding in TrialCode, and other accuracy columns. Some of these can be attributed to a known error, where the responses were switched for subjects, resulting in participants responding correctly, but their responses being reported as incorrect. "
   ]
  },
  {
   "cell_type": "code",
   "execution_count": 332,
   "metadata": {},
   "outputs": [],
   "source": [
    "switch_subjects = pd.read_csv('../../ABCDStudyNDA/abcd_sst02.txt', sep = '\\t', index_col='subjectkey', low_memory=False)\n",
    "switch_subjects = switch_subjects['tfmri_sst_beh_switchflag'].astype(str)\n",
    "switch_subjects = switch_subjects[switch_subjects == '1'].index\n",
    "switch_subjects = [i[-8:] for i in switch_subjects]"
   ]
  },
  {
   "cell_type": "code",
   "execution_count": 339,
   "metadata": {},
   "outputs": [],
   "source": [
    "switch_df = pd.DataFrame()\n",
    "switch_list = [] "
   ]
  },
  {
   "cell_type": "code",
   "execution_count": 340,
   "metadata": {},
   "outputs": [],
   "source": [
    "for i in switch_subjects: \n",
    "    temp_df = SST_concat.loc[SST_concat['NARGUID'] == i]\n",
    "    switch_list.append(temp_df)\n",
    "    switch_df = pd.concat(switch_list)"
   ]
  },
  {
   "cell_type": "markdown",
   "metadata": {},
   "source": [
    "Go trials that are incorrect, but classified as correct"
   ]
  },
  {
   "cell_type": "code",
   "execution_count": 894,
   "metadata": {},
   "outputs": [],
   "source": [
    "num_corr_go = len(SST_concat.loc[SST_concat['TrialCode'] == 'CorrectGo'])\n",
    "num_0_corr_go = len(SST_concat.loc[(SST_concat['correct_go_response'] == '0.0') & (SST_concat['TrialCode'] == 'CorrectGo')])"
   ]
  },
  {
   "cell_type": "code",
   "execution_count": 890,
   "metadata": {},
   "outputs": [
    {
     "data": {
      "text/plain": [
       "0.02830466107925305"
      ]
     },
     "execution_count": 890,
     "metadata": {},
     "output_type": "execute_result"
    }
   ],
   "source": [
    "num_0_corr_go / num_corr_go"
   ]
  },
  {
   "cell_type": "code",
   "execution_count": 891,
   "metadata": {},
   "outputs": [],
   "source": [
    "num_switch_0_corr_go = len(switch_df.loc[(switch_df['correct_go_response'] == '0.0') & (switch_df['TrialCode'] == 'CorrectGo')])"
   ]
  },
  {
   "cell_type": "code",
   "execution_count": 895,
   "metadata": {},
   "outputs": [
    {
     "data": {
      "text/plain": [
       "0.0019392264733543625"
      ]
     },
     "execution_count": 895,
     "metadata": {},
     "output_type": "execute_result"
    }
   ],
   "source": [
    "num_switch_0_corr_go / num_corr_go # number with switched responses "
   ]
  },
  {
   "cell_type": "code",
   "execution_count": 913,
   "metadata": {},
   "outputs": [
    {
     "data": {
      "text/plain": [
       "0.02636543460589869"
      ]
     },
     "execution_count": 913,
     "metadata": {},
     "output_type": "execute_result"
    }
   ],
   "source": [
    "(num_0_corr_go - num_switch_0_corr_go) / num_corr_stop #number not attributed to switched responses "
   ]
  },
  {
   "cell_type": "markdown",
   "metadata": {},
   "source": [
    "Go trials that are correct, but coded as incorrect"
   ]
  },
  {
   "cell_type": "code",
   "execution_count": 907,
   "metadata": {},
   "outputs": [],
   "source": [
    "num_incorr_go = len(SST_concat.loc[SST_concat['TrialCode'] == 'IncorrectGo'])"
   ]
  },
  {
   "cell_type": "code",
   "execution_count": 905,
   "metadata": {},
   "outputs": [],
   "source": [
    "num_1_incorr_go = len(SST_concat.loc[(SST_concat['correct_go_response'] == '1.0') & (SST_concat['TrialCode'] == 'IncorrectGo')])"
   ]
  },
  {
   "cell_type": "code",
   "execution_count": 898,
   "metadata": {},
   "outputs": [],
   "source": [
    "num_switch_1_incorr_go = len(switch_df.loc[(switch_df['correct_go_response'] == '1.0') & (switch_df['TrialCode'] == 'IncorrectGo')])"
   ]
  },
  {
   "cell_type": "code",
   "execution_count": 908,
   "metadata": {},
   "outputs": [
    {
     "data": {
      "text/plain": [
       "0.06867315308423577"
      ]
     },
     "execution_count": 908,
     "metadata": {},
     "output_type": "execute_result"
    }
   ],
   "source": [
    "num_1_incorr_go / num_incorr_go  #overall "
   ]
  },
  {
   "cell_type": "code",
   "execution_count": 909,
   "metadata": {},
   "outputs": [
    {
     "data": {
      "text/plain": [
       "0.06731583966170755"
      ]
     },
     "execution_count": 909,
     "metadata": {},
     "output_type": "execute_result"
    }
   ],
   "source": [
    "num_switch_1_incorr_go / num_incorr_go #trials attributed to response switch error"
   ]
  },
  {
   "cell_type": "code",
   "execution_count": 912,
   "metadata": {},
   "outputs": [
    {
     "data": {
      "text/plain": [
       "0.0013573134225282153"
      ]
     },
     "execution_count": 912,
     "metadata": {},
     "output_type": "execute_result"
    }
   ],
   "source": [
    "(num_1_incorr_go - num_switch_1_incorr_go) / num_incorr_go #trials not attributed to response switch error"
   ]
  },
  {
   "cell_type": "markdown",
   "metadata": {},
   "source": [
    "Stop trials that are recorded as incorrect are all correctly categorized"
   ]
  },
  {
   "cell_type": "code",
   "execution_count": 899,
   "metadata": {},
   "outputs": [
    {
     "name": "stdout",
     "output_type": "stream",
     "text": [
      "0\n"
     ]
    },
    {
     "name": "stderr",
     "output_type": "stream",
     "text": [
      "/Users/work/anaconda3/lib/python3.6/site-packages/pandas/core/ops/__init__.py:1115: FutureWarning: elementwise comparison failed; returning scalar instead, but in the future will perform elementwise comparison\n",
      "  result = method(y)\n"
     ]
    }
   ],
   "source": [
    "num_incorr_stop = len(SST_concat.loc[(SST_concat['correct_stop'] == '1.0') & (SST_concat['TrialCode'] == 'IncorrectStop')])\n"
   ]
  },
  {
   "cell_type": "markdown",
   "metadata": {},
   "source": [
    "Stop trials that are recorded as correct, but are actually incorrect"
   ]
  },
  {
   "cell_type": "code",
   "execution_count": 916,
   "metadata": {},
   "outputs": [],
   "source": [
    "num_corr_stop = len(SST_concat.loc[SST_concat['TrialCode'] == 'CorrectStop'])"
   ]
  },
  {
   "cell_type": "code",
   "execution_count": 903,
   "metadata": {},
   "outputs": [],
   "source": [
    "num_0_corr_stop = len(SST_concat.loc[(SST_concat['correct_stop'] == 0) & (SST_concat['TrialCode'] == 'CorrectStop')])"
   ]
  },
  {
   "cell_type": "code",
   "execution_count": 918,
   "metadata": {},
   "outputs": [],
   "source": [
    "num_long_resp_0_corr = len(SST_concat.loc[(SST_concat['correct_stop'] == 0) & (SST_concat['TrialCode'] == 'CorrectStop') \\\n",
    "                               & (SST_concat['Fix.RT'] > 0)])"
   ]
  },
  {
   "cell_type": "code",
   "execution_count": 923,
   "metadata": {},
   "outputs": [],
   "source": [
    "num_short_resp_0_corr = len(SST_concat.loc[(SST_concat['correct_stop'] == 0) & (SST_concat['TrialCode'] == 'CorrectStop') \\\n",
    "                               & (SST_concat['Fix.RT'] == 0)])"
   ]
  },
  {
   "cell_type": "code",
   "execution_count": 924,
   "metadata": {},
   "outputs": [
    {
     "data": {
      "text/plain": [
       "0.004156844950836945"
      ]
     },
     "execution_count": 924,
     "metadata": {},
     "output_type": "execute_result"
    }
   ],
   "source": [
    "num_0_corr_stop / num_corr_stop"
   ]
  },
  {
   "cell_type": "code",
   "execution_count": 925,
   "metadata": {},
   "outputs": [
    {
     "data": {
      "text/plain": [
       "0.003564657973566927"
      ]
     },
     "execution_count": 925,
     "metadata": {},
     "output_type": "execute_result"
    }
   ],
   "source": [
    "num_long_resp_0_corr / num_corr_stop #on trials with long responses "
   ]
  },
  {
   "cell_type": "code",
   "execution_count": 926,
   "metadata": {},
   "outputs": [
    {
     "data": {
      "text/plain": [
       "0.000592186977270018"
      ]
     },
     "execution_count": 926,
     "metadata": {},
     "output_type": "execute_result"
    }
   ],
   "source": [
    "num_short_resp_0_corr / num_corr_stop #trials with responses right on as stimuli appear "
   ]
  },
  {
   "cell_type": "markdown",
   "metadata": {},
   "source": [
    "### Issue 7: SSD values start too short \n",
    "\n",
    "SSD always start at 50ms, and it takes several trials to stabilize with a staircase tracking procedure. "
   ]
  },
  {
   "cell_type": "code",
   "execution_count": 357,
   "metadata": {},
   "outputs": [],
   "source": [
    "def binomial_CI(p, n, ci):  \n",
    "    sem = math.sqrt(p * (1-p) / n)\n",
    "    z = stats.norm.ppf(1-(1-ci)/2) #to get two tailed\n",
    "    lower = p - (1.96 * sem)\n",
    "    upper = p + (1.96 * sem)\n",
    "    return upper, lower\n"
   ]
  },
  {
   "cell_type": "code",
   "execution_count": 358,
   "metadata": {},
   "outputs": [],
   "source": [
    "#create a df with accuracy and ssd for each stop trial num \n",
    "num_stop = []\n",
    "accuracy = [] \n",
    "mean_ssd = [] \n",
    "ssd_standard_error = []\n",
    "acc_ci_upper = [] \n",
    "acc_ci_lower = []\n",
    "for i in np.arange(1, 61): \n",
    "    correct = SST_concat.loc[SST_concat['StopTrial'] ==i]['correct_stop'].value_counts()[1]\n",
    "    num_trials = len(SST_concat.loc[SST_concat['StopTrial'] ==i])#this takes the count of 1s\n",
    "    acc = correct / len(SST_concat.loc[SST_concat['StopTrial'] ==i])\n",
    "#     lower = astropy.stats.binom_conf_interval(correct, len(SST_concat.loc[SST_concat['StopTrial'] ==i]), .95)[0]\n",
    "#     upper = astropy.stats.binom_conf_interval(correct, len(SST_concat.loc[SST_concat['StopTrial'] ==i]), .95)[1]\n",
    "    \n",
    "    acc_upper, acc_lower  = binomial_CI(acc, num_trials, .95)\n",
    "    ssd_sem = stats.sem(SST_concat.loc[SST_concat['StopTrial'] == i]['SSDDur'])\n",
    "    ssd = np.mean(SST_concat.loc[SST_concat['StopTrial'] == i]['SSDDur'])\n",
    "    num_stop.append(i)\n",
    "    accuracy.append(acc)\n",
    "    ssd_standard_error.append(ssd_sem)\n",
    "    mean_ssd.append(ssd)\n",
    "    acc_ci_lower.append(acc_upper)\n",
    "    acc_ci_upper.append(acc_lower)\n",
    "    \n",
    "acc_df = pd.DataFrame() \n",
    "acc_df['StopTrial'] = num_stop \n",
    "acc_df['Accuracy'] = accuracy\n",
    "acc_df['SSD'] = mean_ssd\n",
    "acc_df['ssd_standard_error'] = ssd_standard_error\n",
    "acc_df['upper'] = acc_ci_upper\n",
    "acc_df['lower'] = acc_ci_lower\n",
    "\n"
   ]
  },
  {
   "cell_type": "markdown",
   "metadata": {},
   "source": [
    "####  Figure 7: Average stop-signal accuracy (a) and stop-signal delay (SSD, b) across subjects for each of the 60 stop trials.\n"
   ]
  },
  {
   "cell_type": "code",
   "execution_count": 888,
   "metadata": {},
   "outputs": [
    {
     "data": {
      "image/png": "[encoded data removed]",
      "text/plain": [
       "<Figure size 504x720 with 2 Axes>"
      ]
     },
     "metadata": {
      "image/png": {
       "height": 599,
       "width": 459
      }
     },
     "output_type": "display_data"
    }
   ],
   "source": [
    "fig, axs = plt.subplots(2, 1, figsize=(7, 10))\n",
    "axs[0].plot(acc_df['StopTrial'][:30], acc_df['Accuracy'][:30], color='black')\n",
    "\n",
    "axs[0].plot(acc_df['StopTrial'][30:], acc_df['Accuracy'][30:], color='black')\n",
    "\n",
    "# for stop_trial_num in np.arange(1,60,1): \n",
    "#     plt.plot(SST_concat.loc[SST_concat['StopTrial'] == stop_trial_num]['SSDDur'])\n",
    "    \n",
    "axs[0].fill_between(x=acc_df['StopTrial'][:30], y1=acc_df['lower'][:30], \n",
    "                 y2=acc_df['upper'][:30], color='grey', alpha=.75)\n",
    "\n",
    "axs[0].fill_between(x=acc_df['StopTrial'][30:], y1=acc_df['lower'][30:], \n",
    "                 y2=acc_df['upper'][30:], color='grey', alpha=.75)\n",
    "\n",
    "axs[0].set(xlabel='Stop Trial',ylabel='Stop Signal Accuracy')\n",
    "\n",
    "#plt.title('Stop Signal Accuracy by Number of Stop Trial')\n",
    "#plt.axvline(x=30.5, color = 'grey', alpha = 1.0, lw=1.0, ls='--')\n",
    "axs[0].set_yticks(np.arange(0,1.1, .1))\n",
    "axs[0].set_xticks(np.arange(0,61,5))\n",
    "#axs[0].annotate('a)', xy=(0,.9))\n",
    "\n",
    "axs[0].text(-11, 1, 'a)', \n",
    "            size=15, weight='bold')\n",
    "\n",
    "\n",
    "axs[1].plot(acc_df['StopTrial'][:30], acc_df['SSD'][:30], color='black')\n",
    "axs[1].plot(acc_df['StopTrial'][30:], acc_df['SSD'][30:], color='black')\n",
    "axs[1].fill_between(x=acc_df['StopTrial'][:30], y1=acc_df['SSD'][:30]-(1.96*acc_df['ssd_standard_error'][:30]), \n",
    "                 y2=acc_df['SSD'][:30]+(1.96*acc_df['ssd_standard_error'][:30]), color='grey', alpha=.75\n",
    "                            )\n",
    "\n",
    "# for stop_trial_num in np.arange(1,31,1): \n",
    "#     plt.plot(np.ones((8463,)) * stop_trial_num, SST_concat.loc[SST_concat['StopTrial'] == stop_trial_num]['SSDDur'], '.', alpha=.00625, color='lightblue')\n",
    "\n",
    "# for stop_trial_num in np.arange(31,61,1): \n",
    "#     plt.plot(np.ones((8463,)) * stop_trial_num, SST_concat.loc[SST_concat['StopTrial'] == stop_trial_num]['SSDDur'], '.', alpha=.00625, color='lightblue')\n",
    "\n",
    "axs[1].text(-11, 300, 'b)', \n",
    "            size=15, weight='bold')\n",
    "axs[1].fill_between(x=acc_df['StopTrial'][30:], y1=acc_df['SSD'][30:]-(1.96*acc_df['ssd_standard_error'][30:]), \n",
    "                                           y2=acc_df['SSD'][30:]+(1.96*acc_df['ssd_standard_error'][30:]), color='grey',\n",
    "                alpha=.75)\n",
    "axs[1].set_xlabel('Stop Trial')\n",
    "axs[1].set_ylabel('Stop Signal Delay')\n",
    "axs[1].set_xticks(np.arange(0,61,5))\n",
    "axs[1].set_yticks(np.arange(0, 350, 50))\n",
    "plt.savefig('ssd_and_acc_across_stop_trial.png', dpi=300)\n",
    "plt.show()\n"
   ]
  },
  {
   "cell_type": "markdown",
   "metadata": {},
   "source": [
    "#### Issue 8: Low stop probability \n",
    "\n",
    "The probabilty of a stop trial is .167. "
   ]
  },
  {
   "cell_type": "code",
   "execution_count": 361,
   "metadata": {},
   "outputs": [
    {
     "data": {
      "text/plain": [
       "0.16666765122873345"
      ]
     },
     "execution_count": 361,
     "metadata": {},
     "output_type": "execute_result"
    }
   ],
   "source": [
    "len(SST_concat.loc[SST_concat['trial_type'] == 'StopTrial'])/ len(SST_concat)"
   ]
  }
 ],
 "metadata": {
  "kernelspec": {
   "display_name": "Python 3",
   "language": "python",
   "name": "python3"
  },
  "language_info": {
   "codemirror_mode": {
    "name": "ipython",
    "version": 3
   },
   "file_extension": ".py",
   "mimetype": "text/x-python",
   "name": "python",
   "nbconvert_exporter": "python",
   "pygments_lexer": "ipython3",
   "version": "3.6.10"
  }
 },
 "nbformat": 4,
 "nbformat_minor": 4
}
