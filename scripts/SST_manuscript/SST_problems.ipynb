{
 "cells": [
  {
   "cell_type": "markdown",
   "metadata": {},
   "source": [
    "to make more readable: \n",
    "\n",
    "create variables of common subsets,  \n",
    "functions "
   ]
  },
  {
   "cell_type": "code",
   "execution_count": null,
   "metadata": {},
   "outputs": [],
   "source": [
    "import pandas as pd \n",
    "import matplotlib.pyplot as plt\n",
    "import matplotlib.ticker as mtick\n",
    "import numpy as np\n",
    "import seaborn as sns \n",
    "import scipy\n",
    "import math\n",
    "import random \n",
    "from scipy import stats\n",
    "import statistics"
   ]
  },
  {
   "cell_type": "markdown",
   "metadata": {},
   "source": [
    "### first up: processing"
   ]
  },
  {
   "cell_type": "code",
   "execution_count": null,
   "metadata": {},
   "outputs": [],
   "source": [
    "random.seed(1)"
   ]
  },
  {
   "cell_type": "code",
   "execution_count": null,
   "metadata": {},
   "outputs": [],
   "source": [
    "drop_cols = ['Unnamed: 0', 'Allowed', 'Subject', 'StudioVersion', 'leftarrow', 'rightarrow', 'triggercode',\n",
    "            'Clock.Information', 'DataFile.Basename', 'Display.RefreshRate', 'ExperimentName', \n",
    "            'Procedure[Block]', 'Procedure[Trial]', 'RandomSeed', 'Running[Block]', 'Running[SubTrial]', \n",
    "            'Running[Trial]', 'RuntimeCapabilities', 'RuntimeVersion', 'RuntimeVersionExpected']\n"
   ]
  },
  {
   "cell_type": "code",
   "execution_count": null,
   "metadata": {},
   "outputs": [],
   "source": [
    "#this makes it so that the WHOLE dataframe prints, just fyi, this can bog down your code\n",
    "\n",
    "pd.set_option('display.max_columns', 1000)  # or 1000\n",
    "pd.set_option('display.max_rows', None)  # or 1000\n",
    "pd.set_option('display.max_colwidth', 199)  # or 199"
   ]
  },
  {
   "cell_type": "code",
   "execution_count": null,
   "metadata": {},
   "outputs": [],
   "source": [
    "SST_concat = pd.read_csv('SST_cleaned_7231_all_rows_all_columns.csv').drop(drop_cols, axis =1)"
   ]
  },
  {
   "cell_type": "markdown",
   "metadata": {},
   "source": [
    "#### then, a few qa checks: "
   ]
  },
  {
   "cell_type": "code",
   "execution_count": null,
   "metadata": {},
   "outputs": [],
   "source": [
    "#check these values - they shouldn't be over 1000ms \n",
    "sum(SST_concat['go_stim_duration'] > 1000)"
   ]
  },
  {
   "cell_type": "code",
   "execution_count": null,
   "metadata": {},
   "outputs": [],
   "source": [
    "#check len - should be 2mil \n",
    "assert len(SST_concat) == 2603160"
   ]
  },
  {
   "cell_type": "code",
   "execution_count": null,
   "metadata": {},
   "outputs": [],
   "source": [
    "len(SST_concat.loc[SST_concat['TrialCode'] == 'IncorrectGo'])"
   ]
  },
  {
   "cell_type": "code",
   "execution_count": null,
   "metadata": {},
   "outputs": [],
   "source": [
    "len(SST_concat.loc[SST_concat['TrialCode'] == 'CorrectGo'])"
   ]
  },
  {
   "cell_type": "code",
   "execution_count": null,
   "metadata": {},
   "outputs": [],
   "source": [
    "len(SST_concat.loc[SST_concat['TrialCode'] == 'CorrectStop'])"
   ]
  },
  {
   "cell_type": "code",
   "execution_count": null,
   "metadata": {},
   "outputs": [],
   "source": [
    "len(SST_concat.loc[SST_concat['TrialCode'] == 'IncorrectStop'])"
   ]
  },
  {
   "cell_type": "code",
   "execution_count": null,
   "metadata": {},
   "outputs": [],
   "source": [
    "#assertion about stop_rt_adjusted and go_rt_adjusted"
   ]
  },
  {
   "cell_type": "code",
   "execution_count": null,
   "metadata": {},
   "outputs": [],
   "source": [
    "#build in a few more here - for trial code correctness and "
   ]
  },
  {
   "cell_type": "markdown",
   "metadata": {},
   "source": [
    "### Issue 1:  Different go stimulus duration across trials"
   ]
  },
  {
   "cell_type": "markdown",
   "metadata": {},
   "source": [
    "mean duration go stimulus on go trials - all trials "
   ]
  },
  {
   "cell_type": "code",
   "execution_count": null,
   "metadata": {},
   "outputs": [],
   "source": [
    "print(np.mean(SST_concat['go_stim_duration'].loc[SST_concat['trial_type'] == 'GoTrial']))\n",
    "print(np.std(SST_concat['go_stim_duration'].loc[SST_concat['trial_type'] == 'GoTrial']))\n",
    "statistics.stdev(SST_concat['go_stim_duration'].loc[SST_concat['trial_type'] == 'GoTrial'])"
   ]
  },
  {
   "cell_type": "markdown",
   "metadata": {},
   "source": [
    "mean duration go stimulus on stop trials"
   ]
  },
  {
   "cell_type": "code",
   "execution_count": null,
   "metadata": {},
   "outputs": [],
   "source": [
    "print(np.mean(SST_concat['go_stim_duration'].loc[SST_concat['trial_type'] == 'StopTrial']))\n",
    "print(np.std(SST_concat['go_stim_duration'].loc[SST_concat['trial_type'] == 'StopTrial']))\n",
    "statistics.stdev(SST_concat['go_stim_duration'].loc[SST_concat['trial_type'] == 'StopTrial'])"
   ]
  },
  {
   "cell_type": "markdown",
   "metadata": {},
   "source": [
    "difference of these"
   ]
  },
  {
   "cell_type": "code",
   "execution_count": null,
   "metadata": {},
   "outputs": [],
   "source": [
    "np.mean(SST_concat['go_stim_duration'].loc[SST_concat['trial_type'] == 'GoTrial']) \\\n",
    "    - np.mean(SST_concat['go_stim_duration'].loc[SST_concat['trial_type'] == 'StopTrial'].dropna())"
   ]
  },
  {
   "cell_type": "markdown",
   "metadata": {},
   "source": [
    "plot to show how drastic this is"
   ]
  },
  {
   "cell_type": "code",
   "execution_count": null,
   "metadata": {},
   "outputs": [],
   "source": [
    "plt.hist(SST_concat['go_stim_duration'].loc[SST_concat['trial_type'] == 'StopTrial'].dropna(), bins = 14, label = \"stop trials\", color = 'grey')\n",
    "plt.xlabel('Go Stimulus Duration (ms)')\n",
    "#plt.title('Go Stimulus Duration')\n",
    "plt.ylabel('Count')\n",
    "\n",
    "#SSDUR.value_counts()\n",
    "plt.hist(SST_concat['go_stim_duration'].loc[SST_concat['trial_type'] == 'GoTrial'].dropna(), bins = 14, histtype='step',\\\n",
    "          label = \"go trials\", color = 'black')\n",
    "#plt.axvline(x=mean_SSD, color = 'r', label = \"mean SSD\")\n",
    "plt.legend(loc='upper left')#, bbox_to_anchor=(1.0, 1.00), shadow=True, ncol=1)\n",
    "plt.show()\n"
   ]
  },
  {
   "cell_type": "markdown",
   "metadata": {},
   "source": [
    "mean go.rt vs. mean stop failure & how many subjects mean stop failure is longer than mean rt "
   ]
  },
  {
   "cell_type": "markdown",
   "metadata": {},
   "source": [
    "stop failure RT - all trials"
   ]
  },
  {
   "cell_type": "code",
   "execution_count": null,
   "metadata": {},
   "outputs": [],
   "source": [
    "np.mean(SST_concat.loc[SST_concat['correct_stop'] == 0]['stop_rt_adjusted'])"
   ]
  },
  {
   "cell_type": "markdown",
   "metadata": {},
   "source": [
    "overt go response rt - all trials "
   ]
  },
  {
   "cell_type": "code",
   "execution_count": null,
   "metadata": {},
   "outputs": [],
   "source": [
    "np.mean(SST_concat.loc[SST_concat['correct_go_response'] != 'omission']['go_rt_adjusted'])"
   ]
  },
  {
   "cell_type": "markdown",
   "metadata": {},
   "source": [
    "let's look at the averages by participant now: "
   ]
  },
  {
   "cell_type": "code",
   "execution_count": null,
   "metadata": {},
   "outputs": [],
   "source": [
    "group_narguid = SST_concat.groupby('NARGUID')"
   ]
  },
  {
   "cell_type": "code",
   "execution_count": null,
   "metadata": {},
   "outputs": [],
   "source": [
    "narguid_stop_duration = group_narguid.apply(lambda x: np.mean(x.loc[x['trial_type'] == 'StopTrial']['go_stim_duration']))"
   ]
  },
  {
   "cell_type": "code",
   "execution_count": null,
   "metadata": {},
   "outputs": [],
   "source": [
    "np.std(narguid_stop_duration)"
   ]
  },
  {
   "cell_type": "code",
   "execution_count": null,
   "metadata": {},
   "outputs": [],
   "source": [
    "narguid_go_duration = group_narguid.apply(lambda x: np.mean(x.loc[x['trial_type'] == 'GoTrial']['go_stim_duration']))"
   ]
  },
  {
   "cell_type": "code",
   "execution_count": null,
   "metadata": {},
   "outputs": [],
   "source": [
    "np.std(narguid_go_duration)"
   ]
  },
  {
   "cell_type": "code",
   "execution_count": 141,
   "metadata": {},
   "outputs": [
    {
     "data": {
      "text/plain": [
       "340.6331825934649"
      ]
     },
     "execution_count": 141,
     "metadata": {},
     "output_type": "execute_result"
    }
   ],
   "source": [
    "np.mean(narguid_go_duration) - np.mean(narguid_stop_duration)"
   ]
  },
  {
   "cell_type": "markdown",
   "metadata": {},
   "source": [
    "stop failure RT - by participant "
   ]
  },
  {
   "cell_type": "code",
   "execution_count": null,
   "metadata": {},
   "outputs": [],
   "source": [
    "#lambda x lets us apply np.mean to each group\n",
    "narguid_average_stop_rt = group_narguid.apply(lambda x: \\\n",
    "                                                np.mean(x.loc[x['correct_stop'] == 0]['stop_rt_adjusted']))\n",
    "np.mean(narguid_average_stop_rt)"
   ]
  },
  {
   "cell_type": "markdown",
   "metadata": {},
   "source": [
    "go rt - by participant"
   ]
  },
  {
   "cell_type": "code",
   "execution_count": null,
   "metadata": {},
   "outputs": [],
   "source": [
    "narguid_average_go_rt = group_narguid.apply(lambda x: np.mean(x.loc[(x['correct_go_response'] != 'omission') \\\n",
    "                                                                    & (x['trial_type'] == 'GoTrial')]['go_rt_adjusted']))\n",
    "print('mean:', np.mean(narguid_average_go_rt))\n",
    "print('sdev:', np.std(narguid_average_go_rt))"
   ]
  },
  {
   "cell_type": "markdown",
   "metadata": {},
   "source": [
    "context violations -  "
   ]
  },
  {
   "cell_type": "code",
   "execution_count": null,
   "metadata": {},
   "outputs": [],
   "source": [
    "print(sum(np.greater(narguid_average_stop_rt, narguid_average_go_rt)))\n",
    "sum(np.greater(narguid_average_stop_rt, narguid_average_go_rt)) / 7231"
   ]
  },
  {
   "cell_type": "code",
   "execution_count": null,
   "metadata": {},
   "outputs": [],
   "source": [
    "def stop_fail_accuracy(df):\n",
    "    try: \n",
    "        acc = len(df.loc[df['correct_stop_mapping'] == 1]) / len(df.loc[df['correct_stop'] == 0])\n",
    "    except ZeroDivisionError:\n",
    "        acc = np.NaN\n",
    "    \n",
    "    return acc\n",
    "                                                "
   ]
  },
  {
   "cell_type": "code",
   "execution_count": null,
   "metadata": {},
   "outputs": [],
   "source": [
    "narguid_df = pd.DataFrame({'stop_rt': narguid_average_stop_rt,'go_rt':narguid_average_go_rt})\n",
    "\n",
    "narguid_df['stop_acc'] = np.NaN\n",
    "narguid_df['go_acc'] = np.NaN\n",
    "\n",
    "narguid_df['go_acc'] = group_narguid.apply(lambda x: len(x.loc[x['correct_go_response'] == '1.0']) /\n",
    "                                          len(x.loc[(x['correct_go_response'] != 'omission') & (x['trial_type'] == 'GoTrial')]))\n",
    "\n",
    "narguid_df['stop_acc'] = group_narguid.apply(lambda x: stop_fail_accuracy(x))\n",
    "narguid_df = narguid_df.dropna(how='any')\n",
    "#this doesn't have three participants who had perfect stop accuracy"
   ]
  },
  {
   "cell_type": "markdown",
   "metadata": {},
   "source": [
    "some t-tests - needs mse & degrees of freedom"
   ]
  },
  {
   "cell_type": "code",
   "execution_count": null,
   "metadata": {},
   "outputs": [],
   "source": [
    "from scipy.stats import ttest_rel, ttest_ind\n",
    "ttest_rel(narguid_df['stop_rt'], narguid_df['go_rt'])"
   ]
  },
  {
   "cell_type": "markdown",
   "metadata": {},
   "source": [
    "accuracies"
   ]
  },
  {
   "cell_type": "code",
   "execution_count": null,
   "metadata": {},
   "outputs": [],
   "source": [
    "np.mean(narguid_df['stop_acc'])\n"
   ]
  },
  {
   "cell_type": "code",
   "execution_count": null,
   "metadata": {},
   "outputs": [],
   "source": [
    "np.mean(narguid_df['go_acc'])"
   ]
  },
  {
   "cell_type": "code",
   "execution_count": null,
   "metadata": {},
   "outputs": [],
   "source": [
    "ttest_rel(narguid_df['stop_acc'], narguid_df['go_acc'])"
   ]
  },
  {
   "cell_type": "markdown",
   "metadata": {},
   "source": [
    "### Issue 2: Go Stimulus sometimes not presented"
   ]
  },
  {
   "cell_type": "markdown",
   "metadata": {},
   "source": [
    "percentage of trials with SSD == 0, and therefor, no go stimulus"
   ]
  },
  {
   "cell_type": "code",
   "execution_count": null,
   "metadata": {},
   "outputs": [],
   "source": [
    "len(SST_concat.loc[SST_concat['SSDDur'] == 0])/\\\n",
    "    len(SST_concat.loc[SST_concat['trial_type'] == 'StopTrial'])"
   ]
  },
  {
   "cell_type": "markdown",
   "metadata": {},
   "source": [
    "rt on these trials"
   ]
  },
  {
   "cell_type": "code",
   "execution_count": null,
   "metadata": {},
   "outputs": [],
   "source": [
    "np.mean(SST_concat.loc[SST_concat['SSDDur'] == 0]['stop_rt_adjusted'])"
   ]
  },
  {
   "cell_type": "markdown",
   "metadata": {},
   "source": [
    "percent of accuracy when SSD == 0 "
   ]
  },
  {
   "cell_type": "code",
   "execution_count": 134,
   "metadata": {},
   "outputs": [],
   "source": [
    "def zero_SSD_acc(df): #this can eventually be ocmbined with stop fial acc \n",
    "    try: \n",
    "        acc = len(df.loc[(df['SSDDur'] == 0) & (df['correct_stop'] == 1.0)]) / len(df.loc[df['SSDDur'] == 0])\n",
    "    except ZeroDivisionError:\n",
    "        acc = np.NaN\n",
    "    \n",
    "    return acc\n",
    "                       "
   ]
  },
  {
   "cell_type": "code",
   "execution_count": 135,
   "metadata": {},
   "outputs": [],
   "source": [
    "zero_acc = group_narguid.apply(lambda x: zero_SSD_acc(x))"
   ]
  },
  {
   "cell_type": "code",
   "execution_count": 136,
   "metadata": {},
   "outputs": [
    {
     "data": {
      "text/plain": [
       "0.6045009332058497"
      ]
     },
     "execution_count": 136,
     "metadata": {},
     "output_type": "execute_result"
    }
   ],
   "source": [
    "np.mean(zero_acc)"
   ]
  },
  {
   "cell_type": "code",
   "execution_count": null,
   "metadata": {},
   "outputs": [],
   "source": [
    "#needs to be be changed to narguid accuracies\n",
    "len(SST_concat.loc[(SST_concat['SSDDur'] == 0) & (SST_concat['correct_stop'] == 1.0)])/ \\\n",
    "    len(SST_concat.loc[SST_concat['SSDDur'] == 0])"
   ]
  },
  {
   "cell_type": "markdown",
   "metadata": {},
   "source": [
    "### Issue 5: Non-uniform conditional trial probabilities"
   ]
  },
  {
   "cell_type": "code",
   "execution_count": null,
   "metadata": {},
   "outputs": [],
   "source": [
    "#set up expected duration\n",
    "x = np.arange(0,20, 1) \n",
    "def my_dist(i):\n",
    "    i = (1/6) * (5/6)**(i)\n",
    "    return(i)  \n",
    "p = my_dist(x)"
   ]
  },
  {
   "cell_type": "code",
   "execution_count": null,
   "metadata": {},
   "outputs": [],
   "source": [
    "stop_prob_index = SST_concat.loc[SST_concat['StopTrial'] !=1].index"
   ]
  },
  {
   "cell_type": "code",
   "execution_count": null,
   "metadata": {},
   "outputs": [],
   "source": [
    "#this needs fixing - this will break if you run it fyi \n",
    "plt.hist(SST_concat['Stop_nback'].dropna(), normed=True, bins = 20, label = 'ABCD Data conditional probability')\n",
    "plt.hist(x,p, label = 'random conditional probability of a stop signal')\n",
    "plt.xlabel('number of go trials in between stop trials')\n",
    "plt.title('Non-uniform conditional trial probabilities')\n",
    "\n",
    "plt.xticks(np.arange(0, 21, step=2))\n",
    "plt.legend()\n",
    "plt.show()"
   ]
  },
  {
   "cell_type": "markdown",
   "metadata": {},
   "source": [
    "conditional probability of a stop signal, given a stop signal occured two trials ago"
   ]
  },
  {
   "cell_type": "code",
   "execution_count": 157,
   "metadata": {},
   "outputs": [
    {
     "name": "stdout",
     "output_type": "stream",
     "text": [
      "percent of trials with stop signals sepreated by one go trial: 0.021472364357165905\n"
     ]
    }
   ],
   "source": [
    "one_back = SST_concat.loc[SST_concat['Stop_nback'] == 1] #stop nback in this case \n",
    "stop_nback = SST_concat.loc[~SST_concat['Stop_nback'].isnull()]['Stop_nback']\n",
    "print(\"percent of trials with stop signals sepreated by one go trial:\", len(one_back) / len(SST_concat.loc[SST_concat['trial_type'] == 'StopTrial'] )) \n",
    "#this num changed when re-ran with better indexing for selecting stop trials "
   ]
  },
  {
   "cell_type": "markdown",
   "metadata": {},
   "source": [
    "##### post stop slowing? "
   ]
  },
  {
   "cell_type": "code",
   "execution_count": 99,
   "metadata": {},
   "outputs": [
    {
     "data": {
      "text/plain": [
       "359    3551\n",
       "358    1650\n",
       "352     604\n",
       "355     586\n",
       "356     574\n",
       "360     266\n",
       "Name: TrialNum, dtype: int64"
      ]
     },
     "execution_count": 99,
     "metadata": {},
     "output_type": "execute_result"
    }
   ],
   "source": [
    "SST_concat.loc[(SST_concat['StopTrial'] == 30)]['TrialNum'].value_counts()\n",
    "SST_concat.loc[(SST_concat['StopTrial'] == 60)]['TrialNum'].value_counts()"
   ]
  },
  {
   "cell_type": "markdown",
   "metadata": {},
   "source": [
    "to do - exclude omissions, comissions, and cross-run "
   ]
  },
  {
   "cell_type": "code",
   "execution_count": null,
   "metadata": {},
   "outputs": [],
   "source": [
    "#find the stop trials\n",
    "stop_mask = SST_concat.loc[SST_concat['trial_type'] == 'StopTrial']\n",
    "\n",
    "stop_idx = stop_mask[stop_mask == True].index\n",
    "#make the new column\n",
    "SST_concat['signal_slowing'] = np.NaN\n",
    "\n",
    "#get the pre-stop rt\n",
    "pre_stop_rt = SST_concat['go_rt_adjusted'].loc[stop_idx - 1] #find trial before stop signal\n",
    "\n",
    "post_stop_rt = SST_concat['go_rt_adjusted'].loc[stop_idx + 1] #find trial after\n",
    "\n",
    "SST_concat['signal_slowing'][stop_idx]= np.array(post_stop_rt) - np.array(pre_stop_rt) #subtract them, and assign to stop trial \n"
   ]
  },
  {
   "cell_type": "code",
   "execution_count": null,
   "metadata": {},
   "outputs": [],
   "source": [
    "NARGUID_signal_slowing = SST_concat.groupby('NARGUID').apply(lambda x: np.mean(x['signal_slowing']))"
   ]
  },
  {
   "cell_type": "code",
   "execution_count": null,
   "metadata": {},
   "outputs": [],
   "source": [
    "stop_slowing = [] \n",
    "for i in np.arange(2, 60, 1):\n",
    "    stop_slowing.append((SST_concat['signal_slowing'].loc[(SST_concat['StopTrial'] == i)]))\n"
   ]
  },
  {
   "cell_type": "code",
   "execution_count": null,
   "metadata": {},
   "outputs": [],
   "source": [
    "quartile_slowing = [] \n",
    "quartile_slowing.append(np.mean(stop_slowing[1:15]))\n",
    "quartile_slowing.append(np.mean(stop_slowing[16:30]))\n",
    "quartile_slowing.append(np.mean(stop_slowing[31:45]))\n",
    "quartile_slowing.append(np.mean(stop_slowing[46:60]))"
   ]
  },
  {
   "cell_type": "code",
   "execution_count": 158,
   "metadata": {},
   "outputs": [
    {
     "data": {
      "image/png": "[encoded data removed]",
      "text/plain": [
       "<Figure size 432x288 with 1 Axes>"
      ]
     },
     "metadata": {},
     "output_type": "display_data"
    }
   ],
   "source": [
    "plt.plot(np.arange(1, 5, 1), quartile_slowing, color='black')\n",
    "#plt.title('Post-Stop-Trial Slowing')\n",
    "plt.ylabel('ms')\n",
    "plt.xlabel('Task Quartile')\n",
    "plt.xticks([1, 2, 3, 4])\n",
    "plt.yticks(np.arange(10,35,5))\n",
    "plt.show() #needs error bars "
   ]
  },
  {
   "cell_type": "markdown",
   "metadata": {},
   "source": [
    "#### Issue 4: Different stop signal stimulus duration for different SSDs"
   ]
  },
  {
   "cell_type": "code",
   "execution_count": 72,
   "metadata": {},
   "outputs": [
    {
     "data": {
      "text/plain": [
       "0.008309131978057438"
      ]
     },
     "execution_count": 72,
     "metadata": {},
     "output_type": "execute_result"
    }
   ],
   "source": [
    "len(SST_concat.loc[SST_concat['SSDDur'] > 700]) / 433860 #get rid of the hardcoding "
   ]
  },
  {
   "cell_type": "code",
   "execution_count": 73,
   "metadata": {},
   "outputs": [
    {
     "data": {
      "image/png": "[encoded data removed]",
      "text/plain": [
       "<Figure size 432x288 with 1 Axes>"
      ]
     },
     "metadata": {},
     "output_type": "display_data"
    }
   ],
   "source": [
    "plt.hist(SST_concat['SSDDur'].dropna(), bins = len(SST_concat['SSDDur'].dropna().unique()), color='grey')\n",
    "plt.xlabel('ms') #fix xlabel, ylabel \n",
    "#plt.title('Distribution of Stop Signal Delays')\n",
    "\n",
    "#plt.axvline(x=mean_SSD, color = 'r', label = \"mean SSD\")\n",
    "#plt.legend()\n",
    "plt.show()"
   ]
  },
  {
   "cell_type": "markdown",
   "metadata": {},
   "source": [
    "#### Issue 3: SSD can become stuck at 0ms \n"
   ]
  },
  {
   "cell_type": "code",
   "execution_count": 64,
   "metadata": {},
   "outputs": [],
   "source": [
    "#uncomment to look at the relevant columns \n",
    "# SST_concat.loc[(SST_concat['SSD.RT'] < 100) & (SST_concat['SSD.RT'] > 0) & (SST_concat['SSDDur'] <=50)]\\\n",
    "#      [['NARGUID', 'TrialNum', 'SSD.RT', 'SSD.RESP', 'SSDDur' ]]"
   ]
  },
  {
   "cell_type": "code",
   "execution_count": 107,
   "metadata": {},
   "outputs": [],
   "source": [
    "SSD_bug = SST_concat.loc[(SST_concat['SSD.RT'] < 50) & (SST_concat['SSD.RT'] > 0) & (SST_concat['SSDDur'] <=50)]['NARGUID']# \\"
   ]
  },
  {
   "cell_type": "code",
   "execution_count": 153,
   "metadata": {},
   "outputs": [
    {
     "data": {
      "text/plain": [
       "2.7243811367722306"
      ]
     },
     "execution_count": 153,
     "metadata": {},
     "output_type": "execute_result"
    }
   ],
   "source": [
    "len(SSD_bug.unique())/ 7231  #percent of subjects with this issue "
   ]
  },
  {
   "cell_type": "code",
   "execution_count": 154,
   "metadata": {},
   "outputs": [
    {
     "data": {
      "text/plain": [
       "0.0021101276909602177"
      ]
     },
     "execution_count": 154,
     "metadata": {},
     "output_type": "execute_result"
    }
   ],
   "source": [
    "len(SSD_bug) / len(SST_concat) #percent of trials this impacts "
   ]
  },
  {
   "cell_type": "code",
   "execution_count": 120,
   "metadata": {},
   "outputs": [
    {
     "data": {
      "text/plain": [
       "7034"
      ]
     },
     "execution_count": 120,
     "metadata": {},
     "output_type": "execute_result"
    }
   ],
   "source": [
    "len(SST_concat['NARGUID'].unique()) - len(SSD_bug.unique() * 360)"
   ]
  },
  {
   "cell_type": "code",
   "execution_count": 123,
   "metadata": {},
   "outputs": [
    {
     "data": {
      "text/plain": [
       "7034"
      ]
     },
     "execution_count": 123,
     "metadata": {},
     "output_type": "execute_result"
    }
   ],
   "source": [
    "len(SST_concat.set_index('NARGUID').drop(SSD_bug.unique()).index.unique()) #check this syntax drops all of the narguids for these participants "
   ]
  },
  {
   "cell_type": "code",
   "execution_count": null,
   "metadata": {},
   "outputs": [],
   "source": [
    "SST_concat.set_index('NARGUID').drop(SSD_bug.unique())"
   ]
  },
  {
   "cell_type": "code",
   "execution_count": 146,
   "metadata": {},
   "outputs": [],
   "source": [
    "drop_zero_ssd_group = SST_concat.set_index('NARGUID').drop(SSD_bug.unique()).groupby('NARGUID') #a little convoluted, but drops the prob barguids and regroups "
   ]
  },
  {
   "cell_type": "code",
   "execution_count": 147,
   "metadata": {},
   "outputs": [
    {
     "data": {
      "text/plain": [
       "7034"
      ]
     },
     "execution_count": 147,
     "metadata": {},
     "output_type": "execute_result"
    }
   ],
   "source": [
    "len(drop_zero_ssd_group)"
   ]
  },
  {
   "cell_type": "code",
   "execution_count": 150,
   "metadata": {},
   "outputs": [],
   "source": [
    "drop_zero_acc = drop_zero_ssd_group.apply(lambda x: zero_SSD_acc(x))"
   ]
  },
  {
   "cell_type": "code",
   "execution_count": 151,
   "metadata": {},
   "outputs": [
    {
     "data": {
      "text/plain": [
       "0.6311580931217083"
      ]
     },
     "execution_count": 151,
     "metadata": {},
     "output_type": "execute_result"
    }
   ],
   "source": [
    "np.mean(drop_zero_acc)"
   ]
  },
  {
   "cell_type": "markdown",
   "metadata": {},
   "source": [
    "#### Issue 6: Trial accuracy incorrectly coded"
   ]
  },
  {
   "cell_type": "code",
   "execution_count": null,
   "metadata": {},
   "outputs": [],
   "source": [
    "#move from other notebook "
   ]
  },
  {
   "cell_type": "markdown",
   "metadata": {},
   "source": [
    "#### Issue 7: SSD values start too short \n"
   ]
  },
  {
   "cell_type": "code",
   "execution_count": 68,
   "metadata": {},
   "outputs": [],
   "source": [
    "num_stop = []\n",
    "accuracy = [] \n",
    "\n",
    "for i in np.arange(1, 61): \n",
    "    correct = SST_concat.loc[SST_concat['StopTrial'] ==i]['correct_stop'].value_counts()[1]\n",
    "    acc = correct / len(SST_concat.loc[SST_concat['StopTrial'] ==i])\n",
    " \n",
    "    num_stop.append(i)\n",
    "    accuracy.append(acc)\n",
    "    \n",
    "acc_df = pd.DataFrame() \n",
    "acc_df['StopTrial'] = num_stop \n",
    "acc_df['Accuracy'] = accuracy\n"
   ]
  },
  {
   "cell_type": "code",
   "execution_count": 69,
   "metadata": {},
   "outputs": [
    {
     "data": {
      "image/png": "[encoded data removed]",
      "text/plain": [
       "<Figure size 432x288 with 1 Axes>"
      ]
     },
     "metadata": {},
     "output_type": "display_data"
    }
   ],
   "source": [
    "plt.plot(acc_df['StopTrial'][:30], acc_df['Accuracy'][:30], color='black')\n",
    "plt.plot(acc_df['StopTrial'][30:], acc_df['Accuracy'][30:], color='black')\n",
    "\n",
    "plt.xlabel('Stop Trial')\n",
    "plt.ylabel('Stop Signal Accuracy')\n",
    "#plt.title('Stop Signal Accuracy by Number of Stop Trial')\n",
    "#plt.axvline(x=30.5, color = 'grey', alpha = 1.0, lw=1.0, ls='--')\n",
    "plt.yticks(np.arange(0,1.1, .1))\n",
    "plt.xticks(np.arange(0,61,5))\n",
    "plt.show()\n"
   ]
  },
  {
   "cell_type": "markdown",
   "metadata": {},
   "source": [
    "#### Issue 8: Low stop probability "
   ]
  },
  {
   "cell_type": "markdown",
   "metadata": {},
   "source": [
    "speaks for itself?"
   ]
  }
 ],
 "metadata": {
  "kernelspec": {
   "display_name": "Python 3",
   "language": "python",
   "name": "python3"
  },
  "language_info": {
   "codemirror_mode": {
    "name": "ipython",
    "version": 3
   },
   "file_extension": ".py",
   "mimetype": "text/x-python",
   "name": "python",
   "nbconvert_exporter": "python",
   "pygments_lexer": "ipython3",
   "version": "3.6.5"
  }
 },
 "nbformat": 4,
 "nbformat_minor": 4
}
