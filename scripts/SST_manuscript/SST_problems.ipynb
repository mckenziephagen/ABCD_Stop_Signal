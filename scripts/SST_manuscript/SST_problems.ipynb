{
 "cells": [
  {
   "cell_type": "code",
   "execution_count": 38,
   "metadata": {},
   "outputs": [],
   "source": [
    "import pandas as pd \n",
    "import matplotlib.pyplot as plt\n",
    "import matplotlib.ticker as mtick\n",
    "import numpy as np\n",
    "import seaborn as sns \n",
    "import scipy\n",
    "import math\n",
    "import random \n",
    "from scipy import stats\n",
    "import statistics"
   ]
  },
  {
   "cell_type": "markdown",
   "metadata": {},
   "source": [
    "### first up: processing"
   ]
  },
  {
   "cell_type": "code",
   "execution_count": 2,
   "metadata": {},
   "outputs": [],
   "source": [
    "random.seed(1)"
   ]
  },
  {
   "cell_type": "code",
   "execution_count": 3,
   "metadata": {},
   "outputs": [],
   "source": [
    "drop_cols = ['Unnamed: 0', 'Allowed', 'Subject', 'StudioVersion', 'leftarrow', 'rightarrow', 'triggercode',\n",
    "            'Clock.Information', 'DataFile.Basename', 'Display.RefreshRate', 'ExperimentName', \n",
    "            'Procedure[Block]', 'Procedure[Trial]', 'RandomSeed', 'Running[Block]', 'Running[SubTrial]', \n",
    "            'Running[Trial]', 'RuntimeCapabilities', 'RuntimeVersion', 'RuntimeVersionExpected']\n"
   ]
  },
  {
   "cell_type": "code",
   "execution_count": 4,
   "metadata": {},
   "outputs": [],
   "source": [
    "#this makes it so that the WHOLE dataframe prints, just fyi, this can bog down your code\n",
    "\n",
    "pd.set_option('display.max_columns', 1000)  # or 1000\n",
    "pd.set_option('display.max_rows', None)  # or 1000\n",
    "pd.set_option('display.max_colwidth', 199)  # or 199"
   ]
  },
  {
   "cell_type": "code",
   "execution_count": 5,
   "metadata": {},
   "outputs": [
    {
     "name": "stderr",
     "output_type": "stream",
     "text": [
      "/Users/work/anaconda3/lib/python3.6/site-packages/IPython/core/interactiveshell.py:2785: DtypeWarning: Columns (3,15,38,82,105,115,116) have mixed types. Specify dtype option on import or set low_memory=False.\n",
      "  interactivity=interactivity, compiler=compiler, result=result)\n"
     ]
    }
   ],
   "source": [
    "SST_concat = pd.read_csv('SST_cleaned_7231_all_rows_all_columns.csv').drop(drop_cols, axis =1)"
   ]
  },
  {
   "cell_type": "markdown",
   "metadata": {},
   "source": [
    "#### first, a few qa checks: "
   ]
  },
  {
   "cell_type": "code",
   "execution_count": 6,
   "metadata": {},
   "outputs": [
    {
     "data": {
      "text/plain": [
       "0"
      ]
     },
     "execution_count": 6,
     "metadata": {},
     "output_type": "execute_result"
    }
   ],
   "source": [
    "#check these values - they shouldn't be over 1000ms \n",
    "sum(SST_concat['go_stim_duration'] > 1000)"
   ]
  },
  {
   "cell_type": "code",
   "execution_count": 7,
   "metadata": {},
   "outputs": [],
   "source": [
    "#check len - should be 2mil \n",
    "assert len(SST_concat) == 2603160"
   ]
  },
  {
   "cell_type": "code",
   "execution_count": 8,
   "metadata": {},
   "outputs": [
    {
     "data": {
      "text/plain": [
       "304756"
      ]
     },
     "execution_count": 8,
     "metadata": {},
     "output_type": "execute_result"
    }
   ],
   "source": [
    "len(SST_concat.loc[SST_concat['TrialCode'] == 'IncorrectGo'])"
   ]
  },
  {
   "cell_type": "code",
   "execution_count": 9,
   "metadata": {},
   "outputs": [
    {
     "data": {
      "text/plain": [
       "1864544"
      ]
     },
     "execution_count": 9,
     "metadata": {},
     "output_type": "execute_result"
    }
   ],
   "source": [
    "len(SST_concat.loc[SST_concat['TrialCode'] == 'CorrectGo'])"
   ]
  },
  {
   "cell_type": "code",
   "execution_count": 10,
   "metadata": {},
   "outputs": [
    {
     "data": {
      "text/plain": [
       "221501"
      ]
     },
     "execution_count": 10,
     "metadata": {},
     "output_type": "execute_result"
    }
   ],
   "source": [
    "len(SST_concat.loc[SST_concat['TrialCode'] == 'CorrectStop'])"
   ]
  },
  {
   "cell_type": "code",
   "execution_count": 11,
   "metadata": {},
   "outputs": [
    {
     "data": {
      "text/plain": [
       "212359"
      ]
     },
     "execution_count": 11,
     "metadata": {},
     "output_type": "execute_result"
    }
   ],
   "source": [
    "len(SST_concat.loc[SST_concat['TrialCode'] == 'IncorrectStop'])"
   ]
  },
  {
   "cell_type": "code",
   "execution_count": 12,
   "metadata": {},
   "outputs": [],
   "source": [
    "#assertion about stop_rt_adjusted and go_rt_adjusted"
   ]
  },
  {
   "cell_type": "code",
   "execution_count": 13,
   "metadata": {},
   "outputs": [],
   "source": [
    "#build in a few more here - for trial code correctness and "
   ]
  },
  {
   "cell_type": "markdown",
   "metadata": {},
   "source": [
    "### Issue 1:  Different go stimulus duration across trials"
   ]
  },
  {
   "cell_type": "markdown",
   "metadata": {},
   "source": [
    "mean duration go stimulus on go trials"
   ]
  },
  {
   "cell_type": "code",
   "execution_count": 44,
   "metadata": {},
   "outputs": [
    {
     "name": "stdout",
     "output_type": "stream",
     "text": [
      "566.8983810445766\n",
      "221.8583268472381\n"
     ]
    },
    {
     "data": {
      "text/plain": [
       "221.85837798265038"
      ]
     },
     "execution_count": 44,
     "metadata": {},
     "output_type": "execute_result"
    }
   ],
   "source": [
    "print(np.mean(SST_concat['go_stim_duration'].loc[SST_concat['trial_type'] == 'GoTrial']))\n",
    "print(np.std(SST_concat['go_stim_duration'].loc[SST_concat['trial_type'] == 'GoTrial']))\n",
    "statistics.stdev(SST_concat['go_stim_duration'].loc[SST_concat['trial_type'] == 'GoTrial'])"
   ]
  },
  {
   "cell_type": "markdown",
   "metadata": {},
   "source": [
    "mean duration go stimulus on stop trials"
   ]
  },
  {
   "cell_type": "code",
   "execution_count": 43,
   "metadata": {},
   "outputs": [
    {
     "name": "stdout",
     "output_type": "stream",
     "text": [
      "226.26519845111326\n",
      "151.63924909734422\n"
     ]
    },
    {
     "data": {
      "text/plain": [
       "151.6394238536057"
      ]
     },
     "execution_count": 43,
     "metadata": {},
     "output_type": "execute_result"
    }
   ],
   "source": [
    "print(np.mean(SST_concat['go_stim_duration'].loc[SST_concat['trial_type'] == 'StopTrial']))\n",
    "print(np.std(SST_concat['go_stim_duration'].loc[SST_concat['trial_type'] == 'StopTrial']))\n",
    "statistics.stdev(SST_concat['go_stim_duration'].loc[SST_concat['trial_type'] == 'StopTrial'])"
   ]
  },
  {
   "cell_type": "markdown",
   "metadata": {},
   "source": [
    "difference of these"
   ]
  },
  {
   "cell_type": "code",
   "execution_count": 56,
   "metadata": {},
   "outputs": [
    {
     "data": {
      "text/plain": [
       "340.6331825934633"
      ]
     },
     "execution_count": 56,
     "metadata": {},
     "output_type": "execute_result"
    }
   ],
   "source": [
    "np.mean(SST_concat['go_stim_duration'].loc[SST_concat['trial_type'] == 'GoTrial']) \\\n",
    "    - np.mean(SST_concat['go_stim_duration'].loc[SST_concat['trial_type'] == 'StopTrial'].dropna())"
   ]
  },
  {
   "cell_type": "markdown",
   "metadata": {},
   "source": [
    "plot to show how drastic this is"
   ]
  },
  {
   "cell_type": "code",
   "execution_count": 57,
   "metadata": {},
   "outputs": [
    {
     "data": {
      "image/png": "[encoded data removed]",
      "text/plain": [
       "<Figure size 432x288 with 1 Axes>"
      ]
     },
     "metadata": {},
     "output_type": "display_data"
    }
   ],
   "source": [
    "plt.hist(SST_concat['go_stim_duration'].loc[SST_concat['trial_type'] == 'StopTrial'].dropna(), bins = 14, label = \"go stim duration on stop trials\")\n",
    "plt.xlabel('ms')\n",
    "plt.title('Go Stimulus Duration')\n",
    "\n",
    "#SSDUR.value_counts()\n",
    "plt.hist(SST_concat['go_stim_duration'].loc[SST_concat['trial_type'] == 'GoTrial'].dropna(), bins = 14, histtype='step',\\\n",
    "          label = \"go stim duration on go trials\")\n",
    "#plt.axvline(x=mean_SSD, color = 'r', label = \"mean SSD\")\n",
    "plt.legend()\n",
    "plt.show()\n"
   ]
  },
  {
   "cell_type": "markdown",
   "metadata": {},
   "source": [
    "mean go.rt vs. mean stop failure & how many subjects mean stop failure is longer than mean rt "
   ]
  },
  {
   "cell_type": "markdown",
   "metadata": {},
   "source": [
    "stop failure RT "
   ]
  },
  {
   "cell_type": "code",
   "execution_count": 18,
   "metadata": {},
   "outputs": [
    {
     "data": {
      "text/plain": [
       "476.20389529052215"
      ]
     },
     "execution_count": 18,
     "metadata": {},
     "output_type": "execute_result"
    }
   ],
   "source": [
    "np.mean(SST_concat.loc[SST_concat['TrialCode'] == 'IncorrectStop']['stop_rt_adjusted'])"
   ]
  },
  {
   "cell_type": "code",
   "execution_count": 19,
   "metadata": {},
   "outputs": [
    {
     "data": {
      "text/plain": [
       "480.87264500398555"
      ]
     },
     "execution_count": 19,
     "metadata": {},
     "output_type": "execute_result"
    }
   ],
   "source": [
    "np.mean(SST_concat.loc[SST_concat['correct_stop'] == 0]['stop_rt_adjusted'])"
   ]
  },
  {
   "cell_type": "markdown",
   "metadata": {},
   "source": [
    "overt go response rt "
   ]
  },
  {
   "cell_type": "code",
   "execution_count": 20,
   "metadata": {},
   "outputs": [
    {
     "data": {
      "text/plain": [
       "541.8450486026431"
      ]
     },
     "execution_count": 20,
     "metadata": {},
     "output_type": "execute_result"
    }
   ],
   "source": [
    "np.mean(SST_concat.loc[SST_concat['correct_go_response'] != 'omission']['go_rt_adjusted'])"
   ]
  },
  {
   "cell_type": "markdown",
   "metadata": {},
   "source": [
    "let's look at the averages by participant now: "
   ]
  },
  {
   "cell_type": "code",
   "execution_count": 21,
   "metadata": {},
   "outputs": [],
   "source": [
    "group_narguid = SST_concat.groupby('NARGUID')"
   ]
  },
  {
   "cell_type": "code",
   "execution_count": 60,
   "metadata": {},
   "outputs": [],
   "source": [
    "#lambda x lets us apply np.mean to each group\n",
    "narguid_average_stop_rt = group_narguid.apply(lambda x: \\\n",
    "                                                np.mean(x.loc[x['correct_stop'] == 0]['stop_rt_adjusted']))"
   ]
  },
  {
   "cell_type": "code",
   "execution_count": 61,
   "metadata": {},
   "outputs": [
    {
     "data": {
      "text/plain": [
       "495.01266545367145"
      ]
     },
     "execution_count": 61,
     "metadata": {},
     "output_type": "execute_result"
    }
   ],
   "source": [
    "np.mean(narguid_average_stop_rt)"
   ]
  },
  {
   "cell_type": "code",
   "execution_count": 54,
   "metadata": {},
   "outputs": [],
   "source": [
    "narguid_average_go_rt = group_narguid.apply(lambda x: np.mean(x.loc[(x['correct_go_response'] != 'omission') \\\n",
    "                                                                    & (x['trial_type'] == 'GoTrial')]['go_rt_adjusted']))"
   ]
  },
  {
   "cell_type": "code",
   "execution_count": 55,
   "metadata": {},
   "outputs": [
    {
     "data": {
      "text/plain": [
       "543.6630781157475"
      ]
     },
     "execution_count": 55,
     "metadata": {},
     "output_type": "execute_result"
    }
   ],
   "source": [
    "np.mean(narguid_average_go_rt)"
   ]
  },
  {
   "cell_type": "code",
   "execution_count": 30,
   "metadata": {},
   "outputs": [],
   "source": [
    "narguid_df = pd.DataFrame({'stop_rt': narguid_average_stop_rt,'go_rt':narguid_average_go_rt})\n",
    "narguid_df = narguid_df.dropna(axis = 0, how='any')"
   ]
  },
  {
   "cell_type": "code",
   "execution_count": 35,
   "metadata": {},
   "outputs": [
    {
     "data": {
      "text/plain": [
       "Ttest_relResult(statistic=-50.43897121649605, pvalue=0.0)"
      ]
     },
     "execution_count": 35,
     "metadata": {},
     "output_type": "execute_result"
    }
   ],
   "source": [
    "from scipy.stats import ttest_rel, ttest_ind\n",
    "ttest_rel(narguid_df['stop_rt'], narguid_df['go_rt'])"
   ]
  },
  {
   "cell_type": "code",
   "execution_count": 50,
   "metadata": {},
   "outputs": [
    {
     "data": {
      "text/plain": [
       "0.18337712626192781"
      ]
     },
     "execution_count": 50,
     "metadata": {},
     "output_type": "execute_result"
    }
   ],
   "source": [
    "sum(np.greater(narguid_average_stop_rt, narguid_average_go_rt)) / 7231"
   ]
  },
  {
   "cell_type": "markdown",
   "metadata": {},
   "source": [
    "### Issue 2: Go Stimulus sometimes not presented"
   ]
  },
  {
   "cell_type": "markdown",
   "metadata": {},
   "source": [
    "percentage of trials with SSD == 0, and therefor, no go stimulus"
   ]
  },
  {
   "cell_type": "code",
   "execution_count": null,
   "metadata": {},
   "outputs": [],
   "source": [
    "len(SST_concat.loc[SST_concat['SSDDur'] == 0])/\\\n",
    "    len(SST_concat.loc[SST_concat['trial_type'] == 'StopTrial'])"
   ]
  },
  {
   "cell_type": "markdown",
   "metadata": {},
   "source": [
    "rt on these trials"
   ]
  },
  {
   "cell_type": "code",
   "execution_count": null,
   "metadata": {},
   "outputs": [],
   "source": [
    "np.mean(SST_concat.loc[SST_concat['SSDDur'] == 0]['stop_rt_adjusted'])"
   ]
  },
  {
   "cell_type": "markdown",
   "metadata": {},
   "source": [
    "percent of accuracy when SSD == 0 "
   ]
  },
  {
   "cell_type": "code",
   "execution_count": null,
   "metadata": {},
   "outputs": [],
   "source": [
    "len(SST_concat.loc[(SST_concat['SSDDur'] == 0) & (SST_concat['correct_stop'] == 1.0)])/ \\\n",
    "    len(SST_concat.loc[SST_concat['SSDDur'] == 0])"
   ]
  },
  {
   "cell_type": "markdown",
   "metadata": {},
   "source": [
    "### Issue 3: Non-uniform conditional trial probabilities"
   ]
  },
  {
   "cell_type": "code",
   "execution_count": null,
   "metadata": {},
   "outputs": [],
   "source": [
    "#set up expected duration\n",
    "x = np.arange(0,20, 1) \n",
    "def my_dist(i):\n",
    "    i = (1/6) * (5/6)**(i)\n",
    "    return(i)  \n",
    "p = my_dist(x)"
   ]
  },
  {
   "cell_type": "code",
   "execution_count": null,
   "metadata": {},
   "outputs": [],
   "source": [
    "stop_prob_index = SST_concat.loc[SST_concat['StopTrial'] !=1].index"
   ]
  },
  {
   "cell_type": "code",
   "execution_count": null,
   "metadata": {},
   "outputs": [],
   "source": [
    "plt.hist(SST_concat['Stop_nback'].dropna(), normed=True, bins = 20, label = 'ABCD Data conditional probability')\n",
    "plt.plot(x,p, label = 'random conditional probability of a stop signal')\n",
    "plt.xlabel('number of go trials in between stop trials')\n",
    "plt.title('Non-uniform conditional trial probabilities')\n",
    "\n",
    "plt.xticks(np.arange(0, 21, step=2))\n",
    "plt.legend()\n",
    "plt.show()"
   ]
  },
  {
   "cell_type": "markdown",
   "metadata": {},
   "source": [
    "conditional probability of a stop signal, given a stop signal occured two trials ago"
   ]
  },
  {
   "cell_type": "code",
   "execution_count": null,
   "metadata": {},
   "outputs": [],
   "source": [
    "one_back = SST_concat.loc[SST_concat['Stop_nback'] == 1] \n",
    "stop_nback = SST_concat.loc[~SST_concat['Stop_nback'].isnull()]['Stop_nback']\n",
    "print(\"percent of trials with stop signals sepreated by one go trial:\", len(one_back) / len(stop_nback) * 100) "
   ]
  },
  {
   "cell_type": "markdown",
   "metadata": {},
   "source": [
    "lets figure out this post stop slowing! "
   ]
  },
  {
   "cell_type": "code",
   "execution_count": null,
   "metadata": {},
   "outputs": [],
   "source": [
    "#find the stop trials\n",
    "stop_mask = ~SST_concat['StopTrial'].isnull()\n",
    "stop_idx = stop_mask[stop_mask == True].index\n",
    "#make the new column\n",
    "SST_concat['signal_slowing_1'] = np.NaN\n",
    "SST_concat['signal_slowing_2'] = np.NaN\n",
    "SST_concat['signal_slowing_3'] = np.NaN\n",
    "\n",
    "#get the pre-stop rt\n",
    "pre_stop_rt = SST_concat['go_rt_adjusted'].loc[stop_idx - 1] \n",
    "#get the post-stop rt\n",
    "\n",
    "post_stop_rt_1 = SST_concat['go_rt_adjusted'].loc[stop_idx + 1]\n",
    "post_stop_rt_2 = SST_concat['go_rt_adjusted'].loc[stop_idx + 2]\n",
    "post_stop_rt_3 = SST_concat['go_rt_adjusted'].loc[stop_idx + 3]\n",
    "\n",
    "SST_concat['signal_slowing_1'][stop_idx]= np.array(post_stop_rt_1) - np.array(pre_stop_rt)\n",
    "SST_concat['signal_slowing_2'][stop_idx]= np.array(post_stop_rt_2) - np.array(pre_stop_rt)\n",
    "SST_concat['signal_slowing_3'][stop_idx]= np.array(post_stop_rt_3) - np.array(pre_stop_rt)\n"
   ]
  },
  {
   "cell_type": "code",
   "execution_count": null,
   "metadata": {},
   "outputs": [],
   "source": [
    "NARGUID_signal_slowing.describe()"
   ]
  },
  {
   "cell_type": "code",
   "execution_count": null,
   "metadata": {},
   "outputs": [],
   "source": [
    "NARGUID_signal_slowing = SST_concat.groupby('NARGUID').apply(lambda x: np.mean(x['signal_slowing_1']))"
   ]
  },
  {
   "cell_type": "code",
   "execution_count": null,
   "metadata": {},
   "outputs": [],
   "source": [
    "stop_slowing_1 = [] \n",
    "stop_slowing_2 = [] \n",
    "stop_slowing_3 = [] \n",
    "\n",
    "for i in np.arange(2, 60, 1):\n",
    "    stop_slowing_1.append(np.nanmean(SST_concat['signal_slowing_1'].loc[(SST_concat['StopTrial'] == i)]))\n",
    "    stop_slowing_2.append(np.nanmean(SST_concat['signal_slowing_2'].loc[(SST_concat['StopTrial'] == i)]))\n",
    "    stop_slowing_3.append(np.nanmean(SST_concat['signal_slowing_3'].loc[(SST_concat['StopTrial'] == i)]))"
   ]
  },
  {
   "cell_type": "code",
   "execution_count": null,
   "metadata": {},
   "outputs": [],
   "source": [
    "quartile_slowing = [] \n",
    "quartile_slowing.append(np.mean(stop_slowing[1:10]))\n",
    "quartile_slowing.append(np.mean(stop_slowing[10:20]))\n",
    "quartile_slowing.append(np.mean(stop_slowing[20:30]))\n",
    "quartile_slowing.append(np.mean(stop_slowing[40:50]))\n",
    "quartile_slowing.append(np.mean(stop_slowing[50:60]))"
   ]
  },
  {
   "cell_type": "code",
   "execution_count": null,
   "metadata": {},
   "outputs": [],
   "source": [
    "stop_failure_slowing = []\n",
    "stop_success_slowing = []\n",
    "for i in np.arange(1, 61, 1):\n",
    "    stop_failure_slowing.append(np.mean(SST_concat['signal_slowing'].loc[(SST_concat['StopTrial'] == i) &\n",
    "                                                                  (SST_concat['TrialCode'] == 'IncorrectStop')]))\n",
    "    stop_success_slowing.append(np.mean(SST_concat['signal_slowing'].loc[(SST_concat['StopTrial'] == i) &\n",
    "                                                                  (SST_concat['TrialCode'] == 'CorrectStop')]))"
   ]
  },
  {
   "cell_type": "code",
   "execution_count": null,
   "metadata": {},
   "outputs": [],
   "source": [
    "quartile_stop_success_slowing = [] \n",
    "quartile_stop_failure_slowing = [] \n",
    "for i in np.arange(1, 16, 1):\n",
    "    quartile_stop_failure_slowing.append(np.mean(SST_concat['signal_slowing'].loc[(SST_concat['StopTrial'] == i) &\n",
    "                                                                  (SST_concat['TrialCode'] == 'IncorrectStop')]))\n",
    "    quartile_stop_success_slowing.append(np.mean(SST_concat['signal_slowing'].loc[(SST_concat['StopTrial'] == i) &\n",
    "                                                                  (SST_concat['TrialCode'] == 'CorrectStop')]))\n"
   ]
  },
  {
   "cell_type": "code",
   "execution_count": null,
   "metadata": {},
   "outputs": [],
   "source": []
  },
  {
   "cell_type": "code",
   "execution_count": null,
   "metadata": {},
   "outputs": [],
   "source": [
    "np.mean(stop_slowing_1)"
   ]
  },
  {
   "cell_type": "code",
   "execution_count": null,
   "metadata": {},
   "outputs": [],
   "source": [
    "plt.plot(np.arange(1, 59, 1), stop_slowing_1)\n",
    "plt.title('post - pre stop rt slowing')\n",
    "plt.show()"
   ]
  },
  {
   "cell_type": "code",
   "execution_count": null,
   "metadata": {},
   "outputs": [],
   "source": [
    "plt.plot(np.arange(1, 6, 1), quartile_slowing)\n",
    "plt.title('post - pre stop rt slowing')\n",
    "plt.show()"
   ]
  },
  {
   "cell_type": "code",
   "execution_count": null,
   "metadata": {
    "jupyter": {
     "source_hidden": true
    }
   },
   "outputs": [],
   "source": [
    "plt.title('post - pre stop rt slowing')\n",
    "plt.plot(SST_concat['StopTrial'].dropna(), m*SST_concat['StopTrial'].dropna() + b, color='black')\n",
    "plt.errorbar(np.arange(2, 61, 1), stop_slowing, yerr=stop_slowing_std,markersize=100,capsize=10,linestyle='None')\n",
    "\n",
    "plt.show()"
   ]
  },
  {
   "cell_type": "code",
   "execution_count": null,
   "metadata": {
    "jupyter": {
     "source_hidden": true
    }
   },
   "outputs": [],
   "source": [
    "plt.plot(np.arange(1, 61, 1), stop_failure_slowing)\n",
    "plt.title('post - pre stop failure rt slowing')\n",
    "plt.show()"
   ]
  },
  {
   "cell_type": "code",
   "execution_count": null,
   "metadata": {
    "jupyter": {
     "source_hidden": true
    }
   },
   "outputs": [],
   "source": [
    "plt.plot(np.arange(1, 61, 1), stop_success_slowing)\n",
    "plt.title('post - pre stop signal success slowing')\n",
    "plt.show()"
   ]
  },
  {
   "cell_type": "code",
   "execution_count": null,
   "metadata": {
    "jupyter": {
     "source_hidden": true
    }
   },
   "outputs": [],
   "source": [
    "plt.hist(SST_concat['go_rt_adjusted'].loc[~pd.isnull(SST_concat['go_rt_adjusted'].values)], bins = 20) \n",
    "plt.show()"
   ]
  },
  {
   "cell_type": "markdown",
   "metadata": {},
   "source": [
    "#### Issue 4: Different stop signal stimulus duration for different SSDs"
   ]
  },
  {
   "cell_type": "code",
   "execution_count": null,
   "metadata": {},
   "outputs": [],
   "source": [
    "len(SST_concat.loc[SST_concat['SSDDur'] > 700]) / 433860"
   ]
  },
  {
   "cell_type": "code",
   "execution_count": null,
   "metadata": {},
   "outputs": [],
   "source": [
    "7231 * 60"
   ]
  },
  {
   "cell_type": "code",
   "execution_count": null,
   "metadata": {},
   "outputs": [],
   "source": [
    "plt.hist(SSD, bins = 14)\n",
    "plt.xlabel('ms')\n",
    "plt.title('Stop Signal Delay')\n",
    "\n",
    "#plt.axvline(x=mean_SSD, color = 'r', label = \"mean SSD\")\n",
    "#plt.legend()\n",
    "plt.show()"
   ]
  },
  {
   "cell_type": "markdown",
   "metadata": {},
   "source": [
    "#### Issue 5: SSD can become stuck at 0ms\n"
   ]
  },
  {
   "cell_type": "code",
   "execution_count": null,
   "metadata": {},
   "outputs": [],
   "source": [
    "SST_concat.loc[(SST_concat['SSD.RT'] < 100) & (SST_concat['SSD.RT'] > 0) & (SST_concat['SSDDur'] <=50)]\\\n",
    "     [['NARGUID', 'TrialNum', 'SSD.RT', 'SSD.RESP', 'SSDDur' ]]"
   ]
  },
  {
   "cell_type": "code",
   "execution_count": null,
   "metadata": {},
   "outputs": [],
   "source": [
    "issue_5 = SST_concat.loc[(SST_concat['SSD.RT'] < 100) & (SST_concat['SSD.RT'] > 0) & (SST_concat['SSDDur'] <=50)]['NARGUID'].index# \\"
   ]
  },
  {
   "cell_type": "code",
   "execution_count": null,
   "metadata": {},
   "outputs": [],
   "source": [
    "SST_concat[SST_concat['SSDDur'] == 0].set_index('NARGUID').drop(issue_5_bug_NARGUIDS)"
   ]
  },
  {
   "cell_type": "markdown",
   "metadata": {},
   "source": [
    "#### Issue 6: Trial accuracy incorrectly coded"
   ]
  },
  {
   "cell_type": "code",
   "execution_count": null,
   "metadata": {},
   "outputs": [],
   "source": []
  },
  {
   "cell_type": "markdown",
   "metadata": {},
   "source": [
    "#### Issue 7: SSD values start too short \n"
   ]
  },
  {
   "cell_type": "code",
   "execution_count": null,
   "metadata": {},
   "outputs": [],
   "source": [
    "num_stop = []\n",
    "accuracy = [] \n",
    "avg_SSD = []\n",
    "SSD_var = []\n",
    "for i in np.arange(1, 61): \n",
    "    correct = SST_concat.loc[SST_concat['StopTrial'] ==i]['TrialCode'].value_counts()['CorrectStop']\n",
    "    acc = correct / len(SST_concat.loc[SST_concat['StopTrial'] ==i]['TrialCode'])\n",
    "    SSD = np.mean(SST_concat.loc[SST_concat['StopTrial'] ==i]['SSDDur'])\n",
    "    var = np.std(SST_concat.loc[SST_concat['StopTrial'] ==i]['SSDDur'])\n",
    "    SSD_var.append(var)\n",
    "    num_stop.append(i)\n",
    "    accuracy.append(acc)\n",
    "    avg_SSD.append(SSD)\n",
    "    \n",
    "acc_df = pd.DataFrame() \n",
    "acc_df['StopTrial'] = num_stop \n",
    "acc_df['Accuracy'] = accuracy\n",
    "acc_df['Avg_SSD'] = avg_SSD\n",
    "acc_df['SSD_var'] = SSD_var"
   ]
  },
  {
   "cell_type": "code",
   "execution_count": null,
   "metadata": {},
   "outputs": [],
   "source": [
    "plt.plot(acc_df['StopTrial'], acc_df['Accuracy'])\n",
    "plt.xlabel('Stop Trial')\n",
    "plt.ylabel('Stop Signal Accuracy')\n",
    "plt.title('Stop signal accuracy by number of stop trial')"
   ]
  },
  {
   "cell_type": "code",
   "execution_count": null,
   "metadata": {},
   "outputs": [],
   "source": [
    "plt.plot(acc_df['StopTrial'], acc_df['Avg_SSD'], color='black')\n",
    "\n",
    "plt.fill_between(acc_df['StopTrial'], acc_df['Avg_SSD'] - acc_df['SSD_var'], acc_df['Avg_SSD'] + acc_df['SSD_var'], facecolor = 'teal', alpha=.25)"
   ]
  },
  {
   "cell_type": "code",
   "execution_count": null,
   "metadata": {},
   "outputs": [],
   "source": [
    "np.mean(SST_concat['Go+Fix.RT'].dropna())"
   ]
  },
  {
   "cell_type": "code",
   "execution_count": null,
   "metadata": {},
   "outputs": [],
   "source": []
  },
  {
   "cell_type": "markdown",
   "metadata": {},
   "source": [
    "#### Issue 8: Low stop probability "
   ]
  },
  {
   "cell_type": "code",
   "execution_count": null,
   "metadata": {},
   "outputs": [],
   "source": []
  }
 ],
 "metadata": {
  "kernelspec": {
   "display_name": "Python 3",
   "language": "python",
   "name": "python3"
  },
  "language_info": {
   "codemirror_mode": {
    "name": "ipython",
    "version": 3
   },
   "file_extension": ".py",
   "mimetype": "text/x-python",
   "name": "python",
   "nbconvert_exporter": "python",
   "pygments_lexer": "ipython3",
   "version": "3.6.5"
  }
 },
 "nbformat": 4,
 "nbformat_minor": 4
}
