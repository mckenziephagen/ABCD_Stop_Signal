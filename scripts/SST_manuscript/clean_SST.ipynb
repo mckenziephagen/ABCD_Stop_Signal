{
 "cells": [
  {
   "cell_type": "markdown",
   "metadata": {},
   "source": [
    "this takes in the raw E-Prime files, which have been concatonated together into one large file (raw_concat.csv), and does minimal processing "
   ]
  },
  {
   "cell_type": "code",
   "execution_count": null,
   "metadata": {},
   "outputs": [],
   "source": [
    "import pandas as pd \n",
    "import numpy as np\n",
    "import matplotlib.pyplot as plt\n",
    "import datetime\n",
    "import time "
   ]
  },
  {
   "cell_type": "code",
   "execution_count": null,
   "metadata": {},
   "outputs": [],
   "source": [
    "#this makes it so that the WHOLE dataframe prints, just fyi, this can bog down your code\n",
    "\n",
    "pd.set_option('display.max_columns', 1000)  # or 1000\n",
    "pd.set_option('display.max_rows', None)  # or 1000\n",
    "pd.set_option('display.max_colwidth', 199)  # or 199\n",
    "pd.options.display.max_seq_items = 2000\n"
   ]
  },
  {
   "cell_type": "code",
   "execution_count": null,
   "metadata": {},
   "outputs": [],
   "source": [
    "drop_cols = ['Unnamed: 0', 'Allowed', 'Subject', 'StudioVersion', \n",
    "              'triggercode', 'Clock.Information', \n",
    "             'DataFile.Basename', 'Display.RefreshRate', 'RandomSeed', '-146510705', '0', '0-SST_GE_20161208_TWoptimized_Consolidated', \n",
    "            '03-11-2017', '09-29-2018', '1', '1.0.0.721',\n",
    "       '1.0.0.729', '1.1', 'VersionPersist: 1', 'leftarrow', 'rightarrow',\n",
    "       'triggercode', 'v11Proc', 'v3ProcList', 'v3ProcList.Cycle',\n",
    "       'v3ProcList.Sample', '{^}57{=}', 'ConsecSameResp', 'ControlAcc', 'CorrectAnswer', 'CorrectResponse',\n",
    "       'Cue2Back.Duration', 'Cue2Back.DurationError', 'Cue2Back.FinishTime',\n",
    "       'Cue2Back.OffsetDelay', 'Cue2Back.OffsetTime', 'Cue2Back.OnsetDelay',\n",
    "       'Cue2Back.OnsetTime', 'Cue2Back.OnsetToOnsetTime', 'Cue2Back.StartTime',\n",
    "       'CueFix.Duration', 'CueFix.DurationError', 'CueFix.FinishTime',\n",
    "       'CueFix.OffsetDelay', 'CueFix.OffsetTime', 'CueFix.OnsetDelay',\n",
    "       'CueFix.OnsetTime', 'CueFix.OnsetToOnsetTime', 'CueFix.RTTime',\n",
    "       'CueFix.StartTime', 'CueTarget.Duration', 'CueTarget.DurationError',\n",
    "       'CueTarget.FinishTime', 'CueTarget.OffsetDelay', 'CueTarget.OffsetTime',\n",
    "       'CueTarget.OnsetDelay', 'CueTarget.OnsetTime',\n",
    "       'CueTarget.OnsetToOnsetTime', 'CueTarget.StartTime', 'GetReady.OffsetTime', 'GetReady.OnsetDelay', 'GetReady.OnsetTime',\n",
    "       'GetReady.OnsetToOnsetTime', 'GetReady.RTTime',\n",
    "       'GetReady2.DurationError', 'GetReady2.OffsetDelay',\n",
    "       'GetReady2.OffsetTime', 'GetReady2.OnsetDelay', 'GetReady2.OnsetTime',\n",
    "       'GetReady2.OnsetToOnsetTime', 'GetReady2.RTTime',  'SiemensPad.FinishTime', 'SiemensPad.OffsetDelay',\n",
    "       'SiemensPad.OffsetTime', 'SiemensPad.OnsetDelay',\n",
    "       'SiemensPad.OnsetTime', 'SiemensPad.OnsetToOnsetTime',\n",
    "       'SiemensPad.RTTime', 'Stim.ACC', 'Stim.CRESP', 'Stim.Duration',\n",
    "       'Stim.DurationError', 'Stim.FinishTime', 'Stim.OffsetDelay',\n",
    "       'Stim.OffsetTime', 'Stim.OnsetDelay', 'Stim.OnsetTime',\n",
    "       'Stim.OnsetToOnsetTime', 'Stim.RESP', 'Stim.RT', 'Stim.RTTime',\n",
    "       'Stim.StartTime', '0-SST_SP_20161208', '1.10', '1.11', '1.12', '1.2', '1.3', \n",
    "       '1.4', '1.5', '1.6', '1.7', '1.8', '1.9', '104234', '10:10:09', '11', '12', \n",
    "       '17:05:53', '172646',  '2', '2.0.10.252', '2.0.10.356', '2.0.10.356.1','270384696',\n",
    "       '3', '59.791', '60.007', '9/29/2018 3:10:09 PM', '<?xml version=\"1.0\"?>\\\\n<Clock xmlns:dt=\"urn:schemas-microsoft-com:datatypes\"><Description dt:dt=\"string\">E-Prime Primary Realtime Clock</Description><StartTime><Timestamp dt:dt=\"int\">0</Timestamp><DateUtc dt:dt=\"string\">2017-03-11T23:05:52Z</DateUtc></StartTime><FrequencyChanges><FrequencyChange><Frequency dt:dt=\"r8\">2143505</Frequency><Timestamp dt:dt=\"r8\">1670595342820</Timestamp><Current dt:dt=\"r8\">0</Current><DateUtc dt:dt=\"string\">2017-03-11T23:05:52Z</DateUtc></FrequencyChange></FrequencyChanges></Clock>\\\\n','<?xml version=\"1.0\"?>\\\\n<Clock xmlns:dt=\"urn:schemas-microsoft-com:datatypes\"><Description dt:dt=\"string\">E-Prime Primary Realtime Clock</Description><StartTime><Timestamp dt:dt=\"int\">0</Timestamp><DateUtc dt:dt=\"string\">2018-09-29T15:10:09Z</DateUtc></StartTime><FrequencyChanges><FrequencyChange><Frequency dt:dt=\"r8\">3328369</Frequency><Timestamp dt:dt=\"r8\">3200020804564</Timestamp><Current dt:dt=\"r8\">0</Current><DateUtc dt:dt=\"string\">2018-09-29T15:10:09Z</DateUtc></FrequencyChange></FrequencyChanges></Clock>\\\\n', 'SST_GE_20161208_TWoptimized_Consolidated-61RKCL4Y-1-11',  \n",
    "        'SST_SP_20161208-5YKVY4EN-1-11', '34', '4',  '5YKVY4EN', '61RKCL4Y', 'FontStyle'\n",
    "       ]"
   ]
  },
  {
   "cell_type": "code",
   "execution_count": null,
   "metadata": {},
   "outputs": [],
   "source": [
    "raw_concat = pd.read_csv('raw_concat_jan14.csv', low_memory=False).drop(drop_cols, axis=1)"
   ]
  },
  {
   "cell_type": "code",
   "execution_count": null,
   "metadata": {
    "tags": []
   },
   "outputs": [],
   "source": [
    "raw_concat = raw_concat[np.logical_and(raw_concat.TrialCode != 'BeginFix', \\\n",
    "                                       raw_concat.TrialCode != 'EndFix')]\n",
    "\n",
    "raw_concat = raw_concat[raw_concat['TrialCode'].notnull()]\n",
    "\n",
    "raw_concat['StopTrial'] = pd.Series() \n",
    "raw_concat['TrialNum'] = pd.Series() \n",
    "incomplete_subs = []"
   ]
  },
  {
   "cell_type": "code",
   "execution_count": null,
   "metadata": {
    "tags": []
   },
   "outputs": [],
   "source": [
    "counter = 0\n",
    "print(counter)\n",
    "for i in raw_concat['NARGUID'].unique(): \n",
    "    counter +=1\n",
    "    if counter % 100 == 0:\n",
    "        print(counter)\n",
    "    sub_idx = raw_concat['NARGUID'] == i \n",
    "    raw_concat['TrialNum'].loc[sub_idx] = np.arange(1, len(raw_concat.loc[sub_idx])+1)\n",
    "    if raw_concat['TrialNum'].loc[sub_idx].max() != 360:\n",
    "        raw_concat.drop(index=sub_idx[sub_idx == True].index)\n",
    "        incomplete_subs.append(i)\n",
    "        print(i, 'dropped')\n",
    "    else:   \n",
    "        stop_trial_mask = (raw_concat['TrialCode'].loc[sub_idx] ==      \n",
    "                           'IncorrectStop') | \\\n",
    "                        (raw_concat['TrialCode'].loc[sub_idx] == \n",
    "                            'CorrectStop')\n",
    "\n",
    "        stop_trial_idx = stop_trial_mask[stop_trial_mask == True].index\n",
    "        raw_concat['StopTrial'] = np.NaN\n",
    "        raw_concat['StopTrial'].loc[stop_trial_idx] = np.arange(1, len(raw_concat.loc[stop_trial_idx])+ 1)\n",
    "        end_time = time.time()"
   ]
  },
  {
   "cell_type": "code",
   "execution_count": null,
   "metadata": {},
   "outputs": [],
   "source": [
    "#this saves as a csv so you can avoid running that loops multiple times \n",
    "date_string  = datetime.date.today().strftime('%m') + '_' + datetime.date.today().strftime('%d')\n",
    "SST_concat.to_csv(f'partially_cleaned_{date_string}.csv')"
   ]
  },
  {
   "cell_type": "code",
   "execution_count": null,
   "metadata": {},
   "outputs": [],
   "source": [
    "def switch(x):\n",
    "    \"\"\"\n",
    "    switch responses for participants who had \n",
    "    flipped response paddles\n",
    "    \"\"\"\n",
    "    if x == 1:\n",
    "        return 2\n",
    "    elif x == 2:\n",
    "        return 1\n",
    "    elif x == 3:\n",
    "        return 4\n",
    "    elif x == 4:\n",
    "        return 3\n",
    "    else:\n",
    "        return np.nan"
   ]
  },
  {
   "cell_type": "code",
   "execution_count": null,
   "metadata": {},
   "outputs": [],
   "source": [
    "#find subjects who require this \n",
    "switch_subjects = pd.read_csv('../../ABCDStudyNDA/abcd_sst02.txt', sep = '\\t', index_col='subjectkey', low_memory=False)\n",
    "switch_subjects = switch_subjects['tfmri_sst_beh_switchflag'].astype(str)\n",
    "switch_subjects = switch_subjects[switch_subjects == '1'].index\n",
    "switch_subjects = [i[-8:] for i in switch_subjects]"
   ]
  },
  {
   "cell_type": "code",
   "execution_count": null,
   "metadata": {
    "tags": []
   },
   "outputs": [],
   "source": [
    "resp_cols = ['Go.RESP', 'Fix.RESP', 'StopSignal.RESP', 'SSD.RESP']\n",
    "\n",
    "for sub in switch_subjects: \n",
    "    sub_index = SST_concat.loc[SST_concat['NARGUID'] == sub].index \n",
    "    for col in resp_cols:\n",
    "        SST_concat.loc[sub_index, col] = SST_concat.loc[sub_index, col].apply(switch)\n",
    "        "
   ]
  },
  {
   "cell_type": "code",
   "execution_count": null,
   "metadata": {},
   "outputs": [],
   "source": [
    "### Check \"TrialCode\" accuracy"
   ]
  },
  {
   "cell_type": "code",
   "execution_count": null,
   "metadata": {},
   "outputs": [],
   "source": [
    "#some subjects have their subtrial under Procedure[Trial]\n",
    "SST_concat['Procedure[SubTrial]'].loc[SST_concat['Procedure[SubTrial]'].isnull()] = SST_concat['Procedure[Trial]'] \n",
    "#the trial type column has inconsistent notation for stop trials \n",
    "SST_concat['trial_type'] = SST_concat['Procedure[SubTrial]'].replace('VariableStopTrial.*', 'StopTrial', regex=True)"
   ]
  },
  {
   "cell_type": "code",
   "execution_count": null,
   "metadata": {},
   "outputs": [],
   "source": [
    "#find all go trials \n",
    "go_trial_mask = SST_concat.loc[SST_concat['trial_type'] == 'GoTrial']\n",
    "go_trial_idx = go_trial_mask[go_trial_mask==True].index"
   ]
  },
  {
   "cell_type": "code",
   "execution_count": null,
   "metadata": {},
   "outputs": [],
   "source": [
    "#the response recordings are inconsistent in type (str, int, float) this fixes that \n",
    "\n",
    "cresp_replace = {'2.0': 2.0,\n",
    "                 '1.0': 1.0,\n",
    "                 '3.0': 3.0,\n",
    "                 '4.0': 4.0,\n",
    "                 '1,{LEFTARROW}': 1.0,\n",
    "                 '2,{RIGHTARROW}': 2.0}\n",
    "\n",
    "resp_replace = {'2.0': 2.0,\n",
    "                '1.0': 1.0,\n",
    "                '3.0': 3.0,\n",
    "                '4.0': 4.0,\n",
    "                '{LEFTARROW}': 1.0,\n",
    "                '{RIGHTARROW}': 2.0}\n",
    "\n",
    "SST_concat['Go.CRESP'].replace(to_replace = cresp_replace, inplace=True)\n",
    "\n",
    "SST_concat['Go.RESP'].replace(to_replace = resp_replace, inplace = True)\n",
    "SST_concat['Fix.RESP'].replace(to_replace = resp_replace, inplace=True)\n",
    "SST_concat['SSD.RESP'].replace(to_replace = resp_replace, inplace=True)\n",
    "SST_concat['StopSignal.RESP'].replace(to_replace = resp_replace, inplace=True)"
   ]
  },
  {
   "cell_type": "code",
   "execution_count": null,
   "metadata": {},
   "outputs": [],
   "source": [
    "#create my own correct response column \n",
    "SST_concat['correct_go_response'] = np.NaN\n",
    "\n",
    "SST_concat['correct_go_response'].loc[(~SST_concat['Go.RESP'].isnull()) & \n",
    "                                      (SST_concat['Go.CRESP'] == SST_concat['Go.RESP'])] = float(1)\n",
    "\n",
    "SST_concat['correct_go_response'].loc[(SST_concat['Go.RESP'].isnull()) & \n",
    "                                      (SST_concat['Go.CRESP'] == SST_concat['Fix.RESP'])] = float(1)\n",
    "\n",
    "SST_concat['correct_go_response'].loc[(~SST_concat['Go.RESP'].isnull()) & \n",
    "                                      (SST_concat['Go.CRESP'] != SST_concat['Go.RESP']) &\n",
    "                                      (SST_concat['trial_type'] == 'GoTrial')] = float(0)\n",
    "\n",
    "\n",
    "SST_concat['correct_go_response'].loc[(SST_concat['Go.RESP'].isnull()) & \n",
    "                                      (SST_concat['Go.CRESP'] != SST_concat['Fix.RESP']) &\n",
    "                                      (SST_concat['trial_type'] == 'GoTrial')] = float(0)\n",
    "\n",
    "\n",
    "SST_concat['correct_go_response'].loc[(SST_concat['Go.RESP'].isnull()) & (SST_concat['Fix.RESP'].isnull()) & \n",
    "                                      (SST_concat['trial_type'] == 'GoTrial')] = 'omission'\n",
    "\n",
    "\n"
   ]
  },
  {
   "cell_type": "code",
   "execution_count": null,
   "metadata": {},
   "outputs": [],
   "source": [
    "#check that I only have ones, zeros, and omissions\n",
    "SST_concat.loc[SST_concat['trial_type'] == 'GoTrial']['correct_go_response'].unique() "
   ]
  },
  {
   "cell_type": "code",
   "execution_count": null,
   "metadata": {},
   "outputs": [],
   "source": [
    "#correct stop column \n",
    "SST_concat['correct_stop'] = np.NaN\n",
    "\n",
    "SST_concat['correct_stop'].loc[(SST_concat['StopSignal.RESP'].isnull()) & (SST_concat['Fix.RESP'].isnull()) & \\\n",
    "                               (SST_concat['trial_type'] == 'StopTrial') & (SST_concat['SSD.RESP'].isnull())] = float(1)\n",
    "\n",
    "SST_concat['correct_stop'].loc[(~(SST_concat['StopSignal.RESP'].isnull()) | ~(SST_concat['Fix.RESP'].isnull()) \\\n",
    "                                | ~(SST_concat['SSD.RESP'].isnull())) & (SST_concat['trial_type'] == 'StopTrial')] = float(0)"
   ]
  },
  {
   "cell_type": "code",
   "execution_count": null,
   "metadata": {},
   "outputs": [],
   "source": [
    "SST_concat['correct_stimulus_mapping_1'] = np.NaN\n",
    "SST_concat['correct_stimulus_mapping_2'] = np.NaN"
   ]
  },
  {
   "cell_type": "code",
   "execution_count": null,
   "metadata": {},
   "outputs": [],
   "source": [
    "SST_concat.loc[SST_concat['Stimulus'] == 'images/Right_Arrow.bmp', 'correct_stimulus_mapping_1'] = SST_concat.loc[SST_concat['Stimulus'] == 'images/Right_Arrow.bmp']['Go.CRESP'].dropna().unique()[0]\n",
    "SST_concat.loc[SST_concat['Stimulus'] == 'images/Right_Arrow.bmp', 'correct_stimulus_mapping_2'] = SST_concat.loc[SST_concat['Stimulus'] == 'images/Right_Arrow.bmp']['Go.CRESP'].dropna().unique()[1]\n",
    "\n",
    "SST_concat.loc[SST_concat['Stimulus'] == 'images/Left_Arrow.bmp', 'correct_stimulus_mapping_1'] = SST_concat.loc[SST_concat['Stimulus'] == 'images/Left_Arrow.bmp']['Go.CRESP'].dropna().unique()[0]\n",
    "SST_concat.loc[SST_concat['Stimulus'] == 'images/Left_Arrow.bmp', 'correct_stimulus_mapping_2'] = SST_concat.loc[SST_concat['Stimulus'] == 'images/Left_Arrow.bmp']['Go.CRESP'].dropna().unique()[1]"
   ]
  },
  {
   "cell_type": "code",
   "execution_count": null,
   "metadata": {},
   "outputs": [],
   "source": [
    "#correct stop choice response \n",
    "SST_concat['correct_stop_mapping'] = np.NaN \n",
    "SST_concat['correct_stop_mapping'].loc[(SST_concat['correct_stop'] == 0) & (~SST_concat['SSD.RESP'].isnull()) &\\\n",
    "                                       ((SST_concat['SSD.RESP'] == SST_concat['correct_stimulus_mapping_1']) | (SST_concat['SSD.RESP'] == SST_concat['correct_stimulus_mapping_2']))] = float(1)\n",
    "\n",
    "SST_concat['correct_stop_mapping'].loc[(SST_concat['correct_stop'] == 0) & (~SST_concat['SSD.RESP'].isnull()) &\\\n",
    "                                      (SST_concat['SSD.RESP'] != SST_concat['correct_stimulus_mapping_1']) & (SST_concat['SSD.RESP'] != SST_concat['correct_stimulus_mapping_2'])] = float(0)\n"
   ]
  },
  {
   "cell_type": "code",
   "execution_count": null,
   "metadata": {},
   "outputs": [],
   "source": [
    "SST_concat['correct_stop_mapping'].loc[(SST_concat['correct_stop'] == 0) & (SST_concat['SSD.RESP'].isnull()) & (~SST_concat['StopSignal.RESP'].isnull()) &\\\n",
    "                                       ((SST_concat['StopSignal.RESP'] == SST_concat['correct_stimulus_mapping_1']) | (SST_concat['StopSignal.RESP'] == SST_concat['correct_stimulus_mapping_2']))] = float(1)\n",
    "\n",
    "SST_concat['correct_stop_mapping'].loc[(SST_concat['correct_stop'] == 0) & (SST_concat['SSD.RESP'].isnull()) & (~SST_concat['StopSignal.RESP'].isnull()) &\\\n",
    "                                       ((SST_concat['StopSignal.RESP'] != SST_concat['correct_stimulus_mapping_1']) & (SST_concat['StopSignal.RESP'] != SST_concat['correct_stimulus_mapping_2']))] = float(0)"
   ]
  },
  {
   "cell_type": "code",
   "execution_count": null,
   "metadata": {},
   "outputs": [],
   "source": [
    "SST_concat['correct_stop_mapping'].loc[(SST_concat['correct_stop'] == 0) & (SST_concat['SSD.RESP'].isnull()) & (SST_concat['StopSignal.RESP'].isnull()) & (~SST_concat['Fix.RESP'].isnull()) &\\\n",
    "                                       ((SST_concat['Fix.RESP'] == SST_concat['correct_stimulus_mapping_1']) | (SST_concat['Fix.RESP'] == SST_concat['correct_stimulus_mapping_2']))] = float(1)\n",
    "\n",
    "SST_concat['correct_stop_mapping'].loc[(SST_concat['correct_stop'] == 0) & (SST_concat['SSD.RESP'].isnull()) & (SST_concat['StopSignal.RESP'].isnull()) & (~SST_concat['Fix.RESP'].isnull()) &\\\n",
    "                                       ((SST_concat['Fix.RESP'] != SST_concat['correct_stimulus_mapping_1']) & (SST_concat['Fix.RESP'] != SST_concat['correct_stimulus_mapping_2']))] = float(0)"
   ]
  },
  {
   "cell_type": "markdown",
   "metadata": {},
   "source": [
    "### fix the go.rt calculation"
   ]
  },
  {
   "cell_type": "markdown",
   "metadata": {},
   "source": [
    "since the trial unfolds over several different sub trials, it's necessary to add some of these together to get correct rt"
   ]
  },
  {
   "cell_type": "code",
   "execution_count": null,
   "metadata": {},
   "outputs": [],
   "source": [
    "#find the index of where there's a fixation response on go trials \n",
    "go_fix_resp = (~SST_concat['Fix.RESP'].isnull()) & \\\n",
    "              (SST_concat['Go.RESP'].isnull()) & \\\n",
    "              (SST_concat['trial_type'] == 'GoTrial')\n",
    "go_fix_idx = go_fix_resp[go_fix_resp == True].index"
   ]
  },
  {
   "cell_type": "code",
   "execution_count": null,
   "metadata": {},
   "outputs": [],
   "source": [
    "#make column from Go.RT values\n",
    "SST_concat['go_rt_adjusted'] = SST_concat['Go.RT'].copy()\n",
    "#for long response trials, add the fix.rt to the go.duration\n",
    "SST_concat['go_rt_adjusted'][go_fix_idx] = SST_concat.loc[go_fix_idx]['Go.Duration'] +  \\\n",
    "                                           SST_concat.loc[go_fix_idx]['Fix.RT']"
   ]
  },
  {
   "cell_type": "markdown",
   "metadata": {},
   "source": [
    "#### fix the stop sig rt calculation"
   ]
  },
  {
   "cell_type": "code",
   "execution_count": null,
   "metadata": {},
   "outputs": [],
   "source": [
    "#find all stop trials\n",
    "stop_trial_mask = (SST_concat['trial_type'] == 'StopTrial')\n",
    "#make an index of all stop trials \n",
    "stop_trial_idx = stop_trial_mask[stop_trial_mask == True].index"
   ]
  },
  {
   "cell_type": "code",
   "execution_count": null,
   "metadata": {},
   "outputs": [],
   "source": [
    "SST_concat['stop_rt_adjusted'] = SST_concat['StopSignal.RT']\n",
    "#find all stop failure trials with resp during fix.resp, and no resp during stopsignal.resp\n",
    "stop_fix_resp = SST_concat['Fix.RESP'].notnull() & \\\n",
    "                SST_concat['StopSignal.RESP'].isnull() & \\\n",
    "                ((SST_concat['trial_type'] == 'StopTrial') & (SST_concat['correct_stop'] == 0))\n",
    "\n",
    "stop_fix_idx = stop_fix_resp[stop_fix_resp == True].index\n",
    "\n",
    "stop_SSD_resp = SST_concat['SSD.RESP'].notnull() & (SST_concat['trial_type'] == 'StopTrial')"
   ]
  },
  {
   "cell_type": "code",
   "execution_count": null,
   "metadata": {},
   "outputs": [],
   "source": [
    "#use that index to add stop signal duration and stop signal duration to get correct stop signal RT on these trials\n",
    "SST_concat['stop_rt_adjusted'][stop_fix_resp] = SST_concat.loc[stop_fix_resp]['StopSignal.Duration'] +\\\n",
    "                                           SST_concat.loc[stop_fix_resp]['Fix.RT'] + \\\n",
    "                                         SST_concat[stop_fix_resp]['SSDDur']\n",
    "\n",
    "SST_concat['stop_rt_adjusted'][stop_SSD_resp] = SST_concat.loc[stop_SSD_resp]['SSD.RT']"
   ]
  },
  {
   "cell_type": "code",
   "execution_count": null,
   "metadata": {},
   "outputs": [],
   "source": [
    "#find the stop failure trials and add the stop signal duration for correct stop fail RT \n",
    "\n",
    "stop_resp_mask = ((SST_concat['StopSignal.RESP'].notnull()  \\\n",
    "                & SST_concat['SSD.RESP'].isnull()) & \\\n",
    "                 (SST_concat['trial_type'] == 'StopTrial'))\n",
    "        \n",
    "stop_resp_idx = stop_resp_mask[stop_resp_mask == True].index\n",
    "#add SSDDur to response time \n",
    "SST_concat['stop_rt_adjusted'][stop_resp_idx] = \\\n",
    "        SST_concat['stop_rt_adjusted'][stop_resp_idx] + SST_concat['SSDDur'][stop_resp_idx]"
   ]
  },
  {
   "cell_type": "code",
   "execution_count": null,
   "metadata": {},
   "outputs": [],
   "source": [
    "#create column for Go.Stim.Duration - when there's no go response, this should be 1000ms\n",
    "SST_concat['go_stim_duration'] = SST_concat['Go.RT'].copy()\n",
    "SST_concat['go_stim_duration'].loc[SST_concat['Go.RT'] == 0] = SST_concat['Go.Duration'].loc[SST_concat['Go.RT'] == 0]\n",
    "\n",
    "SST_concat['go_stim_duration'].loc[~(SST_concat['SSD.RESP'].isnull())] = SST_concat.loc[~SST_concat['SSD.RESP'].isnull()]['SSD.RT']\n",
    "SST_concat['go_stim_duration'].loc[(SST_concat['SSD.RT']  == 0)] = SST_concat.loc[SST_concat['SSD.RT'] == 0]['SSDDur']\n"
   ]
  },
  {
   "cell_type": "code",
   "execution_count": null,
   "metadata": {},
   "outputs": [],
   "source": [
    "#this saves it to csvs that are small enough to be viewed by excel\n",
    "#SST_concat.iloc[:867600].to_csv('SST_cleaned_7231_1.csv')\n",
    "#SST_concat.iloc[867600:1735560, :].to_csv('SST_cleaned_7231_2.csv')\n",
    "#SST_concat.iloc[1735560:].to_csv('SST_cleaned_7231_3.csv')"
   ]
  },
  {
   "cell_type": "code",
   "execution_count": null,
   "metadata": {},
   "outputs": [],
   "source": [
    "SST_concat.to_csv(f'SST_cleaned_8464_all_rows_all_columns_switch_jan19.csv')"
   ]
  }
 ],
 "metadata": {
  "kernelspec": {
   "display_name": "Python 3",
   "language": "python",
   "name": "python3"
  },
  "language_info": {
   "codemirror_mode": {
    "name": "ipython",
    "version": 3
   },
   "file_extension": ".py",
   "mimetype": "text/x-python",
   "name": "python",
   "nbconvert_exporter": "python",
   "pygments_lexer": "ipython3",
   "version": "3.6.10"
  }
 },
 "nbformat": 4,
 "nbformat_minor": 4
}
