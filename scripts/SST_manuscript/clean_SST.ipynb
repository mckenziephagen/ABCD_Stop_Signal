{
 "cells": [
  {
   "cell_type": "markdown",
   "metadata": {},
   "source": [
    "this takes in the raw E-Prime files, which have been concatonated together into one large file (raw_concat.csv), and does minimal processing "
   ]
  },
  {
   "cell_type": "code",
   "execution_count": 170,
   "metadata": {},
   "outputs": [],
   "source": [
    "import pandas as pd \n",
    "import numpy as np\n",
    "import matplotlib.pyplot as plt"
   ]
  },
  {
   "cell_type": "code",
   "execution_count": 171,
   "metadata": {},
   "outputs": [],
   "source": [
    "#this makes it so that the WHOLE dataframe prints, just fyi, this can bog down your code\n",
    "\n",
    "pd.set_option('display.max_columns', 1000)  # or 1000\n",
    "pd.set_option('display.max_rows', None)  # or 1000\n",
    "pd.set_option('display.max_colwidth', 199)  # or 199"
   ]
  },
  {
   "cell_type": "code",
   "execution_count": null,
   "metadata": {},
   "outputs": [],
   "source": [
    "incomplete_runs_subj = [] \n",
    "SST_concat = pd.DataFrame()\n",
    "incomplete_runs_df = pd.DataFrame()\n",
    "raw_concat = raw_concat[np.logical_and(raw_concat.TrialCode != 'BeginFix', \\\n",
    "                                       raw_concat.TrialCode != 'EndFix')]\n",
    "\n",
    "raw_concat = raw_concat[~raw_concat['TrialCode'].isnull()]\n",
    "\n",
    "for i in raw_concat['NARGUID'].unique(): \n",
    "    sub_df = raw_concat.loc[raw_concat['NARGUID'] == i]\n",
    "    #add TrialNum col from 1-360\n",
    "    sub_df['TrialNum'] = np.arange(1, len(sub_df)+1)\n",
    "#     stop_trial_mask = (sub_df['TrialCode'] == 'IncorrectStop') | \\\n",
    "#                       (sub_df['TrialCode'] == 'CorrectStop')\n",
    "#     stop_trial_idx = stop_trial_mask[stop_trial_mask == True].index\n",
    "#     sub_df['StopTrial'] = \"\"\n",
    "#     sub_df['StopTrial'][stop_trial_idx] = np.arange(1, len(sub_df.loc[stop_trial_idx])+ 1)\n",
    "    if len(~sub_df['TrialNum'].isnull()) == 360: \n",
    "        if 'StopTooEarly' not in sub_df['TrialCode'].unique(): \n",
    "            SST_concat = SST_concat.append(sub_df)\n",
    "    else: \n",
    "        incomplete_runs_df = incomplete_runs_df.append(sub_df)\n",
    "        incomplete_runs_subj.append(i)\n",
    "    \n",
    "\n",
    "incomplete_runs_df.to_csv('incomplete_subjects.csv')"
   ]
  },
  {
   "cell_type": "code",
   "execution_count": null,
   "metadata": {},
   "outputs": [],
   "source": [
    "#this saves as a csv so you can avoid running that loops multiple times \n",
    "#SST_concat.to_csv('reran_partially_cleaned.csv')"
   ]
  },
  {
   "cell_type": "code",
   "execution_count": 172,
   "metadata": {},
   "outputs": [
    {
     "name": "stderr",
     "output_type": "stream",
     "text": [
      "/Users/work/anaconda3/lib/python3.6/site-packages/IPython/core/interactiveshell.py:2785: DtypeWarning: Columns (2,14,37,43,52,81,104,114,115) have mixed types. Specify dtype option on import or set low_memory=False.\n",
      "  interactivity=interactivity, compiler=compiler, result=result)\n"
     ]
    }
   ],
   "source": [
    "#this reads in the file above, to avoid running that loop \n",
    "SST_concat = pd.read_csv('reran_partially_cleaned.csv')"
   ]
  },
  {
   "cell_type": "markdown",
   "metadata": {},
   "source": [
    "### Check \"TrialCode\" accuracy"
   ]
  },
  {
   "cell_type": "code",
   "execution_count": 173,
   "metadata": {},
   "outputs": [
    {
     "name": "stderr",
     "output_type": "stream",
     "text": [
      "/Users/work/anaconda3/lib/python3.6/site-packages/pandas/core/indexing.py:205: SettingWithCopyWarning: \n",
      "A value is trying to be set on a copy of a slice from a DataFrame\n",
      "\n",
      "See the caveats in the documentation: http://pandas.pydata.org/pandas-docs/stable/user_guide/indexing.html#returning-a-view-versus-a-copy\n",
      "  self._setitem_with_indexer(indexer, value)\n"
     ]
    }
   ],
   "source": [
    "#some subjects have their subtrial under Procedure[Trial]\n",
    "SST_concat['Procedure[SubTrial]'].loc[SST_concat['Procedure[SubTrial]'].isnull()] = SST_concat['Procedure[Trial]'] \n",
    "#the trial type column has inconsistent notation for stop trials \n",
    "SST_concat['trial_type'] = SST_concat['Procedure[SubTrial]'].replace('VariableStopTrial.*', 'StopTrial', regex=True)"
   ]
  },
  {
   "cell_type": "code",
   "execution_count": 174,
   "metadata": {},
   "outputs": [],
   "source": [
    "#find all go trials \n",
    "go_trial_mask = SST_concat.loc[SST_concat['Procedure[SubTrial]'] == 'GoTrial']\n",
    "go_trial_idx = go_trial_mask[go_trial_mask==True].index"
   ]
  },
  {
   "cell_type": "code",
   "execution_count": 175,
   "metadata": {},
   "outputs": [],
   "source": [
    "#the response recordings are inconsistent in type (str, int, float) this fixes that \n",
    "cresp_replace = {'2.0': 2.0,\n",
    "                 '1.0': 1.0,\n",
    "                 '3.0': 3.0,\n",
    "                 '4.0': 4.0,\n",
    "                 '1,{LEFTARROW}': 1.0,\n",
    "                 '2,{RIGHTARROW}': 2.0}\n",
    "\n",
    "resp_replace = {'2.0': 2.0,\n",
    "                '1.0': 1.0,\n",
    "                '3.0': 3.0,\n",
    "                '4.0': 4.0,\n",
    "                '{LEFTARROW}': 1.0,\n",
    "                '{RIGHTARROW}': 2.0}\n",
    "\n",
    "SST_concat['Go.RESP'].replace(to_replace = resp_replace, inplace = True)\n",
    "SST_concat['Go.CRESP'].replace(to_replace = cresp_replace, inplace=True)"
   ]
  },
  {
   "cell_type": "code",
   "execution_count": 176,
   "metadata": {},
   "outputs": [
    {
     "name": "stderr",
     "output_type": "stream",
     "text": [
      "/Users/work/anaconda3/lib/python3.6/site-packages/pandas/core/indexing.py:205: SettingWithCopyWarning: \n",
      "A value is trying to be set on a copy of a slice from a DataFrame\n",
      "\n",
      "See the caveats in the documentation: http://pandas.pydata.org/pandas-docs/stable/user_guide/indexing.html#returning-a-view-versus-a-copy\n",
      "  self._setitem_with_indexer(indexer, value)\n"
     ]
    }
   ],
   "source": [
    "#create my own correct response column \n",
    "SST_concat['correct_go_response'] = np.NaN\n",
    "\n",
    "SST_concat['correct_go_response'].loc[(~SST_concat['Go.RESP'].isnull()) & \n",
    "                                      (SST_concat['Go.CRESP'] == SST_concat['Go.RESP'])] = float(1)\n",
    "\n",
    "SST_concat['correct_go_response'].loc[(SST_concat['Go.RESP'].isnull()) & \n",
    "                                      (SST_concat['Go.CRESP'] == SST_concat['Fix.RESP'])] = float(1)\n",
    "\n",
    "SST_concat['correct_go_response'].loc[(~SST_concat['Go.RESP'].isnull()) & \n",
    "                                      (SST_concat['Go.CRESP'] != SST_concat['Go.RESP']) &\n",
    "                                      (SST_concat['trial_type'] == 'GoTrial')] = float(0)\n",
    "\n",
    "\n",
    "SST_concat['correct_go_response'].loc[(SST_concat['Go.RESP'].isnull()) & \n",
    "                                      (SST_concat['Go.CRESP'] != SST_concat['Fix.RESP']) &\n",
    "                                      (SST_concat['trial_type'] == 'GoTrial')] = float(0)\n",
    "\n",
    "\n",
    "SST_concat['correct_go_response'].loc[(SST_concat['Go.RESP'].isnull()) & (SST_concat['Fix.RESP'].isnull()) & \n",
    "                                      (SST_concat['trial_type'] == 'GoTrial')] = 'omission'\n",
    "\n",
    "\n"
   ]
  },
  {
   "cell_type": "code",
   "execution_count": 177,
   "metadata": {},
   "outputs": [
    {
     "data": {
      "text/plain": [
       "array([1.0, 'omission', 0.0], dtype=object)"
      ]
     },
     "execution_count": 177,
     "metadata": {},
     "output_type": "execute_result"
    }
   ],
   "source": [
    "#check that I only have ones, zeros, and omissions\n",
    "SST_concat.loc[SST_concat['trial_type'] == 'GoTrial']['correct_go_response'].unique() "
   ]
  },
  {
   "cell_type": "code",
   "execution_count": 178,
   "metadata": {},
   "outputs": [
    {
     "name": "stderr",
     "output_type": "stream",
     "text": [
      "/Users/work/anaconda3/lib/python3.6/site-packages/pandas/core/indexing.py:205: SettingWithCopyWarning: \n",
      "A value is trying to be set on a copy of a slice from a DataFrame\n",
      "\n",
      "See the caveats in the documentation: http://pandas.pydata.org/pandas-docs/stable/user_guide/indexing.html#returning-a-view-versus-a-copy\n",
      "  self._setitem_with_indexer(indexer, value)\n"
     ]
    }
   ],
   "source": [
    "#correct stop column \n",
    "SST_concat['correct_stop'] = np.NaN\n",
    "\n",
    "SST_concat['correct_stop'].loc[(SST_concat['StopSignal.RESP'].isnull()) & (SST_concat['Fix.RESP'].isnull()) & \\\n",
    "                               (SST_concat['trial_type'] == 'StopTrial') & (SST_concat['SSD.RESP'].isnull())] = float(1)\n",
    "\n",
    "SST_concat['correct_stop'].loc[(~(SST_concat['StopSignal.RESP'].isnull()) | ~(SST_concat['Fix.RESP'].isnull()) \\\n",
    "                                | ~(SST_concat['SSD.RESP'].isnull())) & (SST_concat['trial_type'] == 'StopTrial')] = float(0)"
   ]
  },
  {
   "cell_type": "code",
   "execution_count": 179,
   "metadata": {},
   "outputs": [],
   "source": [
    "SST_concat['correct_stimulus_mapping_1'] = np.NaN\n",
    "SST_concat['correct_stimulus_mapping_2'] = np.NaN"
   ]
  },
  {
   "cell_type": "code",
   "execution_count": 180,
   "metadata": {},
   "outputs": [],
   "source": [
    "SST_concat.loc[SST_concat['Stimulus'] == 'images/Right_Arrow.bmp', 'correct_stimulus_mapping_1'] = SST_concat.loc[SST_concat['Stimulus'] == 'images/Right_Arrow.bmp']['Go.CRESP'].dropna().unique()[0]\n",
    "SST_concat.loc[SST_concat['Stimulus'] == 'images/Right_Arrow.bmp', 'correct_stimulus_mapping_2'] = SST_concat.loc[SST_concat['Stimulus'] == 'images/Right_Arrow.bmp']['Go.CRESP'].dropna().unique()[1]\n",
    "\n",
    "SST_concat.loc[SST_concat['Stimulus'] == 'images/Left_Arrow.bmp', 'correct_stimulus_mapping_1'] = SST_concat.loc[SST_concat['Stimulus'] == 'images/Left_Arrow.bmp']['Go.CRESP'].dropna().unique()[0]\n",
    "SST_concat.loc[SST_concat['Stimulus'] == 'images/Left_Arrow.bmp', 'correct_stimulus_mapping_2'] = SST_concat.loc[SST_concat['Stimulus'] == 'images/Left_Arrow.bmp']['Go.CRESP'].dropna().unique()[1]"
   ]
  },
  {
   "cell_type": "code",
   "execution_count": 181,
   "metadata": {},
   "outputs": [
    {
     "name": "stderr",
     "output_type": "stream",
     "text": [
      "/Users/work/anaconda3/lib/python3.6/site-packages/pandas/core/indexing.py:205: SettingWithCopyWarning: \n",
      "A value is trying to be set on a copy of a slice from a DataFrame\n",
      "\n",
      "See the caveats in the documentation: http://pandas.pydata.org/pandas-docs/stable/user_guide/indexing.html#returning-a-view-versus-a-copy\n",
      "  self._setitem_with_indexer(indexer, value)\n"
     ]
    }
   ],
   "source": [
    "#correct stop choice response \n",
    "SST_concat['correct_stop_mapping'] = np.NaN \n",
    "SST_concat['correct_stop_mapping'].loc[(SST_concat['correct_stop'] == 0) & (~SST_concat['SSD.RESP'].isnull()) &\\\n",
    "                                       ((SST_concat['SSD.RESP'] == SST_concat['correct_stimulus_mapping_1']) | (SST_concat['SSD.RESP'] == SST_concat['correct_stimulus_mapping_2']))] = float(1)\n",
    "\n",
    "SST_concat['correct_stop_mapping'].loc[(SST_concat['correct_stop'] == 0) & (~SST_concat['SSD.RESP'].isnull()) &\\\n",
    "                                      (SST_concat['SSD.RESP'] != SST_concat['correct_stimulus_mapping_1']) & (SST_concat['SSD.RESP'] != SST_concat['correct_stimulus_mapping_2'])] = float(0)\n"
   ]
  },
  {
   "cell_type": "code",
   "execution_count": 182,
   "metadata": {},
   "outputs": [
    {
     "name": "stderr",
     "output_type": "stream",
     "text": [
      "/Users/work/anaconda3/lib/python3.6/site-packages/pandas/core/indexing.py:205: SettingWithCopyWarning: \n",
      "A value is trying to be set on a copy of a slice from a DataFrame\n",
      "\n",
      "See the caveats in the documentation: http://pandas.pydata.org/pandas-docs/stable/user_guide/indexing.html#returning-a-view-versus-a-copy\n",
      "  self._setitem_with_indexer(indexer, value)\n"
     ]
    }
   ],
   "source": [
    "SST_concat['correct_stop_mapping'].loc[(SST_concat['correct_stop'] == 0) & (SST_concat['SSD.RESP'].isnull()) & (~SST_concat['StopSignal.RESP'].isnull()) &\\\n",
    "                                       ((SST_concat['StopSignal.RESP'] == SST_concat['correct_stimulus_mapping_1']) | (SST_concat['StopSignal.RESP'] == SST_concat['correct_stimulus_mapping_2']))] = float(1)\n",
    "\n",
    "SST_concat['correct_stop_mapping'].loc[(SST_concat['correct_stop'] == 0) & (SST_concat['SSD.RESP'].isnull()) & (~SST_concat['StopSignal.RESP'].isnull()) &\\\n",
    "                                       ((SST_concat['StopSignal.RESP'] != SST_concat['correct_stimulus_mapping_1']) & (SST_concat['StopSignal.RESP'] != SST_concat['correct_stimulus_mapping_2']))] = float(0)"
   ]
  },
  {
   "cell_type": "code",
   "execution_count": 183,
   "metadata": {},
   "outputs": [
    {
     "name": "stderr",
     "output_type": "stream",
     "text": [
      "/Users/work/anaconda3/lib/python3.6/site-packages/pandas/core/indexing.py:205: SettingWithCopyWarning: \n",
      "A value is trying to be set on a copy of a slice from a DataFrame\n",
      "\n",
      "See the caveats in the documentation: http://pandas.pydata.org/pandas-docs/stable/user_guide/indexing.html#returning-a-view-versus-a-copy\n",
      "  self._setitem_with_indexer(indexer, value)\n"
     ]
    }
   ],
   "source": [
    "SST_concat['correct_stop_mapping'].loc[(SST_concat['correct_stop'] == 0) & (SST_concat['SSD.RESP'].isnull()) & (SST_concat['StopSignal.RESP'].isnull()) & (~SST_concat['Fix.RESP'].isnull()) &\\\n",
    "                                       ((SST_concat['Fix.RESP'] == SST_concat['correct_stimulus_mapping_1']) | (SST_concat['Fix.RESP'] == SST_concat['correct_stimulus_mapping_2']))] = float(1)\n",
    "\n",
    "SST_concat['correct_stop_mapping'].loc[(SST_concat['correct_stop'] == 0) & (SST_concat['SSD.RESP'].isnull()) & (SST_concat['StopSignal.RESP'].isnull()) & (~SST_concat['Fix.RESP'].isnull()) &\\\n",
    "                                       ((SST_concat['Fix.RESP'] != SST_concat['correct_stimulus_mapping_1']) & (SST_concat['Fix.RESP'] != SST_concat['correct_stimulus_mapping_2']))] = float(0)"
   ]
  },
  {
   "cell_type": "markdown",
   "metadata": {},
   "source": [
    "### fix the go.rt calculation"
   ]
  },
  {
   "cell_type": "markdown",
   "metadata": {},
   "source": [
    "since the trial unfolds over several different sub trials, it's necessary to add some of these together to get correct rt"
   ]
  },
  {
   "cell_type": "code",
   "execution_count": 184,
   "metadata": {},
   "outputs": [],
   "source": [
    "#find the index of where there's a fixation response on go trials \n",
    "go_fix_resp = (~SST_concat['Fix.RESP'].isnull()) & \\\n",
    "              (SST_concat['Go.RESP'].isnull()) & \\\n",
    "              (SST_concat['trial_type'] == 'GoTrial')\n",
    "go_fix_idx = go_fix_resp[go_fix_resp == True].index"
   ]
  },
  {
   "cell_type": "code",
   "execution_count": 185,
   "metadata": {},
   "outputs": [
    {
     "name": "stderr",
     "output_type": "stream",
     "text": [
      "/Users/work/anaconda3/lib/python3.6/site-packages/ipykernel_launcher.py:4: SettingWithCopyWarning: \n",
      "A value is trying to be set on a copy of a slice from a DataFrame\n",
      "\n",
      "See the caveats in the documentation: http://pandas.pydata.org/pandas-docs/stable/user_guide/indexing.html#returning-a-view-versus-a-copy\n",
      "  after removing the cwd from sys.path.\n"
     ]
    }
   ],
   "source": [
    "#make column from Go.RT values\n",
    "SST_concat['go_rt_adjusted'] = SST_concat['Go.RT'].copy()\n",
    "#for long response trials, add the fix.rt to the go.duration\n",
    "SST_concat['go_rt_adjusted'][go_fix_idx] = SST_concat.loc[go_fix_idx]['Go.Duration'] +  \\\n",
    "                                           SST_concat.loc[go_fix_idx]['Fix.RT']"
   ]
  },
  {
   "cell_type": "markdown",
   "metadata": {},
   "source": [
    "#### fix the stop sig rt calculation"
   ]
  },
  {
   "cell_type": "code",
   "execution_count": 186,
   "metadata": {},
   "outputs": [],
   "source": [
    "#find all stop trials\n",
    "stop_trial_mask = (SST_concat['trial_type'] == 'StopTrial')\n",
    "#make an index of all stop trials \n",
    "stop_trial_idx = stop_trial_mask[stop_trial_mask == True].index"
   ]
  },
  {
   "cell_type": "code",
   "execution_count": 187,
   "metadata": {},
   "outputs": [],
   "source": [
    "SST_concat['stop_rt_adjusted'] = SST_concat['StopSignal.RT']\n",
    "#find all stop failure trials with resp during fix.resp, and no resp during stopsignal.resp\n",
    "stop_fix_resp = SST_concat['Fix.RESP'].notnull() & \\\n",
    "                SST_concat['StopSignal.RESP'].isnull() & \\\n",
    "                ((SST_concat['trial_type'] == 'StopTrial') & (SST_concat['correct_stop'] == 0))\n",
    "\n",
    "stop_fix_idx = stop_fix_resp[stop_fix_resp == True].index\n",
    "\n",
    "stop_SSD_resp = SST_concat['SSD.RESP'].notnull() & (SST_concat['trial_type'] == 'StopTrial')"
   ]
  },
  {
   "cell_type": "code",
   "execution_count": 188,
   "metadata": {},
   "outputs": [
    {
     "name": "stderr",
     "output_type": "stream",
     "text": [
      "/Users/work/anaconda3/lib/python3.6/site-packages/ipykernel_launcher.py:2: SettingWithCopyWarning: \n",
      "A value is trying to be set on a copy of a slice from a DataFrame\n",
      "\n",
      "See the caveats in the documentation: http://pandas.pydata.org/pandas-docs/stable/user_guide/indexing.html#returning-a-view-versus-a-copy\n",
      "  \n",
      "/Users/work/anaconda3/lib/python3.6/site-packages/ipykernel_launcher.py:4: SettingWithCopyWarning: \n",
      "A value is trying to be set on a copy of a slice from a DataFrame\n",
      "\n",
      "See the caveats in the documentation: http://pandas.pydata.org/pandas-docs/stable/user_guide/indexing.html#returning-a-view-versus-a-copy\n",
      "  after removing the cwd from sys.path.\n"
     ]
    }
   ],
   "source": [
    "#use that index to add stop signal duration and stop signal duration to get correct stop signal RT on these trials\n",
    "SST_concat['stop_rt_adjusted'][stop_fix_resp] = SST_concat.loc[stop_fix_resp]['StopSignal.Duration'] +\\\n",
    "                                           SST_concat.loc[stop_fix_resp]['Fix.RT'] + \\\n",
    "                                         SST_concat[stop_fix_resp]['SSDDur']\n",
    "\n",
    "SST_concat['stop_rt_adjusted'][stop_SSD_resp] = SST_concat.loc[stop_SSD_resp]['SSD.RT']"
   ]
  },
  {
   "cell_type": "code",
   "execution_count": 189,
   "metadata": {},
   "outputs": [
    {
     "name": "stderr",
     "output_type": "stream",
     "text": [
      "/Users/work/anaconda3/lib/python3.6/site-packages/ipykernel_launcher.py:10: SettingWithCopyWarning: \n",
      "A value is trying to be set on a copy of a slice from a DataFrame\n",
      "\n",
      "See the caveats in the documentation: http://pandas.pydata.org/pandas-docs/stable/user_guide/indexing.html#returning-a-view-versus-a-copy\n",
      "  # Remove the CWD from sys.path while we load stuff.\n"
     ]
    }
   ],
   "source": [
    "#find the stop failure trials and add the stop signal duration for correct stop fail RT \n",
    "\n",
    "##erroroneous : \n",
    "# stop_resp_mask = (SST_concat['StopSignal.RESP'].notnull() &  \\\n",
    "#                              SST_concat['SSD.RESP'].isnull() & \\\n",
    "#                 ~SST_concat['stop_rt_adjusted'].isnull())\n",
    "\n",
    "stop_resp_mask = ((SST_concat['StopSignal.RESP'].notnull()  \\\n",
    "                & SST_concat['SSD.RESP'].isnull()) & \\\n",
    "                 (SST_concat['trial_type'] == 'StopTrial'))\n",
    "        \n",
    "stop_resp_idx = stop_resp_mask[stop_resp_mask == True].index\n",
    "\n",
    "#add SSDDur to response time \n",
    "SST_concat['stop_rt_adjusted'][stop_resp_idx] = \\\n",
    "        SST_concat['stop_rt_adjusted'][stop_resp_idx] + SST_concat['SSDDur'][stop_resp_idx]"
   ]
  },
  {
   "cell_type": "markdown",
   "metadata": {},
   "source": [
    "### create go stimuli duration"
   ]
  },
  {
   "cell_type": "code",
   "execution_count": 190,
   "metadata": {},
   "outputs": [
    {
     "name": "stderr",
     "output_type": "stream",
     "text": [
      "/Users/work/anaconda3/lib/python3.6/site-packages/pandas/core/indexing.py:205: SettingWithCopyWarning: \n",
      "A value is trying to be set on a copy of a slice from a DataFrame\n",
      "\n",
      "See the caveats in the documentation: http://pandas.pydata.org/pandas-docs/stable/user_guide/indexing.html#returning-a-view-versus-a-copy\n",
      "  self._setitem_with_indexer(indexer, value)\n"
     ]
    }
   ],
   "source": [
    "#create column for Go.Stim.Duration - when there's no go response, this should be 1000ms\n",
    "SST_concat['go_stim_duration'] = SST_concat['Go.RT'].copy()\n",
    "SST_concat['go_stim_duration'].loc[SST_concat['Go.RT'] == 0] = SST_concat['Go.Duration'].loc[SST_concat['Go.RT'] == 0]\n",
    "\n",
    "SST_concat['go_stim_duration'].loc[~(SST_concat['SSD.RESP'].isnull())] = SST_concat.loc[~SST_concat['SSD.RESP'].isnull()]['SSD.RT']\n",
    "SST_concat['go_stim_duration'].loc[(SST_concat['SSD.RT']  == 0)] = SST_concat.loc[SST_concat['SSD.RT'] == 0]['SSDDur']\n"
   ]
  },
  {
   "cell_type": "code",
   "execution_count": 191,
   "metadata": {},
   "outputs": [],
   "source": [
    "#this saves it to csvs that are small enough to be viewed by excel\n",
    "#SST_concat.iloc[:867600].to_csv('SST_cleaned_7231_1.csv')\n",
    "#SST_concat.iloc[867600:1735560, :].to_csv('SST_cleaned_7231_2.csv')\n",
    "#SST_concat.iloc[1735560:].to_csv('SST_cleaned_7231_3.csv')"
   ]
  },
  {
   "cell_type": "code",
   "execution_count": 192,
   "metadata": {},
   "outputs": [],
   "source": [
    "SST_concat.to_csv('SST_cleaned_7231_all_rows_all_columns.csv')"
   ]
  }
 ],
 "metadata": {
  "kernelspec": {
   "display_name": "Python 3",
   "language": "python",
   "name": "python3"
  },
  "language_info": {
   "codemirror_mode": {
    "name": "ipython",
    "version": 3
   },
   "file_extension": ".py",
   "mimetype": "text/x-python",
   "name": "python",
   "nbconvert_exporter": "python",
   "pygments_lexer": "ipython3",
   "version": "3.6.10"
  }
 },
 "nbformat": 4,
 "nbformat_minor": 4
}
