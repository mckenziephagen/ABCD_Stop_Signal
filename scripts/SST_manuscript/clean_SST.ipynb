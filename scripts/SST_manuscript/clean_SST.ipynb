{
 "cells": [
  {
   "cell_type": "code",
   "execution_count": 105,
   "metadata": {},
   "outputs": [
    {
     "name": "stdout",
     "output_type": "stream",
     "text": [
      "1325Subjects\n",
      "SST.zip\n",
      "SST_cleaned_7231.csv\n",
      "SST_cleaned_7231_1.csv\n",
      "SST_cleaned_7231_2.csv\n",
      "SST_cleaned_7231_3.csv\n",
      "SST_cleaned_7231_all_rows_all_columns.csv\n",
      "SST_curated.csv\n",
      "SST_problems.ipynb\n",
      "SST_quality_control.ipynb\n",
      "SST_recc_full.csv\n",
      "Untitled.ipynb\n",
      "Untitled1.ipynb\n",
      "accuracy.csv\n",
      "accuracy_with_avg_ssd.csv\n",
      "all_subs.csv\n",
      "concat_SST.ipynb\n",
      "incomplete_subjects.csv\n",
      "incorrect_go.csv\n",
      "partially_curated.csv\n",
      "reran_partially_cleaned.csv\n",
      "stop_trials.csv\n",
      "under_review_mh.csv\n",
      "weirdcols.csv\n",
      "zero_ssd.csv\n"
     ]
    }
   ],
   "source": [
    "ls"
   ]
  },
  {
   "cell_type": "code",
   "execution_count": null,
   "metadata": {},
   "outputs": [],
   "source": [
    "import pandas as pd \n",
    "import numpy as np\n",
    "import matplotlib.pyplot as plt"
   ]
  },
  {
   "cell_type": "code",
   "execution_count": null,
   "metadata": {},
   "outputs": [],
   "source": [
    "#this makes it so that the WHOLE dataframe prints, just fyi, this can bog down your code\n",
    "\n",
    "pd.set_option('display.max_columns', 1000)  # or 1000\n",
    "pd.set_option('display.max_rows', None)  # or 1000\n",
    "pd.set_option('display.max_colwidth', 199)  # or 199"
   ]
  },
  {
   "cell_type": "code",
   "execution_count": null,
   "metadata": {},
   "outputs": [],
   "source": [
    "# incomplete_runs_subj = [] \n",
    "# SST_concat = pd.DataFrame()\n",
    "# incomplete_runs_df = pd.DataFrame()\n",
    "# raw_concat = raw_concat[np.logical_and(raw_concat.TrialCode != 'BeginFix', \\\n",
    "#                                        raw_concat.TrialCode != 'EndFix')]\n",
    "\n",
    "# raw_concat = raw_concat[~raw_concat['TrialCode'].isnull()]\n",
    "\n",
    "# for i in raw_concat['NARGUID'].unique(): \n",
    "#     sub_df = raw_concat.loc[raw_concat['NARGUID'] == i]\n",
    "#     #add TrialNum col from 1-360\n",
    "#     sub_df['TrialNum'] = np.arange(1, len(sub_df)+1)\n",
    "# #     stop_trial_mask = (sub_df['TrialCode'] == 'IncorrectStop') | \\\n",
    "# #                       (sub_df['TrialCode'] == 'CorrectStop')\n",
    "# #     stop_trial_idx = stop_trial_mask[stop_trial_mask == True].index\n",
    "# #     sub_df['StopTrial'] = \"\"\n",
    "# #     sub_df['StopTrial'][stop_trial_idx] = np.arange(1, len(sub_df.loc[stop_trial_idx])+ 1)\n",
    "#     if len(~sub_df['TrialNum'].isnull()) == 360: \n",
    "#         if 'StopTooEarly' not in sub_df['TrialCode'].unique(): \n",
    "#             SST_concat = SST_concat.append(sub_df)\n",
    "#     else: \n",
    "#         incomplete_runs_df = incomplete_runs_df.append(sub_df)\n",
    "#         incomplete_runs_subj.append(i)\n",
    "    \n",
    "\n",
    "# incomplete_runs_df.to_csv('incomplete_subjects.csv')"
   ]
  },
  {
   "cell_type": "code",
   "execution_count": null,
   "metadata": {},
   "outputs": [],
   "source": [
    "#SST_concat.to_csv('reran_partially_cleaned.csv')"
   ]
  },
  {
   "cell_type": "code",
   "execution_count": null,
   "metadata": {},
   "outputs": [],
   "source": [
    "SST_concat = pd.read_csv('reran_partially_cleaned.csv')"
   ]
  },
  {
   "cell_type": "markdown",
   "metadata": {},
   "source": [
    "### Check \"TrialCode\" accuracy"
   ]
  },
  {
   "cell_type": "code",
   "execution_count": null,
   "metadata": {},
   "outputs": [],
   "source": [
    "#how to figure out what response is the correct response "
   ]
  },
  {
   "cell_type": "code",
   "execution_count": null,
   "metadata": {},
   "outputs": [],
   "source": [
    "#some subjects have their subtrial under Procedure[Trial]\n",
    "SST_concat['Procedure[SubTrial]'].loc[SST_concat['Procedure[SubTrial]'].isnull()] = SST_concat['Procedure[Trial]'] \n",
    "SST_concat['trial_type'] = SST_concat['Procedure[SubTrial]'].replace('VariableStopTrial.*', 'StopTrial', regex=True)"
   ]
  },
  {
   "cell_type": "code",
   "execution_count": null,
   "metadata": {},
   "outputs": [],
   "source": [
    "go_trial_mask = SST_concat.loc[SST_concat['Procedure[SubTrial]'] == 'GoTrial']\n",
    "go_trial_idx = go_trial_mask[go_trial_mask==True].index"
   ]
  },
  {
   "cell_type": "code",
   "execution_count": null,
   "metadata": {},
   "outputs": [],
   "source": [
    "SST_concat['Go.CRESP'].unique()"
   ]
  },
  {
   "cell_type": "code",
   "execution_count": null,
   "metadata": {},
   "outputs": [],
   "source": [
    "#the response recordings are inconsistent in type and format\n",
    "cresp_replace = {'2.0': 2.0,\n",
    "                 '1.0': 1.0,\n",
    "                 '3.0': 3.0,\n",
    "                 '4.0': 4.0,\n",
    "                 '1,{LEFTARROW}': 1.0,\n",
    "                 '2,{RIGHTARROW}': 2.0}\n",
    "\n",
    "resp_replace = {'2.0': 2.0,\n",
    "                '1.0': 1.0,\n",
    "                '3.0': 3.0,\n",
    "                '4.0': 4.0,\n",
    "                '{LEFTARROW}': 1.0,\n",
    "                '{RIGHTARROW}': 2.0}\n",
    "\n",
    "SST_concat['Go.RESP'].replace(to_replace = resp_replace, inplace = True)\n",
    "SST_concat['Go.CRESP'].replace(to_replace = cresp_replace, inplace=True)"
   ]
  },
  {
   "cell_type": "code",
   "execution_count": null,
   "metadata": {},
   "outputs": [],
   "source": [
    "#calc my own correct\n",
    "SST_concat['correct_go_response'] = np.NaN\n",
    "\n",
    "SST_concat['correct_go_response'].loc[(~SST_concat['Go.RESP'].isnull()) & \n",
    "                                      (SST_concat['Go.CRESP'] == SST_concat['Go.RESP'])] = float(1)\n",
    "\n",
    "SST_concat['correct_go_response'].loc[(SST_concat['Go.RESP'].isnull()) & \n",
    "                                      (SST_concat['Go.CRESP'] == SST_concat['Fix.RESP'])] = float(1)\n",
    "\n",
    "SST_concat['correct_go_response'].loc[(~SST_concat['Go.RESP'].isnull()) & \n",
    "                                      (SST_concat['Go.CRESP'] != SST_concat['Go.RESP']) &\n",
    "                                      (SST_concat['trial_type'] == 'GoTrial')] = float(0)\n",
    "\n",
    "\n",
    "SST_concat['correct_go_response'].loc[(SST_concat['Go.RESP'].isnull()) & \n",
    "                                      (SST_concat['Go.CRESP'] != SST_concat['Fix.RESP']) &\n",
    "                                      (SST_concat['trial_type'] == 'GoTrial')] = float(0)\n",
    "\n",
    "\n",
    "SST_concat['correct_go_response'].loc[(SST_concat['Go.RESP'].isnull()) & (SST_concat['Fix.RESP'].isnull()) & \n",
    "                                      (SST_concat['trial_type'] == 'GoTrial')] = 'omission'\n",
    "\n",
    "\n"
   ]
  },
  {
   "cell_type": "code",
   "execution_count": null,
   "metadata": {},
   "outputs": [],
   "source": [
    "SST_concat.loc[SST_concat['trial_type'] == 'GoTrial']['correct_go_response'].unique() "
   ]
  },
  {
   "cell_type": "code",
   "execution_count": null,
   "metadata": {},
   "outputs": [],
   "source": [
    "SST_concat['correct_stop'] = np.NaN\n",
    "\n",
    "SST_concat['correct_stop'].loc[(SST_concat['StopSignal.RESP'].isnull()) & (SST_concat['Fix.RESP'].isnull()) & \\\n",
    "                               (SST_concat['trial_type'] == 'StopTrial') & (SST_concat['SSD.RESP'].isnull())] = float(1)\n",
    "\n",
    "SST_concat['correct_stop'].loc[(~(SST_concat['StopSignal.RESP'].isnull()) | ~(SST_concat['Fix.RESP'].isnull()) \\\n",
    "                                | ~(SST_concat['SSD.RESP'].isnull())) & (SST_concat['trial_type'] == 'StopTrial')] = float(0)"
   ]
  },
  {
   "cell_type": "code",
   "execution_count": null,
   "metadata": {},
   "outputs": [],
   "source": [
    "SST_concat['correct_stimulus_mapping_1'] = np.NaN\n",
    "SST_concat['correct_stimulus_mapping_2'] = np.NaN"
   ]
  },
  {
   "cell_type": "code",
   "execution_count": null,
   "metadata": {},
   "outputs": [],
   "source": [
    "SST_concat.loc[SST_concat['Stimulus'] == 'images/Right_Arrow.bmp', 'correct_stimulus_mapping_1'] = SST_concat.loc[SST_concat['Stimulus'] == 'images/Right_Arrow.bmp']['Go.CRESP'].dropna().unique()[0]\n",
    "SST_concat.loc[SST_concat['Stimulus'] == 'images/Right_Arrow.bmp', 'correct_stimulus_mapping_2'] = SST_concat.loc[SST_concat['Stimulus'] == 'images/Right_Arrow.bmp']['Go.CRESP'].dropna().unique()[1]\n",
    "\n",
    "SST_concat.loc[SST_concat['Stimulus'] == 'images/Left_Arrow.bmp', 'correct_stimulus_mapping_1'] = SST_concat.loc[SST_concat['Stimulus'] == 'images/Left_Arrow.bmp']['Go.CRESP'].dropna().unique()[0]\n",
    "SST_concat.loc[SST_concat['Stimulus'] == 'images/Left_Arrow.bmp', 'correct_stimulus_mapping_2'] = SST_concat.loc[SST_concat['Stimulus'] == 'images/Left_Arrow.bmp']['Go.CRESP'].dropna().unique()[1]"
   ]
  },
  {
   "cell_type": "code",
   "execution_count": null,
   "metadata": {},
   "outputs": [],
   "source": [
    "SST_concat['correct_stop_mapping'] = np.NaN #work on this \n",
    "SST_concat['correct_stop_mapping'].loc[(SST_concat['correct_stop'] == 0) & (~SST_concat['SSD.RESP'].isnull()) &\\\n",
    "                                       ((SST_concat['SSD.RESP'] == SST_concat['correct_stimulus_mapping_1']) | (SST_concat['SSD.RESP'] == SST_concat['correct_stimulus_mapping_2']))] = float(1)\n",
    "\n",
    "SST_concat['correct_stop_mapping'].loc[(SST_concat['correct_stop'] == 0) & (~SST_concat['SSD.RESP'].isnull()) &\\\n",
    "                                      (SST_concat['SSD.RESP'] != SST_concat['correct_stimulus_mapping_1']) & (SST_concat['SSD.RESP'] != SST_concat['correct_stimulus_mapping_2'])] = float(0)\n"
   ]
  },
  {
   "cell_type": "code",
   "execution_count": null,
   "metadata": {},
   "outputs": [],
   "source": [
    "SST_concat['correct_stop_mapping'].loc[(SST_concat['correct_stop'] == 0) & (SST_concat['SSD.RESP'].isnull()) & (~SST_concat['StopSignal.RESP'].isnull()) &\\\n",
    "                                       ((SST_concat['StopSignal.RESP'] == SST_concat['correct_stimulus_mapping_1']) | (SST_concat['StopSignal.RESP'] == SST_concat['correct_stimulus_mapping_2']))] = float(1)\n",
    "\n",
    "SST_concat['correct_stop_mapping'].loc[(SST_concat['correct_stop'] == 0) & (SST_concat['SSD.RESP'].isnull()) & (~SST_concat['StopSignal.RESP'].isnull()) &\\\n",
    "                                       ((SST_concat['StopSignal.RESP'] != SST_concat['correct_stimulus_mapping_1']) & (SST_concat['StopSignal.RESP'] != SST_concat['correct_stimulus_mapping_2']))] = float(0)"
   ]
  },
  {
   "cell_type": "code",
   "execution_count": null,
   "metadata": {},
   "outputs": [],
   "source": [
    "SST_concat['correct_stop_mapping'].loc[(SST_concat['correct_stop'] == 0) & (SST_concat['SSD.RESP'].isnull()) & (SST_concat['StopSignal.RESP'].isnull()) & (~SST_concat['Fix.RESP'].isnull()) &\\\n",
    "                                       ((SST_concat['Fix.RESP'] == SST_concat['correct_stimulus_mapping_1']) | (SST_concat['Fix.RESP'] == SST_concat['correct_stimulus_mapping_2']))] = float(1)\n",
    "\n",
    "SST_concat['correct_stop_mapping'].loc[(SST_concat['correct_stop'] == 0) & (SST_concat['SSD.RESP'].isnull()) & (SST_concat['StopSignal.RESP'].isnull()) & (~SST_concat['Fix.RESP'].isnull()) &\\\n",
    "                                       ((SST_concat['Fix.RESP'] != SST_concat['correct_stimulus_mapping_1']) & (SST_concat['Fix.RESP'] != SST_concat['correct_stimulus_mapping_2']))] = float(0)"
   ]
  },
  {
   "cell_type": "markdown",
   "metadata": {},
   "source": [
    "### fix the go.rt calculation"
   ]
  },
  {
   "cell_type": "code",
   "execution_count": null,
   "metadata": {},
   "outputs": [],
   "source": [
    "#find the index of where there's a fixation response on go trials \n",
    "go_fix_resp = (~SST_concat['Fix.RESP'].isnull()) & \\\n",
    "              (SST_concat['Go.RESP'].isnull()) & \\\n",
    "              (SST_concat['trial_type'] == 'GoTrial')\n",
    "go_fix_idx = go_fix_resp[go_fix_resp == True].index"
   ]
  },
  {
   "cell_type": "code",
   "execution_count": null,
   "metadata": {},
   "outputs": [],
   "source": [
    "#make column from Go.RT values\n",
    "SST_concat['go_rt_adjusted'] = SST_concat['Go.RT'].copy()\n",
    "#for long response trials, add the fix.rt to the go.duration\n",
    "SST_concat['go_rt_adjusted'][go_fix_idx] = SST_concat.loc[go_fix_idx]['Go.Duration'] +  \\\n",
    "                                           SST_concat.loc[go_fix_idx]['Fix.RT']"
   ]
  },
  {
   "cell_type": "markdown",
   "metadata": {},
   "source": [
    "#### fix the stop sig rt calculation"
   ]
  },
  {
   "cell_type": "code",
   "execution_count": null,
   "metadata": {},
   "outputs": [],
   "source": [
    "#find all stop trials\n",
    "stop_trial_mask = (SST_concat['trial_type'] == 'StopTrial')\n",
    "#make an index of all stop trials \n",
    "stop_trial_idx = stop_trial_mask[stop_trial_mask == True].index"
   ]
  },
  {
   "cell_type": "code",
   "execution_count": null,
   "metadata": {},
   "outputs": [],
   "source": [
    "SST_concat['stop_rt_adjusted'] = SST_concat['StopSignal.RT']\n",
    "#find all stop failure trials with resp during fix.resp, and no resp during stopsignal.resp\n",
    "stop_fix_resp = (~SST_concat['Fix.RESP'].isnull()) & \\\n",
    "                (SST_concat['StopSignal.RESP'].isnull()) & \\\n",
    "                ((SST_concat['trial_type'] == 'StopTrial') & SST_concat['correct_stop'] == 0)\n",
    "\n",
    "stop_fix_idx = stop_fix_resp[stop_fix_resp == True].index\n",
    "\n",
    "stop_SSD_resp = (~SST_concat['SSD.RESP'].isnull()) & \\\n",
    "                (~(SST_concat['StopSignal.RESP'].isnull()) | ~(SST_concat['Fix.RESP'].isnull()) \\\n",
    "                    | ~(SST_concat['SSD.RESP'].isnull()))"
   ]
  },
  {
   "cell_type": "code",
   "execution_count": null,
   "metadata": {},
   "outputs": [],
   "source": []
  },
  {
   "cell_type": "code",
   "execution_count": null,
   "metadata": {},
   "outputs": [],
   "source": [
    "#use that index to add stop signal duration to get correct stop signal RT on these trials\n",
    "SST_concat['stop_rt_adjusted'][stop_fix_resp] = SST_concat.loc[stop_fix_resp]['StopSignal.Duration'] +\\\n",
    "                                           SST_concat.loc[stop_fix_resp]['Fix.RT']\n",
    "\n",
    "SST_concat['stop_rt_adjusted'][stop_SSD_resp] = SST_concat.loc[stop_SSD_resp]['SSD.RT']"
   ]
  },
  {
   "cell_type": "code",
   "execution_count": null,
   "metadata": {},
   "outputs": [],
   "source": [
    "#find the stop failure trials and add the stop signal duration for correct stop fail RT\n",
    "stop_resp_mask = ((~(SST_concat['StopSignal.RESP'].isnull()) | ~(SST_concat['Fix.RESP'].isnull()) \\\n",
    "                                | ~(SST_concat['SSD.RESP'].isnull())) & \\\n",
    "                (~SST_concat['stop_rt_adjusted'].isnull()))\n",
    "        \n",
    "stop_resp_idx = stop_resp_mask[stop_resp_mask == True].index\n",
    "\n",
    "SST_concat['stop_rt_adjusted'][stop_resp_idx] = \\\n",
    "        SST_concat['stop_rt_adjusted'][stop_resp_idx] + SST_concat['SSDDur'][stop_resp_idx]"
   ]
  },
  {
   "cell_type": "code",
   "execution_count": null,
   "metadata": {},
   "outputs": [],
   "source": [
    "SST_concat.loc[(SST_concat['TrialCode'] == 'CorrectStop') & (SST_concat['Fix.RT'] != 0)]\\\n",
    "        [['SSD.RT', 'StopSignal.RT', 'Fix.RT', 'correct_stop']]"
   ]
  },
  {
   "cell_type": "markdown",
   "metadata": {},
   "source": [
    "potential figure "
   ]
  },
  {
   "cell_type": "code",
   "execution_count": null,
   "metadata": {},
   "outputs": [],
   "source": [
    "stop_rt_adjuse"
   ]
  },
  {
   "cell_type": "code",
   "execution_count": null,
   "metadata": {},
   "outputs": [],
   "source": [
    "#this is still unresolved\n",
    "plt.hist(SST_concat.loc[(SST_concat['TrialCode'] == 'CorrectStop') & (SST_concat['stop_rt_adjusted'] != 0)]['stop_rt_adjusted'], bins = 20)\n",
    "plt.show()\n",
    "len(SST_concat.loc[(SST_concat['TrialCode'] == 'CorrectStop') & (SST_concat['stop_rt_adjusted'] != 0)])"
   ]
  },
  {
   "cell_type": "markdown",
   "metadata": {},
   "source": [
    "### create go stimuli duration"
   ]
  },
  {
   "cell_type": "code",
   "execution_count": 100,
   "metadata": {},
   "outputs": [
    {
     "name": "stderr",
     "output_type": "stream",
     "text": [
      "/Users/work/anaconda3/lib/python3.6/site-packages/pandas/core/indexing.py:205: SettingWithCopyWarning: \n",
      "A value is trying to be set on a copy of a slice from a DataFrame\n",
      "\n",
      "See the caveats in the documentation: http://pandas.pydata.org/pandas-docs/stable/user_guide/indexing.html#returning-a-view-versus-a-copy\n",
      "  self._setitem_with_indexer(indexer, value)\n"
     ]
    }
   ],
   "source": [
    "#create column for Go.Stim.Duration - when there's no go response, this should be 1000ms\n",
    "SST_concat['go_stim_duration'] = SST_concat['Go.RT'].copy()\n",
    "SST_concat['go_stim_duration'].loc[SST_concat['Go.RT'] == 0] = SST_concat['Go.Duration'].loc[SST_concat['Go.RT'] == 0]\n",
    "\n",
    "SST_concat['go_stim_duration'].loc[~(SST_concat['SSD.RESP'].isnull())] = SST_concat.loc[~SST_concat['SSD.RESP'].isnull()]['SSD.RT']\n",
    "SST_concat['go_stim_duration'].loc[(SST_concat['SSD.RT']  == 0)] = SST_concat.loc[SST_concat['SSD.RT'] == 0]['SSDDur']\n"
   ]
  },
  {
   "cell_type": "markdown",
   "metadata": {},
   "source": [
    "#### TESTING"
   ]
  },
  {
   "cell_type": "code",
   "execution_count": null,
   "metadata": {},
   "outputs": [],
   "source": [
    "# SST_concat.loc[(SST_concat['correct_go_response'] !=0) & (SST_concat['TrialCode'] == 'IncorrectGo')] \\\n",
    "#   [['TrialCode', 'Go.RT', 'Go.CRESP', 'Go.RESP', 'Fix.RESP', 'Fix.RT', 'TrialNum']]"
   ]
  },
  {
   "cell_type": "code",
   "execution_count": null,
   "metadata": {},
   "outputs": [],
   "source": [
    "# i=0\n",
    "# for n in nar: \n",
    "#     print(n, i)\n",
    "    \n",
    "#     initial_ssd = SST_concat.loc[(SST_concat['NARGUID'] == n) & (SST_concat['StopTrial'] == stop.iloc[i])]['SSDDur']\n",
    "#     print(SST_concat.loc[(SST_concat['NARGUID'] == n) & (SST_concat['StopTrial'] == stop.iloc[i])][['StopTrial', 'correct_stop', 'TrialCode']], initial_ssd)\n",
    "\n",
    "#     post_ssd = SST_concat.loc[(SST_concat['NARGUID'] == n) & (SST_concat['StopTrial'] == stop_plus.iloc[i])]['SSDDur']\n",
    "#     print(SST_concat.loc[(SST_concat['NARGUID'] == n) & (SST_concat['StopTrial'] == stop_plus.iloc[i])][['StopTrial', 'correct_stop', 'TrialCode']], post_ssd)\n",
    "\n",
    "#  #   print(i, initial_ssd, post_ssd)\n",
    "#     i+=1"
   ]
  },
  {
   "cell_type": "code",
   "execution_count": null,
   "metadata": {},
   "outputs": [],
   "source": [
    "# SST_concat.loc[(SST_concat['correct_go_response'] ==0) & (SST_concat['TrialCode'] == 'CorrectGo') & (SST_concat['Fix.RESP'] == SST_concat['Go.CRESP'])][:1000] \\\n",
    "#     [['Go.CRESP', 'Go.RESP', 'Go.RT', 'Fix.RESP', 'Fix.RT']]\n"
   ]
  },
  {
   "cell_type": "code",
   "execution_count": null,
   "metadata": {},
   "outputs": [],
   "source": [
    "len(SST_concat.loc[(SST_concat['correct_stop'] ==0) & (SST_concat['TrialCode'] == 'CorrectStop')] \\\n",
    "    [['Fix.RESP','Fix.RT' ,'StopSignal.RT', 'StopSignal.RESP', 'SSD.RT', 'SSD.RESP',  'SSDDur']])\n",
    "    "
   ]
  },
  {
   "cell_type": "code",
   "execution_count": null,
   "metadata": {},
   "outputs": [],
   "source": []
  },
  {
   "cell_type": "code",
   "execution_count": null,
   "metadata": {},
   "outputs": [],
   "source": [
    "len(SST_concat.loc[(SST_concat['correct_stop'] ==1) & (SST_concat['TrialCode'] == 'IncorrectStop')])"
   ]
  },
  {
   "cell_type": "code",
   "execution_count": null,
   "metadata": {},
   "outputs": [],
   "source": [
    "SST_concat.loc[SST_concat['trial_type'] =='GoTrial']['TrialCode'].unique()"
   ]
  },
  {
   "cell_type": "code",
   "execution_count": null,
   "metadata": {},
   "outputs": [],
   "source": [
    "SST_concat.loc[SST_concat['trial_type'] =='StopTrial']['TrialCode'].unique()"
   ]
  },
  {
   "cell_type": "code",
   "execution_count": null,
   "metadata": {},
   "outputs": [],
   "source": [
    "#fix_minus_go = SST_concat.loc[go_trial_idx]['Fix.OnsetTime'] - SST_concat.loc[go_trial_idx]['Go.OnsetTime']\n"
   ]
  },
  {
   "cell_type": "code",
   "execution_count": null,
   "metadata": {},
   "outputs": [],
   "source": [
    "#SST_concat.iloc[:867600].to_csv('SST_cleaned_7231_1.csv')"
   ]
  },
  {
   "cell_type": "code",
   "execution_count": null,
   "metadata": {},
   "outputs": [],
   "source": [
    "#SST_concat.iloc[867600:1735560, :].to_csv('SST_cleaned_7231_2.csv')"
   ]
  },
  {
   "cell_type": "code",
   "execution_count": null,
   "metadata": {},
   "outputs": [],
   "source": [
    "#SST_concat.iloc[1735560:].to_csv('SST_cleaned_7231_3.csv')"
   ]
  },
  {
   "cell_type": "code",
   "execution_count": 104,
   "metadata": {},
   "outputs": [],
   "source": [
    "SST_concat.to_csv('SST_cleaned_7231_all_rows_all_columns.csv')"
   ]
  },
  {
   "cell_type": "code",
   "execution_count": 103,
   "metadata": {},
   "outputs": [
    {
     "data": {
      "text/plain": [
       "2603160"
      ]
     },
     "execution_count": 103,
     "metadata": {},
     "output_type": "execute_result"
    }
   ],
   "source": [
    "len(SST_concat)"
   ]
  },
  {
   "cell_type": "code",
   "execution_count": null,
   "metadata": {},
   "outputs": [],
   "source": []
  }
 ],
 "metadata": {
  "kernelspec": {
   "display_name": "Python 3",
   "language": "python",
   "name": "python3"
  },
  "language_info": {
   "codemirror_mode": {
    "name": "ipython",
    "version": 3
   },
   "file_extension": ".py",
   "mimetype": "text/x-python",
   "name": "python",
   "nbconvert_exporter": "python",
   "pygments_lexer": "ipython3",
   "version": "3.6.5"
  }
 },
 "nbformat": 4,
 "nbformat_minor": 4
}
