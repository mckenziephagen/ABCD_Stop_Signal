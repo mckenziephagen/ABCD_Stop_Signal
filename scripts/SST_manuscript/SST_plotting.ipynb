{
 "cells": [
  {
   "cell_type": "code",
   "execution_count": null,
   "metadata": {},
   "outputs": [],
   "source": [
    "import numpy as np\n",
    "import pandas as pd\n",
    "import matplotlib.pyplot as plt\n",
    "import matplotlib.ticker as mtick\n",
    "\n",
    "pd.set_option('display.max_columns', None)  \n",
    "pd.set_option('display.max_rows', None)\n",
    "\n",
    "SST_df = pd.read_csv('SST_concat.csv')"
   ]
  },
  {
   "cell_type": "code",
   "execution_count": null,
   "metadata": {},
   "outputs": [],
   "source": []
  },
  {
   "cell_type": "code",
   "execution_count": null,
   "metadata": {},
   "outputs": [],
   "source": [
    "zero_RT_df = SST_df[SST_df['Go.RT'] == 0]\n",
    "rt_zero = len(SST_df[SST_df['Go.RT'] == 0])"
   ]
  },
  {
   "cell_type": "code",
   "execution_count": null,
   "metadata": {},
   "outputs": [],
   "source": [
    "zero_RT_df.to_csv('weird_0s.csv')"
   ]
  },
  {
   "cell_type": "code",
   "execution_count": null,
   "metadata": {},
   "outputs": [],
   "source": [
    "#ssddur is how long the go stimuli was present \n",
    "\n",
    "stop_df = SST_df[(SST_df['TrialCode'] == 'IncorrectStop') | (SST_df['TrialCode'] == 'CorrectStop')] \\\n",
    "[['SSD.RT', 'StopSignal.RT', 'SSDDur', 'StopSignal.Duration', 'TrialCode', 'Fix.RESP', 'Fix.RT']] #pick out all the stop trials \n",
    "                                                                                                    \n",
    "                                                                                                                                                                                  "
   ]
  },
  {
   "cell_type": "markdown",
   "metadata": {},
   "source": [
    "the duration of the stop signal varies\n"
   ]
  },
  {
   "cell_type": "code",
   "execution_count": null,
   "metadata": {},
   "outputs": [],
   "source": [
    "stop_df['StopSignal.Duration'].value_counts() "
   ]
  },
  {
   "cell_type": "code",
   "execution_count": null,
   "metadata": {},
   "outputs": [],
   "source": [
    "# stop_values, stop_base = np.histogram(stop_, bins=500)\n",
    "# stop_cumulative = np.cumsum(stop_values)"
   ]
  },
  {
   "cell_type": "markdown",
   "metadata": {},
   "source": [
    "odd things here - some of these have rts of 0 "
   ]
  },
  {
   "cell_type": "code",
   "execution_count": null,
   "metadata": {},
   "outputs": [],
   "source": [
    "SST_df[['Jitter', 'Fix.Duration']]"
   ]
  },
  {
   "cell_type": "code",
   "execution_count": null,
   "metadata": {},
   "outputs": [],
   "source": [
    "for i in ['Go.OnsetTime', 'SSD.OnsetTime', 'StopSignal.OnsetTime', 'Fix.OnsetTime', 'Jitter', 'Fix.Duration']: \n",
    "    #SST_df['Go.OnsetTime'] = SST_df['Go.OnsetTime'] / 1000 \n",
    "    SST_df[i] = SST_df[i] / 1000"
   ]
  },
  {
   "cell_type": "code",
   "execution_count": null,
   "metadata": {},
   "outputs": [],
   "source": [
    "SST_df[SST_df['TrialCode'] == 'IncorrectStop' ][['TrialCode', 'SSD.RT', 'SSD.OnsetTime', \\\n",
    "                                                 'StopSignal.RT', 'StopSignal.OnsetTime', 'Fix.RT', 'Fix.OnsetTime', 'Jitter']].iloc[700:900]\n",
    "\n",
    "# SST_df[['TrialCode', 'SSD.RT', 'SSD.OnsetTime', 'StopSignal.RT', \\\n",
    "#         'StopSignal.OnsetTime', 'Fix.RT', 'Fix.OnsetTime']].iloc[700:900]"
   ]
  },
  {
   "cell_type": "code",
   "execution_count": null,
   "metadata": {},
   "outputs": [],
   "source": [
    "go_rts = SST_df['Go.RT'].dropna()\n",
    "go_values, go_base = np.histogram(go_rts, bins=500)\n",
    "go_cumulative = np.cumsum(go_values)\n",
    "plt.plot(go_base[:-1], go_cumulative, c='m', label = '5000')\n",
    "#plt.plot(stop_base[:-1], stop_cumulative, c='m', label = '5000')\n",
    "\n",
    "plt.text (x=0,  y=7000, s = len(SST_df[SST_df['Go.RT'] == 0]))\n",
    "plt.ylim(ymax = sum(go_values), ymin=0)\n",
    "\n",
    "plt.ylabel('number of occurances')\n",
    "plt.xlabel('reaction time on \"go\" trials')\n",
    "plt.title('SST RT cummulative distribution')\n",
    "ax = plt.gca()  # returns the current axes\n",
    "ax = ax.twinx() # create twin xaxis\n",
    "ax.yaxis.set_major_formatter(mtick.PercentFormatter(xmax = 1))\n",
    "plt.show()\n"
   ]
  },
  {
   "cell_type": "code",
   "execution_count": 16,
   "metadata": {},
   "outputs": [
    {
     "data": {
      "image/png": "[encoded data removed]",
      "text/plain": [
       "<Figure size 432x288 with 2 Axes>"
      ]
     },
     "metadata": {},
     "output_type": "display_data"
    }
   ],
   "source": [
    "go_rts = SST_df['Go.RT'].dropna()\n",
    "go_values, go_base = np.histogram(go_rts, bins=500)\n",
    "go_cumulative = np.cumsum(go_values)\n",
    "plt.plot(go_base[:-1], go_cumulative, c='m', label = '5000')\n",
    "#plt.plot(stop_base[:-1], stop_cumulative, c='m', label = '5000')\n",
    "\n",
    "plt.text (x=0,  y=7000, s = len(SST_df[SST_df['Go.RT'] == 0]))\n",
    "plt.ylim(ymax = sum(go_values), ymin=0)\n",
    "\n",
    "plt.ylabel('number of occurances')\n",
    "plt.xlabel('reaction time on \"go\" trials')\n",
    "plt.title('SST RT cummulative distribution')\n",
    "ax = plt.gca()  # returns the current axes\n",
    "ax = ax.twinx() # create twin xaxis\n",
    "ax.yaxis.set_major_formatter(mtick.PercentFormatter(xmax = 1))\n",
    "plt.show()\n"
   ]
  },
  {
   "cell_type": "code",
   "execution_count": null,
   "metadata": {},
   "outputs": [],
   "source": [
    "SST_df['TrialCode'].value_counts()"
   ]
  },
  {
   "cell_type": "code",
   "execution_count": null,
   "metadata": {},
   "outputs": [],
   "source": [
    "print(f'there are {rt_zero} number of \"go\" trials with an RT of zero')\n",
    "\n",
    "print(f'there are {len(zero_RT_df[zero_RT_df[\"TrialCode\"] == \"CorrectGo\"])} \\\n",
    "number of \"go\" trials with no response that are recorded as correct') "
   ]
  },
  {
   "cell_type": "code",
   "execution_count": null,
   "metadata": {},
   "outputs": [],
   "source": [
    "print(f\"empty fixation responses: {sum(np.isnan(SST_df[(SST_df['Go.RT'] == 0) & (SST_df['TrialCode'] == 'CorrectGo')]['Fix.RESP']))}\") "
   ]
  },
  {
   "cell_type": "code",
   "execution_count": null,
   "metadata": {},
   "outputs": [],
   "source": [
    "#this shows that the responses recorded by Fix.RESP are used to calculate 'TrialCode'\n",
    "sum(SST_df[(SST_df['Go.RT'] == 0) & (SST_df['TrialCode'] == 'CorrectGo')]['Fix.RESP'] #index fix.resp in this subset \n",
    "    != SST_df[(SST_df['Go.RT'] == 0) & (SST_df['TrialCode'] == 'CorrectGo')]['Go.CRESP'])   #index go.cresp in the same subset and compare "
   ]
  },
  {
   "cell_type": "code",
   "execution_count": null,
   "metadata": {},
   "outputs": [],
   "source": [
    "print(f\"so that leaves {sum((SST_df['Go.RT'] == 0) & ~(SST_df['TrialCode'] == 'CorrectGo'))} go responses with an RT of zero with no answer\")"
   ]
  },
  {
   "cell_type": "code",
   "execution_count": null,
   "metadata": {},
   "outputs": [],
   "source": [
    "SST_df[SST_df['TrialCode'] == 'CorrectStop']['StopSignal.RT'].unique() # no rogue answers"
   ]
  },
  {
   "cell_type": "code",
   "execution_count": null,
   "metadata": {},
   "outputs": [],
   "source": [
    "SST_df[SST_df['StopSignal.RT'] != SST_df['SSD.RT']][['StopSignal.RT', 'SSD.RT']]"
   ]
  },
  {
   "cell_type": "code",
   "execution_count": null,
   "metadata": {},
   "outputs": [],
   "source": [
    "stop_rts = SST_df[SST_df['StopSignal.RT'] != 0]['StopSignal.RT'].dropna()\n",
    "print(len(stop_rts))\n",
    "print(len(SST_df[SST_df['TrialCode'] == 'IncorrectStop']))"
   ]
  },
  {
   "cell_type": "code",
   "execution_count": null,
   "metadata": {},
   "outputs": [],
   "source": [
    "SST_df[(SST_df['TrialCode'] == 'IncorrectStop')]['StopSignal.RT'] #incorrect stop -> stop failure"
   ]
  },
  {
   "cell_type": "code",
   "execution_count": null,
   "metadata": {},
   "outputs": [],
   "source": [
    "#SST_df[~np.isnan(SST_df['SSD.ACC'])][['SSDDur', 'Fix.RESP']]\n",
    "sum(~np.isnan(SST_df['SSD.ACC']) == ~np.isnan(SST_df['StopSignal.ACC']))"
   ]
  },
  {
   "cell_type": "code",
   "execution_count": null,
   "metadata": {},
   "outputs": [],
   "source": [
    "SST_df['StopSignal.Duration'].value_counts() #this seems ... weird - is this an eprime error? "
   ]
  },
  {
   "cell_type": "code",
   "execution_count": null,
   "metadata": {},
   "outputs": [],
   "source": [
    "SST_df[SST_df['Go.RT'] == 0]['TrialCode'].value_counts()"
   ]
  },
  {
   "cell_type": "code",
   "execution_count": null,
   "metadata": {},
   "outputs": [],
   "source": [
    "SST_df[SST_df['Go.RT'] == 0][['SSD.RESP', 'StopSignal.RESP']]"
   ]
  },
  {
   "cell_type": "code",
   "execution_count": null,
   "metadata": {},
   "outputs": [],
   "source": [
    "SST_df['SSD.RT']"
   ]
  },
  {
   "cell_type": "code",
   "execution_count": null,
   "metadata": {},
   "outputs": [],
   "source": []
  }
 ],
 "metadata": {
  "kernelspec": {
   "display_name": "Python 3",
   "language": "python",
   "name": "python3"
  },
  "language_info": {
   "codemirror_mode": {
    "name": "ipython",
    "version": 3
   },
   "file_extension": ".py",
   "mimetype": "text/x-python",
   "name": "python",
   "nbconvert_exporter": "python",
   "pygments_lexer": "ipython3",
   "version": "3.6.5"
  }
 },
 "nbformat": 4,
 "nbformat_minor": 4
}
