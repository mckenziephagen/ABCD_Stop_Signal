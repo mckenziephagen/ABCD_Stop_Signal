{
 "cells": [
  {
   "cell_type": "code",
   "execution_count": 2,
   "metadata": {},
   "outputs": [],
   "source": [
    "from glob import glob \n",
    "import pandas as pd\n",
    "import csv\n",
    "import numpy as np\n",
    "import chardet "
   ]
  },
  {
   "cell_type": "code",
   "execution_count": 14,
   "metadata": {},
   "outputs": [],
   "source": [
    "subs = list(set([i.split('-')[1].split('/')[0] for i in glob('../SST_Data/sub-*/ses-baselineYear1Arm1/func/*SST*.txt')]))"
   ]
  },
  {
   "cell_type": "code",
   "execution_count": 9,
   "metadata": {},
   "outputs": [],
   "source": [
    "event_files = glob('../SST_Data/sub-*/ses-baselineYear1Arm1/func/*SST*.txt')"
   ]
  },
  {
   "cell_type": "code",
   "execution_count": 17,
   "metadata": {},
   "outputs": [
    {
     "name": "stdout",
     "output_type": "stream",
     "text": [
      "../SST_Data/sub-NDARINVFTJ00JVU/ses-baselineYear1Arm1/func/ABCD-SST-fMRI_run-20180611151225-EventRelatedInformation.txt\n",
      "../SST_Data/sub-NDARINVFRT7F0C9/ses-baselineYear1Arm1/func/ABCD-SST-fMRI_run-20180220151843-EventRelatedInformation.txt\n",
      "../SST_Data/sub-NDARINVB9J9H4PK/ses-baselineYear1Arm1/func/ABCD-SST-fMRI_run-20170605143202-EventRelatedInformation.txt\n",
      "../SST_Data/sub-NDARINVEGER8LYM/ses-baselineYear1Arm1/func/ABCD-SST-fMRI_run-20170707124638-EventRelatedInformation.txt\n",
      "../SST_Data/sub-NDARINVN98DVNK8/ses-baselineYear1Arm1/func/ABCD-SST-fMRI_run-20180607205302-EventRelatedInformation.txt\n",
      "../SST_Data/sub-NDARINVHF0XT8CF/ses-baselineYear1Arm1/func/ABCD-SST-fMRI_run-20180319121236-EventRelatedInformation.txt\n",
      "../SST_Data/sub-NDARINVNPNAGWRF/ses-baselineYear1Arm1/func/ABCD-SST-fMRI_run-20170705184539-EventRelatedInformation.txt\n",
      "../SST_Data/sub-NDARINVA1MV25KY/ses-baselineYear1Arm1/func/ABCD-SST-fMRI_run-20170510112108-EventRelatedInformation.txt\n",
      "../SST_Data/sub-NDARINVBLGYX1M4/ses-baselineYear1Arm1/func/ABCD-SST-fMRI_run-20170304115102-EventRelatedInformation.txt\n",
      "../SST_Data/sub-NDARINVP205AX39/ses-baselineYear1Arm1/func/ABCD-SST-fMRI_run-20161221131015-EventRelatedInformation.txt\n",
      "../SST_Data/sub-NDARINVDEPBAJ6L/ses-baselineYear1Arm1/func/ABCD-SST-fMRI_run-20170921152647-EventRelatedInformation.txt\n",
      "../SST_Data/sub-NDARINVN98L0THW/ses-baselineYear1Arm1/func/ABCD-SST-fMRI_run-20170808105451-EventRelatedInformation.txt\n",
      "../SST_Data/sub-NDARINVJH22CRH8/ses-baselineYear1Arm1/func/ABCD-SST-fMRI_run-20171007115652-EventRelatedInformation.txt\n",
      "../SST_Data/sub-NDARINVE6T95560/ses-baselineYear1Arm1/func/ABCD-SST-fMRI_run-20170810143643-EventRelatedInformation.txt\n",
      "../SST_Data/sub-NDARINVTMRGF3F4/ses-baselineYear1Arm1/func/ABCD-SST-fMRI_run-20180505145717-EventRelatedInformation.txt\n",
      "../SST_Data/sub-NDARINVX56RV3XT/ses-baselineYear1Arm1/func/ABCD-SST-fMRI_run-20170725153201-EventRelatedInformation.txt\n",
      "../SST_Data/sub-NDARINVTY79VFHF/ses-baselineYear1Arm1/func/ABCD-SST-fMRI_run-20171007163102-EventRelatedInformation.txt\n",
      "../SST_Data/sub-NDARINVF5JAU1UT/ses-baselineYear1Arm1/func/ABCD-SST-fMRI_run-20170227133531-EventRelatedInformation.txt\n",
      "../SST_Data/sub-NDARINVXHEEJUKX/ses-baselineYear1Arm1/func/ABCD-SST-fMRI_run-20170531143514-EventRelatedInformation.txt\n",
      "../SST_Data/sub-NDARINVLCEYDD0V/ses-baselineYear1Arm1/func/ABCD-SST-fMRI_run-20180505125137-EventRelatedInformation.txt\n",
      "../SST_Data/sub-NDARINVN2TF0U03/ses-baselineYear1Arm1/func/ABCD-SST-fMRI_run-20170405165208-EventRelatedInformation.txt\n",
      "../SST_Data/sub-NDARINVGD3DDK38/ses-baselineYear1Arm1/func/ABCD-SST-fMRI_run-20180713143753-EventRelatedInformation.txt\n",
      "../SST_Data/sub-NDARINVJT03Z8N3/ses-baselineYear1Arm1/func/ABCD-SST-fMRI_run-20170924150213-EventRelatedInformation.txt\n",
      "../SST_Data/sub-NDARINVRAR30NKY/ses-baselineYear1Arm1/func/ABCD-SST-fMRI_run-20161222171927-EventRelatedInformation.txt\n",
      "../SST_Data/sub-NDARINVH5RD2CM2/ses-baselineYear1Arm1/func/ABCD-SST-fMRI_run-20170720193159-EventRelatedInformation.txt\n",
      "../SST_Data/sub-NDARINVFKFN7X0T/ses-baselineYear1Arm1/func/ABCD-SST-fMRI_run-20170302153628-EventRelatedInformation.txt\n",
      "../SST_Data/sub-NDARINVA9GJMD11/ses-baselineYear1Arm1/func/ABCD-SST-fMRI_run-20181005163830-EventRelatedInformation.txt\n",
      "../SST_Data/sub-NDARINVLZVJ5RNK/ses-baselineYear1Arm1/func/ABCD-SST-fMRI_run-20180724185708-EventRelatedInformation.txt\n",
      "../SST_Data/sub-NDARINVUJTA9MD9/ses-baselineYear1Arm1/func/ABCD-SST-fMRI_run-20170418110150-EventRelatedInformation.txt\n",
      "../SST_Data/sub-NDARINVXN6HMGK8/ses-baselineYear1Arm1/func/ABCD-SST-fMRI_run-20170913150811-EventRelatedInformation.txt\n",
      "../SST_Data/sub-NDARINVAPJKJ5KB/ses-baselineYear1Arm1/func/ABCD-SST-fMRI_run-20180501163227-EventRelatedInformation.txt\n",
      "../SST_Data/sub-NDARINVVM0AGJA5/ses-baselineYear1Arm1/func/ABCD-SST-fMRI_run-20170727133610-EventRelatedInformation.txt\n",
      "../SST_Data/sub-NDARINVP8CFEA4E/ses-baselineYear1Arm1/func/ABCD-SST-fMRI_run-20170805112334-EventRelatedInformation.txt\n",
      "../SST_Data/sub-NDARINVJ4RVF00H/ses-baselineYear1Arm1/func/ABCD-SST-fMRI_run-20170730162319-EventRelatedInformation.txt\n",
      "../SST_Data/sub-NDARINVNM82BUZL/ses-baselineYear1Arm1/func/ABCD-SST-fMRI_run-20180330115512-EventRelatedInformation.txt\n",
      "../SST_Data/sub-NDARINVTZUEJ54R/ses-baselineYear1Arm1/func/ABCD-SST-fMRI_run-20180303110644-EventRelatedInformation.txt\n",
      "../SST_Data/sub-NDARINVLMAAJ8JJ/ses-baselineYear1Arm1/func/ABCD-SST-fMRI_run-20160923141025-EventRelatedInformation.txt\n",
      "../SST_Data/sub-NDARINVGVDCETLW/ses-baselineYear1Arm1/func/ABCD-SST-fMRI_run-20180703150653-EventRelatedInformation.txt\n",
      "../SST_Data/sub-NDARINVXB938J8E/ses-baselineYear1Arm1/func/ABCD-SST-fMRI_run-20180706113713-EventRelatedInformation.txt\n",
      "../SST_Data/sub-NDARINVRJ67E8PE/ses-baselineYear1Arm1/func/ABCD-SST-fMRI_run-20170718121331-EventRelatedInformation.txt\n",
      "../SST_Data/sub-NDARINVGECVZYV4/ses-baselineYear1Arm1/func/ABCD-SST-fMRI_run-20170511121623-EventRelatedInformation.txt\n",
      "../SST_Data/sub-NDARINVJPH56X7G/ses-baselineYear1Arm1/func/ABCD-SST-fMRI_run-20170107124906-EventRelatedInformation.txt\n",
      "../SST_Data/sub-NDARINVWGXZKM4X/ses-baselineYear1Arm1/func/ABCD-SST-fMRI_run-20170804150446-EventRelatedInformation.txt\n",
      "../SST_Data/sub-NDARINVBU9KJZX7/ses-baselineYear1Arm1/func/ABCD-SST-fMRI_run-20180607140632-EventRelatedInformation.txt\n",
      "../SST_Data/sub-NDARINVPATH0UC3/ses-baselineYear1Arm1/func/ABCD-SST-fMRI_run-20180424175756-EventRelatedInformation.txt\n",
      "../SST_Data/sub-NDARINVJD8XXLGE/ses-baselineYear1Arm1/func/ABCD-SST-fMRI_run-20181014101604-EventRelatedInformation.txt\n",
      "../SST_Data/sub-NDARINVCW8WDA3J/ses-baselineYear1Arm1/func/ABCD-SST-fMRI_run-20170401111703-EventRelatedInformation.txt\n",
      "../SST_Data/sub-NDARINV9RUX0DHA/ses-baselineYear1Arm1/func/ABCD-SST-fMRI_run-20170719160720-EventRelatedInformation.txt\n",
      "../SST_Data/sub-NDARINVXFD573YV/ses-baselineYear1Arm1/func/ABCD-SST-fMRI_run-20180621151205-EventRelatedInformation.txt\n",
      "../SST_Data/sub-NDARINVHEABF6E2/ses-baselineYear1Arm1/func/ABCD-SST-fMRI_run-20170506110513-EventRelatedInformation.txt\n",
      "../SST_Data/sub-NDARINVAKMT4BEA/ses-baselineYear1Arm1/func/ABCD-SST-fMRI_run-20180517162717-EventRelatedInformation.txt\n",
      "../SST_Data/sub-NDARINVG0RKD2YC/ses-baselineYear1Arm1/func/ABCD-SST-fMRI_run-20170706153438-EventRelatedInformation.txt\n",
      "../SST_Data/sub-NDARINVLXKCG48T/ses-baselineYear1Arm1/func/ABCD-SST-fMRI_run-20180612135213-EventRelatedInformation.txt\n",
      "../SST_Data/sub-NDARINVZ49U1FM4/ses-baselineYear1Arm1/func/ABCD-SST-fMRI_run-20170909163744-EventRelatedInformation.txt\n",
      "../SST_Data/sub-NDARINVWBGB46VZ/ses-baselineYear1Arm1/func/ABCD-SST-fMRI_run-20180328124643-EventRelatedInformation.txt\n",
      "../SST_Data/sub-NDARINVKPF4GFHV/ses-baselineYear1Arm1/func/ABCD-SST-fMRI_run-20170412113034-EventRelatedInformation.txt\n",
      "../SST_Data/sub-NDARINVE29JDT7Y/ses-baselineYear1Arm1/func/ABCD-SST-fMRI_run-20180914175250-EventRelatedInformation.txt\n",
      "../SST_Data/sub-NDARINVB8AV1T7K/ses-baselineYear1Arm1/func/ABCD-SST-fMRI_run-20170922155229-EventRelatedInformation.txt\n",
      "../SST_Data/sub-NDARINVBN8Z67UX/ses-baselineYear1Arm1/func/ABCD-SST-fMRI_run-20180613162731-EventRelatedInformation.txt\n",
      "../SST_Data/sub-NDARINVB5C9G957/ses-baselineYear1Arm1/func/ABCD-SST-fMRI_run-20170617153902-EventRelatedInformation.txt\n",
      "../SST_Data/sub-NDARINVMHDDJ00W/ses-baselineYear1Arm1/func/ABCD-SST-fMRI_run-20170627190822-EventRelatedInformation.txt\n",
      "../SST_Data/sub-NDARINVANEX1Y2H/ses-baselineYear1Arm1/func/ABCD-SST-fMRI_run-20180326144918-EventRelatedInformation.txt\n",
      "../SST_Data/sub-NDARINVU2BFUB9N/ses-baselineYear1Arm1/func/ABCD-SST-fMRI_run-20170303105825-EventRelatedInformation.txt\n",
      "../SST_Data/sub-NDARINVA52LKE4U/ses-baselineYear1Arm1/func/ABCD-SST-fMRI_run-20180423130724-EventRelatedInformation.txt\n",
      "../SST_Data/sub-NDARINVR17JHZRJ/ses-baselineYear1Arm1/func/ABCD-SST-fMRI_run-20161108125841-EventRelatedInformation.txt\n",
      "../SST_Data/sub-NDARINVXVRX9PPJ/ses-baselineYear1Arm1/func/ABCD-SST-fMRI_run-20170330142218-EventRelatedInformation.txt\n",
      "../SST_Data/sub-NDARINVRCW2KYAP/ses-baselineYear1Arm1/func/ABCD-SST-fMRI_run-20171008114347-EventRelatedInformation.txt\n",
      "../SST_Data/sub-NDARINVPGN6TE1J/ses-baselineYear1Arm1/func/ABCD-SST-fMRI_run-20180219144807-EventRelatedInformation.txt\n",
      "../SST_Data/sub-NDARINVRL58XM0X/ses-baselineYear1Arm1/func/ABCD-SST-fMRI_run-20171210142533-EventRelatedInformation.txt\n",
      "../SST_Data/sub-NDARINVZ4LY1E6P/ses-baselineYear1Arm1/func/ABCD-SST-fMRI_run-20170815125409-EventRelatedInformation.txt\n",
      "../SST_Data/sub-NDARINVX3PYJZPC/ses-baselineYear1Arm1/func/ABCD-SST-fMRI_run-20170505170652-EventRelatedInformation.txt\n",
      "../SST_Data/sub-NDARINVNUNMDE7M/ses-baselineYear1Arm1/func/ABCD-SST-fMRI_run-20181012162444-EventRelatedInformation.txt\n",
      "../SST_Data/sub-NDARINVPATP4RPG/ses-baselineYear1Arm1/func/ABCD-SST-fMRI_run-20170521133425-EventRelatedInformation.txt\n",
      "../SST_Data/sub-NDARINVRD5CYYL7/ses-baselineYear1Arm1/func/ABCD-SST-fMRI_run-20170511133600-EventRelatedInformation.txt\n",
      "../SST_Data/sub-NDARINVTDJD7JZ2/ses-baselineYear1Arm1/func/ABCD-SST-fMRI_run-20170130171847-EventRelatedInformation.txt\n",
      "../SST_Data/sub-NDARINVHPU5TKNF/ses-baselineYear1Arm1/func/ABCD-SST-fMRI_run-20170415152005-EventRelatedInformation.txt\n",
      "../SST_Data/sub-NDARINVAKPAUM7W/ses-baselineYear1Arm1/func/ABCD-SST-fMRI_run-20170530174643-EventRelatedInformation.txt\n",
      "../SST_Data/sub-NDARINVUH0F2U1W/ses-baselineYear1Arm1/func/ABCD-SST-fMRI_run-20170922172519-EventRelatedInformation.txt\n",
      "../SST_Data/sub-NDARINVUYAENUJR/ses-baselineYear1Arm1/func/ABCD-SST-fMRI_run-20170424182547-EventRelatedInformation.txt\n",
      "../SST_Data/sub-NDARINVP79AXMBD/ses-baselineYear1Arm1/func/ABCD-SST-fMRI_run-20180223170550-EventRelatedInformation.txt\n",
      "../SST_Data/sub-NDARINVAF517NF3/ses-baselineYear1Arm1/func/ABCD-SST-fMRI_run-20171006152240-EventRelatedInformation.txt\n",
      "../SST_Data/sub-NDARINVBMMEGVWT/ses-baselineYear1Arm1/func/ABCD-SST-fMRI_run-20180714122502-EventRelatedInformation.txt\n",
      "../SST_Data/sub-NDARINVJCAMAY91/ses-baselineYear1Arm1/func/ABCD-SST-fMRI_run-20170321175851-EventRelatedInformation.txt\n",
      "../SST_Data/sub-NDARINVG7TMENCV/ses-baselineYear1Arm1/func/ABCD-SST-fMRI_run-20170430182456-EventRelatedInformation.txt\n",
      "../SST_Data/sub-NDARINVLEND5NH4/ses-baselineYear1Arm1/func/ABCD-SST-fMRI_run-20171025193121-EventRelatedInformation.txt\n",
      "../SST_Data/sub-NDARINVD5YA5MWR/ses-baselineYear1Arm1/func/ABCD-SST-fMRI_run-20180329150630-EventRelatedInformation.txt\n",
      "../SST_Data/sub-NDARINVV9Z7KCBE/ses-baselineYear1Arm1/func/ABCD-SST-fMRI_run-20180422144458-EventRelatedInformation.txt\n",
      "../SST_Data/sub-NDARINVX3GV1FW0/ses-baselineYear1Arm1/func/ABCD-SST-fMRI_run-20170623094416-EventRelatedInformation.txt\n",
      "../SST_Data/sub-NDARINVHXHUVGJG/ses-baselineYear1Arm1/func/ABCD-SST-fMRI_run-20170412160309-EventRelatedInformation.txt\n",
      "../SST_Data/sub-NDARINVRKD7U24Y/ses-baselineYear1Arm1/func/ABCD-SST-fMRI_run-20170605143929-EventRelatedInformation.txt\n",
      "../SST_Data/sub-NDARINV9R23N8LH/ses-baselineYear1Arm1/func/ABCD-SST-fMRI_run-20180618162604-EventRelatedInformation.txt\n",
      "../SST_Data/sub-NDARINVZLEFF9ZA/ses-baselineYear1Arm1/func/ABCD-SST-fMRI_run-20180626193951-EventRelatedInformation.txt\n",
      "../SST_Data/sub-NDARINVDAF6VRMG/ses-baselineYear1Arm1/func/ABCD-SST-fMRI_run-20170815184138-EventRelatedInformation.txt\n",
      "../SST_Data/sub-NDARINVYVJATKX1/ses-baselineYear1Arm1/func/ABCD-SST-fMRI_run-20170309144458-EventRelatedInformation.txt\n",
      "../SST_Data/sub-NDARINV9PLKGRTV/ses-baselineYear1Arm1/func/ABCD-SST-fMRI_run-20170806115944-EventRelatedInformation.txt\n",
      "../SST_Data/sub-NDARINVGVPPRTDN/ses-baselineYear1Arm1/func/ABCD-SST-fMRI_run-20170925105402-EventRelatedInformation.txt\n",
      "../SST_Data/sub-NDARINVF9U3MCN7/ses-baselineYear1Arm1/func/ABCD-SST-fMRI_run-20180607162918-EventRelatedInformation.txt\n",
      "../SST_Data/sub-NDARINVXAP1L366/ses-baselineYear1Arm1/func/ABCD-SST-fMRI_run-20180531123330-EventRelatedInformation.txt\n",
      "../SST_Data/sub-NDARINVFPG0VGT4/ses-baselineYear1Arm1/func/ABCD-SST-fMRI_run-20180221162543-EventRelatedInformation.txt\n",
      "../SST_Data/sub-NDARINVKTLE69Y8/ses-baselineYear1Arm1/func/ABCD-SST-fMRI_run-20180303124546-EventRelatedInformation.txt\n"
     ]
    }
   ],
   "source": [
    "event_files = []\n",
    "for i in subs: \n",
    "    #print(f'../SST_Data/sub-{i}/ses-baselineYear1Arm1/func/*SST*.txt')\n",
    "    sub_file = glob(f'../SST_Data/sub-{i}/ses-baselineYear1Arm1/func/*SST*.txt')[0]\n",
    "    print(sub_file)\n",
    "    event_files.append(sub_file)\n",
    "    \n",
    "    "
   ]
  },
  {
   "cell_type": "code",
   "execution_count": 18,
   "metadata": {},
   "outputs": [
    {
     "data": {
      "text/plain": [
       "['../SST_Data/sub-NDARINVFTJ00JVU/ses-baselineYear1Arm1/func/ABCD-SST-fMRI_run-20180611151225-EventRelatedInformation.txt',\n",
       " '../SST_Data/sub-NDARINVFRT7F0C9/ses-baselineYear1Arm1/func/ABCD-SST-fMRI_run-20180220151843-EventRelatedInformation.txt',\n",
       " '../SST_Data/sub-NDARINVB9J9H4PK/ses-baselineYear1Arm1/func/ABCD-SST-fMRI_run-20170605143202-EventRelatedInformation.txt',\n",
       " '../SST_Data/sub-NDARINVEGER8LYM/ses-baselineYear1Arm1/func/ABCD-SST-fMRI_run-20170707124638-EventRelatedInformation.txt',\n",
       " '../SST_Data/sub-NDARINVN98DVNK8/ses-baselineYear1Arm1/func/ABCD-SST-fMRI_run-20180607205302-EventRelatedInformation.txt',\n",
       " '../SST_Data/sub-NDARINVHF0XT8CF/ses-baselineYear1Arm1/func/ABCD-SST-fMRI_run-20180319121236-EventRelatedInformation.txt',\n",
       " '../SST_Data/sub-NDARINVNPNAGWRF/ses-baselineYear1Arm1/func/ABCD-SST-fMRI_run-20170705184539-EventRelatedInformation.txt',\n",
       " '../SST_Data/sub-NDARINVA1MV25KY/ses-baselineYear1Arm1/func/ABCD-SST-fMRI_run-20170510112108-EventRelatedInformation.txt',\n",
       " '../SST_Data/sub-NDARINVBLGYX1M4/ses-baselineYear1Arm1/func/ABCD-SST-fMRI_run-20170304115102-EventRelatedInformation.txt',\n",
       " '../SST_Data/sub-NDARINVP205AX39/ses-baselineYear1Arm1/func/ABCD-SST-fMRI_run-20161221131015-EventRelatedInformation.txt']"
      ]
     },
     "execution_count": 18,
     "metadata": {},
     "output_type": "execute_result"
    }
   ],
   "source": [
    "event_files[:10]"
   ]
  },
  {
   "cell_type": "code",
   "execution_count": 19,
   "metadata": {},
   "outputs": [],
   "source": [
    "pd.set_option('display.max_columns', 500)\n",
    "pd.set_option('display.max_rows', 500)\n",
    "pd.option_context('display.max_rows', 999)\n",
    "pd.options.display.max_rows = 999"
   ]
  },
  {
   "cell_type": "code",
   "execution_count": 20,
   "metadata": {},
   "outputs": [],
   "source": [
    "def get_encoding(file): \n",
    "    \"\"\"\n",
    "    retrieves character encoding of file to be passed to \n",
    "    pd.read_csv()\n",
    "    \"\"\"\n",
    "    with open(file, mode = \"rb\") as f: \n",
    "        rawdata = f.read()\n",
    "        return chardet.detect(rawdata)['encoding']\n",
    "    \n",
    "def Diff(li1, li2):\n",
    "    \"\"\"\n",
    "    returns differenes in two lists, from g4g \n",
    "    \"\"\"\n",
    "    return (list(set(li1) - set(li2))) "
   ]
  },
  {
   "cell_type": "code",
   "execution_count": null,
   "metadata": {},
   "outputs": [],
   "source": []
  },
  {
   "cell_type": "code",
   "execution_count": 21,
   "metadata": {},
   "outputs": [
    {
     "name": "stdout",
     "output_type": "stream",
     "text": [
      "6 (396, 126) sub-NDARINVNPNAGWRF ascii\n",
      "9 (396, 126) sub-NDARINVP205AX39 ascii\n",
      "11 (396, 126) sub-NDARINVN98L0THW ascii\n",
      "12 (396, 126) sub-NDARINVJH22CRH8 ascii\n",
      "13 (396, 126) sub-NDARINVE6T95560 ascii\n",
      "16 (396, 126) sub-NDARINVTY79VFHF ascii\n",
      "30 (366, 128) sub-NDARINVAPJKJ5KB ascii\n",
      "31 (396, 126) sub-NDARINVVM0AGJA5 ascii\n",
      "36 (366, 128) sub-NDARINVLMAAJ8JJ UTF-16\n",
      "50 (183, 126) sub-NDARINVAKMT4BEA ascii\n",
      "53 (396, 126) sub-NDARINVZ49U1FM4 ascii\n",
      "64 (366, 128) sub-NDARINVR17JHZRJ UTF-16\n",
      "65 (396, 126) sub-NDARINVXVRX9PPJ ascii\n",
      "68 (396, 126) sub-NDARINVRL58XM0X ascii\n",
      "69 (396, 126) sub-NDARINVZ4LY1E6P ascii\n",
      "70 (366, 135) sub-NDARINVX3PYJZPC ascii\n",
      "72 (396, 126) sub-NDARINVPATP4RPG ascii\n",
      "77 (366, 135) sub-NDARINVUH0F2U1W ascii\n",
      "78 (396, 126) sub-NDARINVUYAENUJR ascii\n",
      "79 (366, 135) sub-NDARINVP79AXMBD ascii\n",
      "98 (396, 126) sub-NDARINVFPG0VGT4 ascii\n"
     ]
    }
   ],
   "source": [
    "i=0\n",
    "dfp = []\n",
    "for file in event_files: \n",
    "    encoding = get_encoding(file)\n",
    "    #print(encoding)\n",
    "    df = pd.read_csv(file, sep = '\\t', encoding = encoding)\n",
    "    if df.columns[0] != 'ExperimentName': #to fix header differences\n",
    "        df = pd.read_csv(file, sep = '\\t', skiprows=[0], encoding = encoding)\n",
    "    #to visualize shape differences \n",
    "    if len(df.columns) != 136 or len(df) != 366:\n",
    "        print(i, df.shape, file.split(\"/\")[-4], encoding)\n",
    "    dfp.append(df)\n",
    "    i+=1\n",
    "    #print(i, df.shape)"
   ]
  },
  {
   "cell_type": "code",
   "execution_count": 23,
   "metadata": {},
   "outputs": [
    {
     "data": {
      "text/plain": [
       "100"
      ]
     },
     "execution_count": 23,
     "metadata": {},
     "output_type": "execute_result"
    }
   ],
   "source": [
    "len(event_files)"
   ]
  },
  {
   "cell_type": "code",
   "execution_count": 24,
   "metadata": {},
   "outputs": [],
   "source": [
    "event_df = pd.concat(dfp, sort=True, axis = 0)\n",
    "\n",
    "for col in event_df.columns:\n",
    "    if 'Unnamed' in col or 'task' in col or 'Test' in col or 'Wait' in col:\n",
    "        del event_df[col] \n",
    "        \n",
    "event_df.to_csv('SST_concat_culled.csv')"
   ]
  },
  {
   "cell_type": "code",
   "execution_count": null,
   "metadata": {},
   "outputs": [],
   "source": [
    "#what do the last 100 columns look like? \n",
    "for i in event_df.columns[-100:-1]: \n",
    "    print( f'unique values in {i}: {event_df[i].unique()}')\n",
    "    print( event_df[i][~np.isnan(event_df[i])].unique())"
   ]
  },
  {
   "cell_type": "code",
   "execution_count": null,
   "metadata": {},
   "outputs": [],
   "source": [
    "#which columns differ \n",
    "for i in range(len(dfp)): \n",
    "    k = i+1\n",
    "    print(i, Diff(dfp[i].columns, dfp[k].columns))"
   ]
  },
  {
   "cell_type": "code",
   "execution_count": null,
   "metadata": {},
   "outputs": [],
   "source": []
  }
 ],
 "metadata": {
  "kernelspec": {
   "display_name": "Python 3",
   "language": "python",
   "name": "python3"
  },
  "language_info": {
   "codemirror_mode": {
    "name": "ipython",
    "version": 3
   },
   "file_extension": ".py",
   "mimetype": "text/x-python",
   "name": "python",
   "nbconvert_exporter": "python",
   "pygments_lexer": "ipython3",
   "version": "3.6.5"
  }
 },
 "nbformat": 4,
 "nbformat_minor": 4
}
