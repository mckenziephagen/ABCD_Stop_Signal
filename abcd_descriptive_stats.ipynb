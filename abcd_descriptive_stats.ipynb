{
 "cells": [
  {
   "cell_type": "markdown",
   "metadata": {},
   "source": [
    "to start - place this in ABCD_Dir with all of your measures"
   ]
  },
  {
   "cell_type": "code",
   "execution_count": null,
   "metadata": {},
   "outputs": [],
   "source": [
    "import pandas as pd\n",
    "import requests\n",
    "import urllib.request\n",
    "import time\n",
    "from bs4 import BeautifulSoup\n",
    "from glob import glob \n",
    "import os\n",
    "from os import path\n",
    "import collections\n",
    "import numpy as np\n",
    "import matplotlib.pyplot as plt\n",
    "import re\n",
    "import fnmatch \n",
    "import math"
   ]
  },
  {
   "cell_type": "markdown",
   "metadata": {},
   "source": [
    "edit this to point to where you have this script, and all of the ABCD Data"
   ]
  },
  {
   "cell_type": "code",
   "execution_count": null,
   "metadata": {},
   "outputs": [],
   "source": [
    "data_dir = \"/Users/work/Data/ABCD_dir/data_files\""
   ]
  },
  {
   "cell_type": "code",
   "execution_count": null,
   "metadata": {},
   "outputs": [],
   "source": [
    "def list_slice(S, step):\n",
    "    return [S[i::step] for i in range(step)]"
   ]
  },
  {
   "cell_type": "markdown",
   "metadata": {},
   "source": [
    "### scrape mapping of file names to assessment name from ABCD NDAR website\n",
    "MH will eventually save this and bundle it in with the script"
   ]
  },
  {
   "cell_type": "code",
   "execution_count": null,
   "metadata": {},
   "outputs": [],
   "source": [
    "response = requests.get('https://nda.nih.gov/data_dictionary.html?source=ABCD%2BRelease%2B2.0&submission=ALL')\n",
    "soup = BeautifulSoup(response.text, \"html.parser\")"
   ]
  },
  {
   "cell_type": "code",
   "execution_count": null,
   "metadata": {},
   "outputs": [],
   "source": [
    "table = soup.find_all('table')[6].find_all('tr')\n",
    "name_list = []"
   ]
  },
  {
   "cell_type": "markdown",
   "metadata": {},
   "source": [
    "files that we don't need right now - MH will add notes on why we don't care about these measures atm"
   ]
  },
  {
   "cell_type": "code",
   "execution_count": null,
   "metadata": {},
   "outputs": [],
   "source": [
    "ignore_files = ['abcd_cbcl01', 'image03', 'genomics_sample03', 'freesqc01', 'pasr01']\n",
    "keep_files = ['abcd_mid02', 'mribrec02', 'abcd_sst02', 'abcd_mrinback02']"
   ]
  },
  {
   "cell_type": "code",
   "execution_count": null,
   "metadata": {},
   "outputs": [],
   "source": [
    "scrape = []\n",
    "name_list = []\n",
    "temp_dict = collections.defaultdict(dict)\n",
    "\n",
    "for i in range(len(table)):\n",
    "    for k in table[i].find_all('td'): \n",
    "        scrape.append(k.string) \n",
    "    for k in table[i].find_all('a'):\n",
    "        name_list.append(k.string)\n",
    "\n",
    "abcd_list = list_slice(scrape, 7)\n",
    "short_list = abcd_list[2]\n",
    "long_list = abcd_list[1]\n",
    "for i in range(len(abcd_list[0])):\n",
    "    temp_dict[short_list[i]]['category'] = abcd_list[4][i]"
   ]
  },
  {
   "cell_type": "code",
   "execution_count": null,
   "metadata": {},
   "outputs": [],
   "source": [
    "abcd_dict = collections.defaultdict(dict)\n",
    "i=0\n",
    "for k in short_list:\n",
    "    abcd_dict[k]['name'] = long_list[i]\n",
    "    if ('MRI' in long_list[i] and k not in keep_files) or (k in ignore_files) or not path.isfile(k + '.txt'): #drop all the MRI files for now\n",
    "       # print(long_list[i], k)\n",
    "        abcd_dict.pop(k)\n",
    "    i+=1"
   ]
  },
  {
   "cell_type": "markdown",
   "metadata": {},
   "source": [
    "### setup all the files we want"
   ]
  },
  {
   "cell_type": "code",
   "execution_count": null,
   "metadata": {},
   "outputs": [],
   "source": [
    "text_files = [file + \".txt\" for file in list(abcd_dict.keys())]"
   ]
  },
  {
   "cell_type": "code",
   "execution_count": null,
   "metadata": {},
   "outputs": [],
   "source": [
    "list_of_dfs = [pd.read_csv(file, sep=\"\\t\", dtype=object, header=[0]) for file in text_files]"
   ]
  },
  {
   "cell_type": "code",
   "execution_count": null,
   "metadata": {},
   "outputs": [],
   "source": [
    "df_dict = collections.defaultdict(dict)\n",
    "\n",
    "for i in range(len(list_of_dfs)): \n",
    "    list_of_dfs[i]=list_of_dfs[i].set_index(list_of_dfs[i]['subjectkey']).drop(['collection_id', 'dataset_id',\n",
    "                                                                                'collection_title', 'study_cohort_name',\n",
    "                                                                                 'src_subject_id', 'subjectkey'], axis=1)\n",
    "    key=list_of_dfs[i].columns[0][0:-3]\n",
    "   # print(key, list_of_dfs[i].columns)\n",
    "    score_dict = {}\n",
    "    k=0\n",
    "   # print(list_of_dfs[i].columns)\n",
    "    for col in list(list_of_dfs[i].columns):\n",
    "    #    print(i)\n",
    "        #print(col, list_of_dfs[i].loc[0].tolist()[i])\n",
    "        score_dict.update({col: list_of_dfs[i].iloc[0].tolist()[k]})\n",
    "        k+=1\n",
    "   # print(key)\n",
    "    list_of_dfs[i]=list_of_dfs[i].drop(list_of_dfs[i].index[0], axis=0)\n",
    "    df_dict[key]['df'] = list_of_dfs[i]\n",
    "    df_dict[key]['map'] = score_dict"
   ]
  },
  {
   "cell_type": "markdown",
   "metadata": {},
   "source": [
    "make them all into one dictionary! "
   ]
  },
  {
   "cell_type": "code",
   "execution_count": null,
   "metadata": {},
   "outputs": [],
   "source": [
    "for k in abcd_dict:\n",
    "    abcd_dict[k].update(df_dict.get(k, {}))\n",
    "    abcd_dict[k].update(temp_dict.get(k, {})) "
   ]
  },
  {
   "cell_type": "markdown",
   "metadata": {},
   "source": [
    "now for descriptive stats "
   ]
  },
  {
   "cell_type": "code",
   "execution_count": null,
   "metadata": {},
   "outputs": [],
   "source": [
    "def abcd_summary(measure, scores): \n",
    "    if len(scores) == 1:\n",
    "        score = scores[0]\n",
    "        data = abcd_dict[measure]['df'][score].astype(float)\n",
    "        print(abcd_dict[measure]['map'][score], 'MEAN:', np.mean(data), 'STD:', np.std(data), 'MAX:', np.max(data), 'MIN:', np.min(data))\n",
    "    else:\n",
    "        for score in scores: \n",
    "            data = abcd_dict[measure]['df'][score].astype(float)\n",
    "            print(abcd_dict[measure]['map'][score],'MEAN:', np.mean(data), 'STD:', np.std(data),'MAX:', np.max(data), 'MIN:', np.min(data))\n",
    "            \n",
    "def abcd_counts(measure, scores): \n",
    "    if len(scores) == 1:\n",
    "        score = scores[0]\n",
    "        print((abcd_dict[measure]['df'][score].value_counts()))\n",
    "    else: \n",
    "        for score in scores: \n",
    "            print((abcd_dict[measure]['map'][score], abcd_dict[measure]['df'][score].value_counts()))"
   ]
  },
  {
   "cell_type": "markdown",
   "metadata": {},
   "source": [
    "## neurocognition "
   ]
  },
  {
   "cell_type": "markdown",
   "metadata": {},
   "source": [
    "### handedness"
   ]
  },
  {
   "cell_type": "code",
   "execution_count": null,
   "metadata": {},
   "outputs": [],
   "source": [
    "\"\"\"\n",
    "1=right handed; 2=left handed; 3=mixed\n",
    "\"\"\"\n",
    "abcd_counts('abcd_ehis01', ['ehi_y_ss_scoreb'])"
   ]
  },
  {
   "cell_type": "markdown",
   "metadata": {},
   "source": [
    "### scores from the neurocognition toolbox \n",
    "http://www.healthmeasures.net/explore-measurement-systems/nih-toolbox/intro-to-nih-toolbox/cognition/183-nih-toolbox-cognition\n",
    "\n",
    "<b> Uncorrected Scores:</b>\n",
    " Uncorrected scores compare the score of the test taker to those in the nationally\n",
    "representative NIH Toolbox normative sample (ages 3 to 85 years) regardless of age or any\n",
    "other variable. These are presented as Standard Scores (mean=100, SD=15).\n",
    "<b> Age Corrected Scores:</b> Age-corrected scores compare the score of the test-taker to others of\n",
    "the same age. Age-corrected scores were derived separately for children (ages 3-17) and adults\n",
    "(ages 18-85). For children, normative scores are provided separately for each year of age to\n",
    "take into account expected developmental changes. These are presented as Standard Scores\n",
    "(mean=100, SD=15).\n",
    "<b> Fully Corrected T-Score: </b> Fully Corrected T-Scores (mean = 50, SD = 10) compare the score of\n",
    "the test-taker to those in the NIH Toolbox nationally representative normative sample, while\n",
    "adjusting for key demographic variables. These variables include age, gender, race/ethnicity\n",
    "(white/Asian, black, Hispanic, multiracial), and educational attainment (for ages 3-17, parent’s\n",
    "education is used; education is often used as a proxy for socioeconomic status). Thus a “fully\n",
    "corrected” score allows for comparison within a narrower grouping."
   ]
  },
  {
   "cell_type": "code",
   "execution_count": null,
   "metadata": {},
   "outputs": [],
   "source": [
    "tbx_scores = [] \n",
    "for col in list(abcd_dict['abcd_tbss01']['df'].columns): \n",
    "    if fnmatch.fnmatch(col, '*nihtbx*') and not fnmatch.fnmatch(col, '*date*') and not abcd_dict['abcd_tbss01']['df'][col].isnull().all():\n",
    "        tbx_scores.append(col)\n",
    "        try:\n",
    "            abcd_dict['abcd_tbss01']['df'][col].astype(float)\n",
    "        except: \n",
    "            tbx_scores.remove(col)\n",
    "\n",
    "abcd_summary('abcd_tbss01', tbx_scores)"
   ]
  },
  {
   "cell_type": "markdown",
   "metadata": {},
   "source": [
    "### abcd cash choice task"
   ]
  },
  {
   "cell_type": "code",
   "execution_count": null,
   "metadata": {},
   "outputs": [],
   "source": [
    "\"\"\"\n",
    "1 =$75 in three days; 2 = $115 in 3 months; 3 = Don't Know\n",
    "\"\"\"\n",
    "abcd_dict['cct01']['df']['cash_choice_task'].replace({'1':'smaller_sooner', '2':'larger_later', '3':'do not know'}).value_counts() "
   ]
  },
  {
   "cell_type": "markdown",
   "metadata": {},
   "source": [
    "### little man task "
   ]
  },
  {
   "cell_type": "code",
   "execution_count": null,
   "metadata": {},
   "outputs": [],
   "source": [
    "\"\"\"\n",
    "efficiency: Percentage correct divided by average reaction for correct trials\n",
    "\"\"\"\n",
    "#np.mean(abcd_dict['lmtp201']['df']['lmt_scr_efficiency'].astype(float))\n",
    "abcd_summary('lmtp201', ['lmt_scr_efficiency'])"
   ]
  },
  {
   "cell_type": "markdown",
   "metadata": {},
   "source": [
    "### pearson scores - RAVLT and WASI"
   ]
  },
  {
   "cell_type": "code",
   "execution_count": null,
   "metadata": {},
   "outputs": [],
   "source": [
    "pearson_scores = []\n",
    "for col in list(abcd_dict['abcd_ps01']['df'].columns): \n",
    "    if fnmatch.fnmatch(col, '*ravlt*') or fnmatch.fnmatch(col, '*wiscv_t*'):\n",
    "        pearson_scores.append(col)\n",
    "\n",
    "abcd_summary('abcd_ps01', pearson_scores)"
   ]
  },
  {
   "cell_type": "markdown",
   "metadata": {},
   "source": [
    "### youth delay discounting"
   ]
  },
  {
   "cell_type": "code",
   "execution_count": null,
   "metadata": {},
   "outputs": [],
   "source": [
    "delay_discount = abcd_dict['abcd_yddss01']['df'].columns[14:30]\n",
    "abcd_summary('abcd_yddss01', delay_discount)"
   ]
  },
  {
   "cell_type": "markdown",
   "metadata": {},
   "source": [
    "### emotional stroop"
   ]
  },
  {
   "cell_type": "code",
   "execution_count": null,
   "metadata": {},
   "outputs": [],
   "source": [
    "emo_stroop = abcd_dict['abcd_yest01']['df'].columns[25:60]\n",
    "abcd_summary('abcd_yest01', emo_stroop)"
   ]
  },
  {
   "cell_type": "markdown",
   "metadata": {},
   "source": [
    "## substance abuse"
   ]
  },
  {
   "cell_type": "markdown",
   "metadata": {},
   "source": [
    "### ysu02 - baseline substance use interview"
   ]
  },
  {
   "cell_type": "markdown",
   "metadata": {},
   "source": [
    "### timeline followback - first use and patterns of substance useage"
   ]
  },
  {
   "cell_type": "code",
   "execution_count": null,
   "metadata": {},
   "outputs": [],
   "source": [
    "\"\"\"\n",
    "1 = yes\n",
    "0 = no\n",
    "\"\"\"\n",
    "tlfb_knowledge = abcd_dict['abcd_ysu02']['df'].columns[8:17]\n",
    "for i in tlfb_knowledge:\n",
    "    abcd_dict['abcd_ysu02']['df'][i] = abcd_dict['abcd_ysu02']['df'][i].replace({'1': 'yes', '0':'no'}).copy()\n",
    "    \n",
    "abcd_counts('abcd_ysu02', tlfb_knowledge)"
   ]
  },
  {
   "cell_type": "code",
   "execution_count": null,
   "metadata": {},
   "outputs": [],
   "source": [
    "\"\"\"\n",
    "0 or no response = no\n",
    "1 = yes\n",
    "\"\"\"\n",
    "tlfb_use = abcd_dict['abcd_ysu02']['df'].columns[30:83]\n",
    "for i in tlfb_use: \n",
    "    if np.nansum(abcd_dict['abcd_ysu02']['df'][i].astype(float)) <= 0:\n",
    "        print(i)\n",
    "        tlfb_use = tlfb_use.drop(i)\n",
    "    else: \n",
    "         abcd_dict['abcd_ysu02']['df'][i] = abcd_dict['abcd_ysu02']['df'][i].copy().replace({'1': 'yes', '0':'no'})\n",
    "        \n",
    "\n",
    "abcd_counts('abcd_ysu02', tlfb_use)"
   ]
  },
  {
   "cell_type": "markdown",
   "metadata": {},
   "source": [
    "### ISIP alcohol measure"
   ]
  },
  {
   "cell_type": "code",
   "execution_count": null,
   "metadata": {},
   "outputs": [],
   "source": [
    "isip_scores = abcd_dict['abcd_ysu02']['df'].columns[84:94]\n",
    "abcd_counts('abcd_ysu02', isip_scores)"
   ]
  },
  {
   "cell_type": "code",
   "execution_count": null,
   "metadata": {},
   "outputs": [],
   "source": [
    "tflb_ysu = abcd_dict['abcd_ysu02']['df'].columns[94:571]"
   ]
  },
  {
   "cell_type": "code",
   "execution_count": null,
   "metadata": {},
   "outputs": [],
   "source": [
    "j = 0\n",
    "for i in tflb_ysu: \n",
    "    try:\n",
    "        if np.nansum(abcd_dict['abcd_ysu02']['df'][i].astype(float))  <= 0: \n",
    "            print(i)\n",
    "            tflb_ysu = tflb_ysu.drop(i)\n",
    "    except: \n",
    "            tflb_ysu = tflb_ysu.drop(i) #discard anything that can't be coerced as a float\n",
    "abcd_counts('abcd_ysu02', tflb_ysu)"
   ]
  },
  {
   "cell_type": "markdown",
   "metadata": {},
   "source": [
    "### xskipout - I really don't knwo what this measure is, couldn't find with google"
   ]
  },
  {
   "cell_type": "code",
   "execution_count": null,
   "metadata": {},
   "outputs": [],
   "source": [
    "xskipout = abcd_dict['abcd_ysu02']['df'].columns[571:575]\n",
    "abcd_counts('abcd_ysu02', xskipout)"
   ]
  },
  {
   "cell_type": "markdown",
   "metadata": {},
   "source": [
    "### Caffeine intake"
   ]
  },
  {
   "cell_type": "code",
   "execution_count": null,
   "metadata": {},
   "outputs": [],
   "source": [
    "caff_intake = abcd_dict['abcd_ysu02']['df'].columns[576:582]\n",
    "abcd_summary('abcd_ysu02', caff_intake)\n",
    "abcd_counts('abcd_ysu02', caff_intake)"
   ]
  },
  {
   "cell_type": "markdown",
   "metadata": {},
   "source": [
    "### peer's thoughts on substances"
   ]
  },
  {
   "cell_type": "code",
   "execution_count": null,
   "metadata": {},
   "outputs": [],
   "source": [
    "\"\"\"\n",
    "0 = None; 1 = A Few; 2 = Some; 3 = Most; 4 = All\n",
    "\"\"\"\n",
    "peer_dev = abcd_dict['abcd_ysu02']['df'].columns[583:591]\n",
    "abcd_counts('abcd_ysu02', peer_dev)"
   ]
  },
  {
   "cell_type": "markdown",
   "metadata": {},
   "source": [
    "### alcohol useage"
   ]
  },
  {
   "cell_type": "code",
   "execution_count": null,
   "metadata": {},
   "outputs": [],
   "source": [
    "\"\"\"\n",
    "1 = Definitely yes; 2 = Probably yes; 3 = Probably not; 4 = Definitely not; 5 = Don't know; 6 = Refused to answer\n",
    "\"\"\"\n",
    "path_alc = abcd_dict['abcd_ysu02']['df'].columns[591:600]\n",
    "abcd_counts('abcd_ysu02', path_alc)"
   ]
  },
  {
   "cell_type": "code",
   "execution_count": null,
   "metadata": {},
   "outputs": [],
   "source": [
    "subj_resp = abcd_dict['abcd_ysu02']['df'].columns[600:612]\n",
    "abcd_counts('abcd_ysu02', subj_resp)"
   ]
  },
  {
   "cell_type": "code",
   "execution_count": null,
   "metadata": {},
   "outputs": [],
   "source": [
    "\"\"\"\n",
    "none of these have responses:\n",
    "xskipout_alc >= 2 && tlfb_age >=9 && tlfb_age <= 11 || xskipout_alc >= 3 && tlfb_age >=12\n",
    "\"\"\"\n",
    "hangover = abcd_dict['abcd_ysu02']['df'].columns[612:626]\n",
    "abcd_counts('abcd_ysu02', hangover)"
   ]
  },
  {
   "cell_type": "code",
   "execution_count": null,
   "metadata": {},
   "outputs": [],
   "source": [
    "\"\"\"\n",
    "no responses here either:\n",
    "xskipout_alc >= 2 && tlfb_age >=9 && tlfb_age <= 11 || xskipout_alc >= 3 && tlfb_age >=12\n",
    "\"\"\"\n",
    "\n",
    "rapi = abcd_dict['abcd_ysu02']['df'].columns[626:644]\n",
    "abcd_counts('abcd_ysu02', rapi)"
   ]
  },
  {
   "cell_type": "markdown",
   "metadata": {},
   "source": [
    "### nicotine useage"
   ]
  },
  {
   "cell_type": "code",
   "execution_count": null,
   "metadata": {},
   "outputs": [],
   "source": [
    "subj_resp_nic = abcd_dict['abcd_ysu02']['df'].columns[644:653]\n",
    "abcd_counts('abcd_ysu02', subj_resp_nic)"
   ]
  },
  {
   "cell_type": "code",
   "execution_count": null,
   "metadata": {},
   "outputs": [],
   "source": [
    "path_nic = abcd_dict['abcd_ysu02']['df'].columns[653:663]\n",
    "abcd_counts('abcd_ysu02', path_nic)"
   ]
  },
  {
   "cell_type": "markdown",
   "metadata": {},
   "source": [
    "### marijuana useage"
   ]
  },
  {
   "cell_type": "code",
   "execution_count": null,
   "metadata": {},
   "outputs": [],
   "source": [
    "\"\"\"\n",
    "1 = Not at all; 2 = A little bit; 3 = Some; 4 = Quite a bit; 5 = A great deal\n",
    "\"\"\"\n",
    "sub_res_mj = abcd_dict['abcd_ysu02']['df'].columns[663:674]\n",
    "abcd_counts('abcd_ysu02', sub_res_mj)"
   ]
  },
  {
   "cell_type": "markdown",
   "metadata": {},
   "source": [
    "### misc. druge useage"
   ]
  },
  {
   "cell_type": "code",
   "execution_count": null,
   "metadata": {},
   "outputs": [],
   "source": [
    "mapi = abcd_dict['abcd_ysu02']['df'].columns[674:692]\n",
    "abcd_counts('abcd_ysu02', mapi)"
   ]
  },
  {
   "cell_type": "code",
   "execution_count": null,
   "metadata": {},
   "outputs": [],
   "source": [
    "dapi = abcd_dict['abcd_ysu02']['df'].columns[692:710]\n",
    "abcd_counts('abcd_ysu02', dapi)"
   ]
  },
  {
   "cell_type": "code",
   "execution_count": null,
   "metadata": {},
   "outputs": [],
   "source": [
    "standard_units = abcd_dict['abcd_ysu02']['df'].columns[710:734]\n",
    "abcd_counts('abcd_ysu02', standard_units)"
   ]
  },
  {
   "cell_type": "markdown",
   "metadata": {},
   "source": [
    "### timeline followback - 1 yr followup"
   ]
  },
  {
   "cell_type": "code",
   "execution_count": null,
   "metadata": {},
   "outputs": [],
   "source": [
    "tlfb_sum_scores = abcd_dict['abcd_tlfb01']['df'].columns[10:401]\n",
    "for i in tlfb_sum_scores: \n",
    "    try: \n",
    "        if np.nansum(abcd_dict['abcd_tlfb01']['df'][i].astype(float)) <= 0:\n",
    "            tlfb_sum_scores = tlfb_sum_scores.drop(i)\n",
    "    except:\n",
    "        tlfb_sum_scores = tlfb_sum_scores.drop(i)\n",
    "\n",
    "abcd_counts('abcd_tlfb01', tlfb_sum_scores)"
   ]
  },
  {
   "cell_type": "markdown",
   "metadata": {},
   "source": [
    "### youth participant last use - 1 yr followup"
   ]
  },
  {
   "cell_type": "code",
   "execution_count": null,
   "metadata": {},
   "outputs": [],
   "source": [
    "ylast_use = abcd_dict['abcd_ysuip01']['df'].columns[7:500]\n",
    "for i in ylast_use: \n",
    "    try: \n",
    "        if np.nansum(abcd_dict['abcd_ysuip01']['df'][i].astype(float)) <= 0:\n",
    "            ylast_use = ylast_use.drop(i)\n",
    "    except:\n",
    "        ylast_use = ylast_use.drop(i)\n",
    "abcd_counts('abcd_ysuip01', ylast_use)"
   ]
  },
  {
   "cell_type": "markdown",
   "metadata": {},
   "source": [
    "### youth subsatnce use attitudes - 1 yr followup\n",
    "includes path, perceived harm, peer tolerance, and expectations of substance use "
   ]
  },
  {
   "cell_type": "code",
   "execution_count": null,
   "metadata": {},
   "outputs": [],
   "source": [
    "attitudes = abcd_dict['abcd_ysua01']['df'].columns[5:55]\n",
    "abcd_counts('abcd_ysua01', attitudes)"
   ]
  },
  {
   "cell_type": "markdown",
   "metadata": {},
   "source": [
    "### youth alcohol measures - 1 yr followup"
   ]
  },
  {
   "cell_type": "code",
   "execution_count": null,
   "metadata": {},
   "outputs": [],
   "source": [
    "alcohol_meas = abcd_dict['abcd_yam01']['df'].columns[5:56]\n",
    "abcd_counts('abcd_yam01', alcohol_meas)"
   ]
  },
  {
   "cell_type": "markdown",
   "metadata": {},
   "source": [
    "### youth nicotine measures - 1 yr followup"
   ]
  },
  {
   "cell_type": "code",
   "execution_count": null,
   "metadata": {},
   "outputs": [],
   "source": [
    "nic_measures = abcd_dict['abcd_ynm01']['df'].columns[5:35]\n",
    "abcd_counts('abcd_ynm01', nic_measures)"
   ]
  },
  {
   "cell_type": "markdown",
   "metadata": {},
   "source": [
    "### youth mj measures - 1 yr followup"
   ]
  },
  {
   "cell_type": "code",
   "execution_count": null,
   "metadata": {},
   "outputs": [],
   "source": [
    "mj_measures = abcd_dict['abcd_ymidm01']['df'].columns[5:58]\n",
    "abcd_counts('abcd_ymidm01', mj_measures)"
   ]
  },
  {
   "cell_type": "markdown",
   "metadata": {},
   "source": [
    "### youth alcohol screen - 1 yr followup"
   ]
  },
  {
   "cell_type": "code",
   "execution_count": null,
   "metadata": {},
   "outputs": [],
   "source": [
    "\"\"\"\n",
    "3 = Not applicable (not part of 10%); 1 = Negative (.000); 2 = Positive (.001 or above); \n",
    "4 = Participant unable to complete (tried 3 times); 5 = Participant refused; 6 = Not collected (other)\n",
    "\"\"\"\n",
    "abcd_counts('yalcs01', ['bal_test1_result_y'])\n",
    "abcd_counts('yalcs01', ['bal2_test1_result_y'])"
   ]
  },
  {
   "cell_type": "markdown",
   "metadata": {},
   "source": [
    "### youth toxicology - 1 yr followup"
   ]
  },
  {
   "cell_type": "code",
   "execution_count": null,
   "metadata": {},
   "outputs": [],
   "source": [
    "\"\"\"\n",
    "3 = Not applicable (not part of 10%); 1 = Yes; 2 = No; 4 = Participant unable to complete; 5 = Participant refused; 6 = Not collected (other)\n",
    "\"\"\"\n",
    "abcd_counts('abcd_ytt01', abcd_dict['abcd_ytt01']['df'].columns[4:30])"
   ]
  },
  {
   "cell_type": "code",
   "execution_count": null,
   "metadata": {},
   "outputs": [],
   "source": [
    "\"\"\"\n",
    "0 = NEG; 1 = POS; 2 = QNS\n",
    "\"\"\"\n",
    "hair_res = abcd_dict['abcd_yhr01']['df'].columns[12:33]\n",
    "abcd_counts('abcd_yhr01', hair_res)"
   ]
  },
  {
   "cell_type": "code",
   "execution_count": null,
   "metadata": {},
   "outputs": [],
   "source": [
    "nic_alert = abcd_dict['abcd_yn01']['df'].columns[5:36]\n",
    "abcd_counts('abcd_yn01', nic_alert)"
   ]
  },
  {
   "cell_type": "markdown",
   "metadata": {},
   "source": [
    "###  parental substance use rules "
   ]
  },
  {
   "cell_type": "code",
   "execution_count": null,
   "metadata": {},
   "outputs": [],
   "source": [
    "prq = abcd_dict['prq01']['df'].columns[4:19]\n",
    "abcd_counts('prq01', prq)"
   ]
  },
  {
   "cell_type": "markdown",
   "metadata": {},
   "source": [
    "### mid year phone interview"
   ]
  },
  {
   "cell_type": "code",
   "execution_count": null,
   "metadata": {},
   "outputs": [],
   "source": [
    "mypi = abcd_dict['abcd_ymypisu01']['df'].columns[5:80]\n",
    "abcd_counts('abcd_ymypisu01', mypi)"
   ]
  },
  {
   "cell_type": "markdown",
   "metadata": {},
   "source": [
    "### parent interview: Beliefs about drug availability (alcohol, nicotine, marijuana, “other” drugs)"
   ]
  },
  {
   "cell_type": "code",
   "execution_count": null,
   "metadata": {},
   "outputs": [],
   "source": [
    "risk_factors = abcd_dict['abcd_crpf01']['df'].columns[6:15]\n",
    "abcd_counts('abcd_crpf01', risk_factors)"
   ]
  },
  {
   "cell_type": "markdown",
   "metadata": {},
   "source": [
    "### summary scores substance abuse (caffeine summary scores)"
   ]
  },
  {
   "cell_type": "code",
   "execution_count": 293,
   "metadata": {},
   "outputs": [
    {
     "name": "stdout",
     "output_type": "stream",
     "text": [
      "Sum of caff_intake_1, caff_intake_3, caff_intake_4, caff_intake_6 caff_intake_9 MEAN: 2.0717248546543465 STD: 6.526460000353603 MAX: 180.0 MIN: 0.0\n",
      "Sum of caff intake. Number of Missing Answers MEAN: 0.2906947368421053 STD: 1.1636067980629627 MAX: 5.0 MIN: 0.0\n",
      "Sum of caff intake:  Number of Total Questions MEAN: 5.0 STD: 0.0 MAX: 5.0 MIN: 5.0\n",
      "Sum of caff_intake_1, caff_intake_3, caff_intake_4, caff_intake_6 caff_intake_9 with \"0\" replacing blank when tlfb_caff = \"0\". MEAN: 1.9548286986174976 STD: 6.358039107128077 MAX: 180.0 MIN: 0.0\n",
      "Sum of caff_intake_1, caff_intake_3, caff_intake_4, caff_intake_6 caff_intake_9; Followup Annual Visits MEAN: 1.9873556172839506 STD: 7.857210084672682 MAX: 336.0 MIN: 0.0\n",
      "Sum of caff_intake: Number Missing Answers; Followup Annual Visits MEAN: 0.09190062613613412 STD: 0.6716080743978677 MAX: 5.0 MIN: 0.0\n",
      "Sum of caff_intakeNumber Total QuestionsFollowup Annual Visits MEAN: 5.0 STD: 0.0 MAX: 5.0 MIN: 5.0\n",
      "Sum of caff_intake_1, caff_intake_3, caff_intake_4, caff_intake_6 caff_intake_9; \"0\" replaces blank when tlfb_caff = 0; Followup Annual Visits MEAN: 1.9619232784887264 STD: 7.80996860352532 MAX: 336.0 MIN: 0.0\n"
     ]
    }
   ],
   "source": [
    "caff = abcd_dict['abcd_suss01']['df'].columns[5:17]\n",
    "abcd_summary('abcd_suss01', caff)"
   ]
  },
  {
   "cell_type": "markdown",
   "metadata": {},
   "source": [
    "## Mental Health"
   ]
  },
  {
   "cell_type": "markdown",
   "metadata": {},
   "source": [
    "### ABCD Youth risk behavior survey exercise physical activity "
   ]
  },
  {
   "cell_type": "code",
   "execution_count": 297,
   "metadata": {},
   "outputs": [
    {
     "name": "stdout",
     "output_type": "stream",
     "text": [
      "During the past 7 days, on how many days were you physically active for a total of at least 60 minutes per day? (Add up all the time you spent in any kind of physical activity that increased your heart rate and made you breathe hard some of the time) MEAN: 3.493498817966903 STD: 2.3167105717156637 MAX: 7.0 MIN: 0.0\n",
      "On how many of the past 7 days did you do exercises to strengthen or tone your muscles, such as push-ups, sit-ups, or weight lifting? MEAN: 2.9320888588563223 STD: 2.047897597914704 MAX: 8.0 MIN: 1.0\n",
      "In an average week when you are in school, on how many days do you go to physical education (PE) class? MEAN: 2.122297297297297 STD: 1.239377619850776 MAX: 5.0 MIN: 0.0\n"
     ]
    }
   ],
   "source": [
    "phys = abcd_dict['abcd_yrb01']['df'].columns[5:9]\n",
    "abcd_summary('abcd_yrb01', phys)"
   ]
  },
  {
   "cell_type": "markdown",
   "metadata": {},
   "source": [
    "### ABCD Youth Gender Identity - have no idea whats happening with the summary score in the mhp..."
   ]
  },
  {
   "cell_type": "code",
   "execution_count": 329,
   "metadata": {},
   "outputs": [
    {
     "name": "stdout",
     "output_type": "stream",
     "text": [
      "How much do you feel like a boy? MEAN: 4.88073038073038 STD: 0.4789201410559225 MAX: 5.0 MIN: 0.0\n",
      "How much do you feel like a girl? MEAN: 4.864024864024864 STD: 0.6685313962859294 MAX: 5.0 MIN: 0.0\n",
      "How much do you feel like a girl? MEAN: 4.682452431289641 STD: 0.7294823603912435 MAX: 5.0 MIN: 0.0\n",
      "How much do you feel like a boy? MEAN: 4.681606765327696 STD: 0.8004358998206357 MAX: 5.0 MIN: 0.0\n",
      "How much have you had the wish to be a girl? MEAN: 4.851981351981352 STD: 0.6455287897961213 MAX: 5.0 MIN: 0.0\n",
      "How much have you dressed or acted as a girl during play? MEAN: 4.7637917637917635 STD: 0.725917524170603 MAX: 5.0 MIN: 0.0\n",
      "How much have you had the wish to be a boy? MEAN: 4.7775898520084565 STD: 0.7060632191317929 MAX: 5.0 MIN: 0.0\n",
      "How much have you dressed or acted as a boy during play? MEAN: 4.519661733615222 STD: 0.9150689918159436 MAX: 5.0 MIN: 0.0\n"
     ]
    }
   ],
   "source": [
    "\"\"\"\n",
    "has some flopped scoring  \n",
    "first four: \n",
    "5 = Totally; 4 = Mostly; 3 = Somewhat; 2 = A little; 1 = Not at all; 0 = Decline to answer\n",
    "last four: \n",
    "1 = Always; 2 = Often; 3 = Sometimes; 4 = Rarely; 5 = Never; 0 = Decline to answer\n",
    "\"\"\"\n",
    "\n",
    "gi = abcd_dict['abcd_ygi01']['df'].columns[5:13]\n",
    "abcd_summary('abcd_ygi01', gi)\n",
    "\n",
    "# gish = abcd_dict['abcd_mhp02']['df'].columns[30:36]\n",
    "# abcd_summary('abcd_mhp02', gish)"
   ]
  },
  {
   "cell_type": "markdown",
   "metadata": {},
   "source": [
    "### ABCD Youth Life Events \n",
    "Life events including trauma"
   ]
  },
  {
   "cell_type": "code",
   "execution_count": 332,
   "metadata": {},
   "outputs": [
    {
     "name": "stdout",
     "output_type": "stream",
     "text": [
      "Parent General Behavior Inventory, Sum:  Number Total Questions MEAN: 10.0 STD: 0.0 MAX: 10.0 MIN: 10.0\n",
      "Total Number of Events: Validation: No Minimum MEAN: 3.1295546558704452 STD: 2.584016779482696 MAX: 19.0 MIN: 0.0\n",
      "Total Number of Events: Number Missing Answers MEAN: 0.05615027267218744 STD: 1.1773111088493693 MAX: 25.0 MIN: 0.0\n",
      "Total Number of Events: Number Total Questions MEAN: 25.0 STD: 0.0 MAX: 25.0 MIN: 25.0\n",
      "Total Number of Good Events: Validation: No Minimum MEAN: 1.1664310240355484 STD: 1.3580301085919149 MAX: 13.0 MIN: 0.0\n",
      "Total Number of Good Events: Number Total Questions MEAN: 25.0 STD: 0.0 MAX: 25.0 MIN: 25.0\n",
      "Total Number of Bad Events: Validation: No Minimum MEAN: 0.9739446576449202 STD: 1.524699947358916 MAX: 12.0 MIN: 0.0\n",
      "Total Number of Bad Events: Number Total Questions MEAN: 25.0 STD: 0.0 MAX: 25.0 MIN: 25.0\n",
      "How Much Affected Good: Validation: No Minimum MEAN: 1.5278787878787878 STD: 2.3835146244791203 MAX: 27.0 MIN: 0.0\n",
      "How Much Affected Good Sum: Number Total Questions MEAN: 25.0 STD: 0.0 MAX: 25.0 MIN: 25.0\n",
      "How Much Affected Good Mean: Validation: No Minimum MEAN: 1.2670403524584466 STD: 0.9263973549899145 MAX: 3.0 MIN: 0.0\n",
      "How Much Affected Good Mean: Number Total Questions MEAN: 25.0 STD: 0.0 MAX: 25.0 MIN: 25.0\n",
      "How Much Affected Bad Sum: Validation: No Minimum MEAN: 2.00990099009901 STD: 3.561897178144567 MAX: 35.0 MIN: 0.0\n",
      "How Much Affected Bad Sum: Number Total Questions MEAN: 25.0 STD: 0.0 MAX: 25.0 MIN: 25.0\n",
      "How Much Affected Bad Mean: Validation: No Minimum MEAN: 1.9722677156321806 STD: 0.7341198920530264 MAX: 3.0 MIN: 0.0\n",
      "How Much Affected Bad Mean: Number Total Questions MEAN: 25.0 STD: 0.0 MAX: 25.0 MIN: 25.0\n",
      "How Much Affected Mean: Validation: No Minimum MEAN: 1.3345877162928539 STD: 0.7597319749092282 MAX: 3.0 MIN: 0.0\n",
      "How Much Affected Mean: Number Total Questions MEAN: 25.0 STD: 0.0 MAX: 25.0 MIN: 25.0\n",
      "How Much Affected Sum: Validation: No Minimum MEAN: 5.100492390331245 STD: 5.386201220641886 MAX: 54.0 MIN: 0.0\n",
      "How Much Affected Sum: Number Total Questions MEAN: 25.0 STD: 0.0 MAX: 25.0 MIN: 25.0\n"
     ]
    }
   ],
   "source": [
    "le = abcd_dict['abcd_mhp02']['df'].columns[7:27] #could drop every third\n",
    "abcd_summary('abcd_mhp02', le)"
   ]
  },
  {
   "cell_type": "markdown",
   "metadata": {},
   "source": [
    "### KSADS"
   ]
  },
  {
   "cell_type": "code",
   "execution_count": null,
   "metadata": {},
   "outputs": [],
   "source": []
  }
 ],
 "metadata": {
  "kernelspec": {
   "display_name": "Python 3",
   "language": "python",
   "name": "python3"
  },
  "language_info": {
   "codemirror_mode": {
    "name": "ipython",
    "version": 3
   },
   "file_extension": ".py",
   "mimetype": "text/x-python",
   "name": "python",
   "nbconvert_exporter": "python",
   "pygments_lexer": "ipython3",
   "version": "3.6.5"
  }
 },
 "nbformat": 4,
 "nbformat_minor": 4
}
